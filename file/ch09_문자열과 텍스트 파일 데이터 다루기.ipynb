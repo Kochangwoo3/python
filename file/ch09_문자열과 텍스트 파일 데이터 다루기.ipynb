{
 "cells": [
  {
   "cell_type": "markdown",
   "id": "0c8562e0-fdb1-4847-9e43-2984bbf498cb",
   "metadata": {},
   "source": [
    "## 문자열 분리하기 : split"
   ]
  },
  {
   "cell_type": "code",
   "execution_count": 4,
   "id": "8dd7b354-d1c6-44c9-8902-dec921ae52db",
   "metadata": {},
   "outputs": [
    {
     "data": {
      "text/plain": [
       "['에스프레소', '아메리카노', '카페라떼', '카푸치노']"
      ]
     },
     "execution_count": 4,
     "metadata": {},
     "output_type": "execute_result"
    }
   ],
   "source": [
    "coffee_menu_str = \"에스프레소, 아메리카노,    카페라떼  , 카푸치노\"\n",
    "coffee_menu_str.split(\", \")"
   ]
  },
  {
   "cell_type": "code",
   "execution_count": 6,
   "id": "d56a67c9-dc33-456a-93e5-88d52eb08456",
   "metadata": {},
   "outputs": [
    {
     "data": {
      "text/plain": [
       "['에스프레소', '아메리카노', '카페라떼', '카푸치노']"
      ]
     },
     "execution_count": 6,
     "metadata": {},
     "output_type": "execute_result"
    }
   ],
   "source": [
    "\"에스프레소 아메리카노 카페라떼 카푸치노\".split(\" \")"
   ]
  },
  {
   "cell_type": "code",
   "execution_count": 8,
   "id": "3b44b285-a9ef-401a-8cf2-876095917c5d",
   "metadata": {},
   "outputs": [
    {
     "data": {
      "text/plain": [
       "['에스프레소', '아메리카노', '카페라떼', '카푸치노']"
      ]
     },
     "execution_count": 8,
     "metadata": {},
     "output_type": "execute_result"
    }
   ],
   "source": [
    "\"에스프레소 아메리카노 카페라떼 카푸치노\".split()"
   ]
  },
  {
   "cell_type": "code",
   "execution_count": 10,
   "id": "e4b7bb18-43e5-4704-ae44-ca557f3750d1",
   "metadata": {},
   "outputs": [
    {
     "data": {
      "text/plain": [
       "['에스프레소', '아메리카노', '카페라떼', '카푸치노']"
      ]
     },
     "execution_count": 10,
     "metadata": {},
     "output_type": "execute_result"
    }
   ],
   "source": [
    "\"에스프레소\\n\\n 아메리카노  \\n 카페라떼 카푸치노\".split()"
   ]
  },
  {
   "cell_type": "code",
   "execution_count": 12,
   "id": "ddcb4e81-958d-4894-a093-4afeb80a1b1b",
   "metadata": {},
   "outputs": [
    {
     "data": {
      "text/plain": [
       "['에스프레소', '아메리카노', '카페라떼 카푸치노']"
      ]
     },
     "execution_count": 12,
     "metadata": {},
     "output_type": "execute_result"
    }
   ],
   "source": [
    "\"에스프레소 아메리카노 카페라떼 카푸치노\".split(maxsplit=2)"
   ]
  },
  {
   "cell_type": "code",
   "execution_count": 14,
   "id": "7d6abbbb-57f0-41fa-82ce-0be91329c826",
   "metadata": {},
   "outputs": [
    {
     "name": "stdout",
     "output_type": "stream",
     "text": [
      "[':+82', '02-2345-6789']\n"
     ]
    }
   ],
   "source": [
    "# 중요\n",
    "phone_number = \":+82-02-2345-6789\"\n",
    "# 국가번호와 나머지 번호 분리\n",
    "split_num = phone_number.split(\"-\", 1)   # 매개변수(첫번째(구분자), 두번째(분할횟수)) \n",
    "print(split_num)"
   ]
  },
  {
   "cell_type": "code",
   "execution_count": 16,
   "id": "7634c565-3abb-4bb0-a457-0b76aef65b25",
   "metadata": {},
   "outputs": [
    {
     "name": "stdout",
     "output_type": "stream",
     "text": [
      "02-2345-6789\n"
     ]
    }
   ],
   "source": [
    "print(split_num[1])"
   ]
  },
  {
   "cell_type": "markdown",
   "id": "21f3722b-f53f-4b19-bbe1-bbace29703e9",
   "metadata": {},
   "source": [
    "## 필요없는 문자열 삭제하기 : strip([chars])"
   ]
  },
  {
   "cell_type": "code",
   "execution_count": 19,
   "id": "b3c1de80-fde2-49c9-a845-f4326bba20d0",
   "metadata": {},
   "outputs": [
    {
     "data": {
      "text/plain": [
       "'Python'"
      ]
     },
     "execution_count": 19,
     "metadata": {},
     "output_type": "execute_result"
    }
   ],
   "source": [
    "str  = \"   Python  \"\n",
    "str.strip()"
   ]
  },
  {
   "cell_type": "code",
   "execution_count": 21,
   "id": "c2c8cced-ddc5-40e2-8323-3e8f6ff161f4",
   "metadata": {},
   "outputs": [
    {
     "name": "stdout",
     "output_type": "stream",
     "text": [
      "---Python is easy to learn!!!!\n"
     ]
    }
   ],
   "source": [
    "str_lr = \"---Python is easy to learn!!!!\"\n",
    "print(str_lr.strip())"
   ]
  },
  {
   "cell_type": "code",
   "execution_count": 27,
   "id": "73f47ec4-d794-4b66-9154-4263a9635e3b",
   "metadata": {},
   "outputs": [
    {
     "name": "stdout",
     "output_type": "stream",
     "text": [
      "Python is easy to learn!!!!\n",
      "Python is easy to learn!!!!\n"
     ]
    }
   ],
   "source": [
    "print(str_lr.lstrip('-'))\n",
    "rstr = str_lr.lstrip('-')\n",
    "print(rstr)"
   ]
  },
  {
   "cell_type": "code",
   "execution_count": 25,
   "id": "d4862ed9-1f78-4b10-bb81-36b974222885",
   "metadata": {},
   "outputs": [
    {
     "name": "stdout",
     "output_type": "stream",
     "text": [
      "---Python is easy to learn\n"
     ]
    }
   ],
   "source": [
    "print(str_lr.rstrip('!'))"
   ]
  },
  {
   "cell_type": "code",
   "execution_count": 29,
   "id": "e8a11e0d-701d-4119-8ddb-16e1a9d67082",
   "metadata": {},
   "outputs": [
    {
     "name": "stdout",
     "output_type": "stream",
     "text": [
      "Python is easy to learn\n"
     ]
    }
   ],
   "source": [
    "print(rstr.rstrip('!'))"
   ]
  },
  {
   "cell_type": "code",
   "execution_count": 31,
   "id": "1e75fa17-5609-4f09-84ac-8b1475f21867",
   "metadata": {},
   "outputs": [
    {
     "data": {
      "text/plain": [
       "['에스프레소', '    아메리카노', '           카페라떼   ', ' 카푸치노   ']"
      ]
     },
     "execution_count": 31,
     "metadata": {},
     "output_type": "execute_result"
    }
   ],
   "source": [
    "coffee_menu = \"에스프레소,    아메리카노,           카페라떼   , 카푸치노   \"\n",
    "coffee_menu_list = coffee_menu.split(',')\n",
    "coffee_menu_list"
   ]
  },
  {
   "cell_type": "code",
   "execution_count": 33,
   "id": "b226fcc3-ccc6-4e8c-bcf4-3c2a5522dd65",
   "metadata": {},
   "outputs": [
    {
     "name": "stdout",
     "output_type": "stream",
     "text": [
      "['에스프레소', '아메리카노', '카페라떼', '카푸치노']\n"
     ]
    }
   ],
   "source": [
    "coffee_list = []\n",
    "for coffee in coffee_menu_list:\n",
    "    temp = coffee.strip() # 문자열 공백 제거\n",
    "    coffee_list.append(temp)\n",
    "\n",
    "print(coffee_list)"
   ]
  },
  {
   "cell_type": "markdown",
   "id": "078dd49d-d3fb-48d3-986d-43f8a7a0335e",
   "metadata": {},
   "source": [
    "## 문자열 연결하기  : join"
   ]
  },
  {
   "cell_type": "code",
   "execution_count": 36,
   "id": "57948309-3f71-4f6d-adf5-02a31512311d",
   "metadata": {},
   "outputs": [
    {
     "data": {
      "text/plain": [
       "'서울시 서초구 반포대로 201(반포동)'"
      ]
     },
     "execution_count": 36,
     "metadata": {},
     "output_type": "execute_result"
    }
   ],
   "source": [
    "address_list = [\"서울시\", \"서초구\", \"반포대로\", \"201(반포동)\"]\n",
    "a = \" \"\n",
    "a.join(address_list)"
   ]
  },
  {
   "cell_type": "code",
   "execution_count": 38,
   "id": "33c7d241-bc1f-47fd-89f3-0471f76a328a",
   "metadata": {},
   "outputs": [
    {
     "data": {
      "text/plain": [
       "'서울시 서초구 반포대로 201(반포동)'"
      ]
     },
     "execution_count": 38,
     "metadata": {},
     "output_type": "execute_result"
    }
   ],
   "source": [
    "\" \".join(address_list)"
   ]
  },
  {
   "cell_type": "code",
   "execution_count": 40,
   "id": "f65ac0bb-91a3-4498-b0ec-4b7108cc9e6b",
   "metadata": {},
   "outputs": [
    {
     "data": {
      "text/plain": [
       "'서울시*^-^*서초구*^-^*반포대로*^-^*201(반포동)'"
      ]
     },
     "execution_count": 40,
     "metadata": {},
     "output_type": "execute_result"
    }
   ],
   "source": [
    "\"*^-^*\".join(address_list)"
   ]
  },
  {
   "cell_type": "markdown",
   "id": "636a66a7-62de-43e6-903e-181d335076c8",
   "metadata": {},
   "source": [
    "## 문자열 찾기 : find(search_str)\n",
    "- 첫 번째로 일치하는 문자열의 인덱스 위치"
   ]
  },
  {
   "cell_type": "code",
   "execution_count": 46,
   "id": "fc2e99c6-22d1-4a9c-9649-c08b093ff413",
   "metadata": {},
   "outputs": [
    {
     "data": {
      "text/plain": [
       "0"
      ]
     },
     "execution_count": 46,
     "metadata": {},
     "output_type": "execute_result"
    }
   ],
   "source": [
    "str_f = \"Python code .~~~~~~~~ Python code.\"\n",
    "str_f.find(\"Python\")"
   ]
  },
  {
   "cell_type": "code",
   "execution_count": 50,
   "id": "d68891ba-47d0-4a26-b26c-927caf5e60a3",
   "metadata": {},
   "outputs": [
    {
     "data": {
      "text/plain": [
       "29"
      ]
     },
     "execution_count": 50,
     "metadata": {},
     "output_type": "execute_result"
    }
   ],
   "source": [
    "str_f = \"Python code .~~~~~~~~ Python code.\"\n",
    "str_f.find(\"code\", 10)"
   ]
  },
  {
   "cell_type": "code",
   "execution_count": 52,
   "id": "7b5418bd-8621-4c65-88fa-090e959b88eb",
   "metadata": {},
   "outputs": [
    {
     "data": {
      "text/plain": [
       "-1"
      ]
     },
     "execution_count": 52,
     "metadata": {},
     "output_type": "execute_result"
    }
   ],
   "source": [
    "str_f.find(\"easy\")"
   ]
  },
  {
   "cell_type": "markdown",
   "id": "26e15086-39ee-42e2-bcee-e569bcf2472a",
   "metadata": {},
   "source": [
    "## 문자열 바꾸기 : replace (old, new, [count])"
   ]
  },
  {
   "cell_type": "code",
   "execution_count": 57,
   "id": "4f950f33-faa2-4958-bd15-7012978fd489",
   "metadata": {},
   "outputs": [
    {
     "name": "stdout",
     "output_type": "stream",
     "text": [
      "IPython is fast. IPython is friendly. IPython is open\n"
     ]
    }
   ],
   "source": [
    "str_a = \"Python is fast. Python is friendly. Python is open\"\n",
    "print(str_a.replace('Python', 'IPython'))"
   ]
  },
  {
   "cell_type": "code",
   "execution_count": 59,
   "id": "200eef3e-9364-444d-8c5e-d2a095b766c3",
   "metadata": {},
   "outputs": [
    {
     "name": "stdout",
     "output_type": "stream",
     "text": [
      "IPython is fast. IPython is friendly. Python is open\n"
     ]
    }
   ],
   "source": [
    "print(str_a.replace('Python', 'IPython', 2))"
   ]
  },
  {
   "cell_type": "markdown",
   "id": "6b3936ec-6603-4727-a163-7fa210fc3aae",
   "metadata": {},
   "source": [
    "## 문자열 구성 확인 \n",
    "- isalpha() : 문자로 구성\n",
    "- isdigit() : 숫자로 구성\n",
    "- isalnum() : 문자 나 숫자\n",
    "- isupper() : 대문자\n",
    "- islower() : 소문자"
   ]
  },
  {
   "cell_type": "code",
   "execution_count": 63,
   "id": "4f6b4c4f-d2ae-466a-a733-8622cee3d829",
   "metadata": {},
   "outputs": [
    {
     "name": "stdout",
     "output_type": "stream",
     "text": [
      "날짜    에스프레소  아메리카노  카페라테  카푸치노\n",
      "10.15       10  \t50         45       20   \n",
      "10.16       12\t\t45         41       18\n",
      "10.17       11\t\t53         32       25\n",
      "10.18       15\t\t49         38       22\n"
     ]
    }
   ],
   "source": [
    "!type D:\\DEV\\myPyCode\\data\\coffeeShopSales.txt"
   ]
  },
  {
   "cell_type": "code",
   "execution_count": 73,
   "id": "5413325a-675b-450b-bc0e-9d876f3f6bbf",
   "metadata": {},
   "outputs": [
    {
     "name": "stdout",
     "output_type": "stream",
     "text": [
      "에스프레소: [10, 12, 11, 15]\n",
      "아메리카노: [50, 45, 53, 49]\n",
      "카페라테: [45, 41, 32, 38]\n",
      "카푸치노: [20, 18, 25, 22]\n"
     ]
    },
    {
     "name": "stderr",
     "output_type": "stream",
     "text": [
      "<>:2: SyntaxWarning: invalid escape sequence '\\D'\n",
      "<>:2: SyntaxWarning: invalid escape sequence '\\D'\n",
      "C:\\Users\\Kosmo\\AppData\\Local\\Temp\\ipykernel_8908\\2737579572.py:2: SyntaxWarning: invalid escape sequence '\\D'\n",
      "  file_name = 'D:\\DEV\\myPyCode\\data\\coffeeShopSales.txt'\n"
     ]
    }
   ],
   "source": [
    "# 커피종류별 매출량과 일별 매출실적과 평균 판매량을 출력하시요\n",
    "file_name = 'D:\\DEV\\myPyCode\\data\\coffeeShopSales.txt'\n",
    "f = open(file_name)\n",
    "header = f.readline()\n",
    "header_list = header.split()  # ['날짜', '에스프레소', '아메리카노', '카페라테', '카푸치노' ]\n",
    "# 커피종류별로 빈 리스트 생성\n",
    "espresso = []\n",
    "americano = []\n",
    "cafelatte = []\n",
    "capucino = []\n",
    "\n",
    "for line in f:\n",
    "    data_list = line.split()\n",
    "    #print(data_list)\n",
    "    # 커피 종류별로 매출량 리스트 생성\n",
    "    espresso.append(int(data_list[1]))\n",
    "    americano.append(int(data_list[2]))\n",
    "    cafelatte.append(int(data_list[3]))\n",
    "    capucino.append(int(data_list[4]))\n",
    "\n",
    "f.close()\n",
    "\n",
    "print(\"{0}: {1}\".format(header_list[1], espresso))\n",
    "print(\"{0}: {1}\".format(header_list[2], americano))\n",
    "print(\"{0}: {1}\".format(header_list[3], cafelatte))\n",
    "print(\"{0}: {1}\".format(header_list[4], capucino))"
   ]
  },
  {
   "cell_type": "code",
   "execution_count": 81,
   "id": "ebeaf42e-f722-4408-8854-d29d9277a63a",
   "metadata": {},
   "outputs": [
    {
     "name": "stdout",
     "output_type": "stream",
     "text": [
      "[에스프레소] 판매량\n",
      " - 전체 합계: 48, 하루 평균: 12.0\n",
      "[아메리카노] 판매량\n",
      " - 전체 합계: 197, 하루 평균: 49.25\n",
      "[카페라테] 판매량\n",
      " - 전체 합계: 156, 하루 평균: 39.0\n",
      "[카푸치노] 판매량\n",
      " - 전체 합계: 85, 하루 평균: 21.25\n"
     ]
    }
   ],
   "source": [
    "total_sum = [sum(espresso), sum(americano), sum(cafelatte), sum(capucino)]\n",
    "#print(total_sum)      [48, 197, 156, 85]\n",
    "total_mean = [\n",
    "    sum(espresso) / len(espresso), sum(americano) / len(americano), \n",
    "    sum(cafelatte) / len(cafelatte), sum(capucino) / len(capucino)\n",
    "]\n",
    "# print(total_mean)    [12.0, 49.25, 39.0, 21.25]\n",
    "for k in range(len(total_sum)):   #  range(4)  =>  [0, 1, 2, 3]\n",
    "    print(\"[{}] 판매량\".format(header_list[k+1]))\n",
    "    print(\" - 전체 합계: {0}, 하루 평균: {1}\".format(total_sum[k], total_mean[k]))\n"
   ]
  },
  {
   "cell_type": "code",
   "execution_count": null,
   "id": "f263a625-7a84-4983-af82-68c7e6326042",
   "metadata": {},
   "outputs": [],
   "source": []
  }
 ],
 "metadata": {
  "kernelspec": {
   "display_name": "Python 3 (ipykernel)",
   "language": "python",
   "name": "python3"
  },
  "language_info": {
   "codemirror_mode": {
    "name": "ipython",
    "version": 3
   },
   "file_extension": ".py",
   "mimetype": "text/x-python",
   "name": "python",
   "nbconvert_exporter": "python",
   "pygments_lexer": "ipython3",
   "version": "3.12.4"
  }
 },
 "nbformat": 4,
 "nbformat_minor": 5
}
