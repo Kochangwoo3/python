{
 "cells": [
  {
   "cell_type": "code",
   "execution_count": 1,
   "id": "578acffd-5dac-40db-b8d7-a261cb389e8f",
   "metadata": {},
   "outputs": [],
   "source": [
    "class Bicycle():\n",
    "    pass"
   ]
  },
  {
   "cell_type": "code",
   "execution_count": 3,
   "id": "ffec47a5-1810-4343-b8ec-52124773cfa1",
   "metadata": {},
   "outputs": [],
   "source": [
    "my_bicycle = Bicycle()"
   ]
  },
  {
   "cell_type": "code",
   "execution_count": 5,
   "id": "80ab493f-5c92-4b80-bf58-24424f0e076c",
   "metadata": {},
   "outputs": [
    {
     "data": {
      "text/plain": [
       "<__main__.Bicycle at 0x1c279f85400>"
      ]
     },
     "execution_count": 5,
     "metadata": {},
     "output_type": "execute_result"
    }
   ],
   "source": [
    "my_bicycle"
   ]
  },
  {
   "cell_type": "code",
   "execution_count": 7,
   "id": "6d86492e-aea7-4b5c-8945-eb1baeaa2b21",
   "metadata": {},
   "outputs": [
    {
     "data": {
      "text/plain": [
       "__main__.Bicycle"
      ]
     },
     "execution_count": 7,
     "metadata": {},
     "output_type": "execute_result"
    }
   ],
   "source": [
    "type(my_bicycle)"
   ]
  },
  {
   "cell_type": "code",
   "execution_count": 9,
   "id": "87479232-9613-43e7-841c-b903cbcce041",
   "metadata": {},
   "outputs": [],
   "source": [
    "my_bicycle.wheel_size = 26\n",
    "my_bicycle.color = 'black'"
   ]
  },
  {
   "cell_type": "code",
   "execution_count": 11,
   "id": "42bc4363-8274-4e41-94dc-279b84fbf484",
   "metadata": {},
   "outputs": [
    {
     "name": "stdout",
     "output_type": "stream",
     "text": [
      "바퀴 크기:  26\n"
     ]
    }
   ],
   "source": [
    "print('바퀴 크기: ', my_bicycle.wheel_size)"
   ]
  },
  {
   "cell_type": "code",
   "execution_count": 13,
   "id": "ae0af175-b619-40a9-b058-97d685eb60f4",
   "metadata": {},
   "outputs": [
    {
     "name": "stdout",
     "output_type": "stream",
     "text": [
      "black\n"
     ]
    }
   ],
   "source": [
    "print(my_bicycle.color)"
   ]
  },
  {
   "cell_type": "code",
   "execution_count": 19,
   "id": "7c88cae1-acf1-4a95-9798-e41c6c470ae8",
   "metadata": {},
   "outputs": [],
   "source": [
    "class Bicycle():\n",
    "    def move(self, speed):\n",
    "        print(\"자전거: 시속 {0}킬로미터로 전진\".format(speed))\n",
    "    def turn(self, direction):\n",
    "        print(\"자전거: {0}회전\".format(direction))\n",
    "    def stop(self):\n",
    "        print(\"자전거({0}, {1}): 정지 \".format(self.wheel_size, self.color))\n",
    "    "
   ]
  },
  {
   "cell_type": "code",
   "execution_count": 25,
   "id": "e9bc4e58-897e-4bd1-992e-2bb236c7aa85",
   "metadata": {},
   "outputs": [
    {
     "name": "stdout",
     "output_type": "stream",
     "text": [
      "자전거: 시속 30킬로미터로 전진\n",
      "자전거: 좌회전\n",
      "자전거(26, blue): 정지 \n"
     ]
    }
   ],
   "source": [
    "my_bicycle = Bicycle()\n",
    "my_bicycle.wheel_size = 26\n",
    "my_bicycle.color = 'blue'\n",
    "my_bicycle.move(30)\n",
    "my_bicycle.turn('좌')\n",
    "my_bicycle.stop()"
   ]
  },
  {
   "cell_type": "markdown",
   "id": "c6947254-b1e3-4bd7-9ac6-6f97f06e60a2",
   "metadata": {},
   "source": [
    "# 생성자"
   ]
  },
  {
   "cell_type": "code",
   "execution_count": 34,
   "id": "6a18bd9d-f062-4b5d-86af-832cdfe974ac",
   "metadata": {},
   "outputs": [],
   "source": [
    "class Bike():\n",
    "    def __init__(self, wheel_size, color):\n",
    "        self.wheel_size = wheel_size  #인스턴스 변수\n",
    "        self.color = color # 인스턴스 변수\n",
    "\n",
    "    def move(self, speed):\n",
    "        print(\"오토바이: 시속 {0} 킬로미터로 전진\".format(speed))\n",
    "    def turn(self, direction):\n",
    "        print(\"오토바이: {0}회전\".format(direction))\n",
    "    def stop(self):\n",
    "        print(\"오토바이({0}, {1})\".format(self.wheel_size, self.color))\n",
    "                "
   ]
  },
  {
   "cell_type": "code",
   "execution_count": 36,
   "id": "78719ab3-8376-4e54-90dd-c6be65119c3d",
   "metadata": {},
   "outputs": [
    {
     "name": "stdout",
     "output_type": "stream",
     "text": [
      "오토바이: 시속 80 킬로미터로 전진\n",
      "오토바이: 우회전\n",
      "오토바이(26, black)\n"
     ]
    }
   ],
   "source": [
    "bike1 = Bike(26, 'black')\n",
    "bike1.move(80)\n",
    "bike1.turn('우')\n",
    "bike1.stop()"
   ]
  },
  {
   "cell_type": "markdown",
   "id": "c82c66e9-6699-4896-9a10-48286973da2b",
   "metadata": {},
   "source": [
    "## 클래스에서 사용하는 변수( 클래스 변수, 인스턴스 변수 )\n",
    "- 클래스변수는 클래스명.변수명 형식으로 접근할 수 있음"
   ]
  },
  {
   "cell_type": "code",
   "execution_count": 40,
   "id": "3b1042e5-e7a0-46b8-93dd-d53bfabf1028",
   "metadata": {},
   "outputs": [],
   "source": [
    "class Car():\n",
    "    instance_count = 0        # 클래스변수 생성 및 초기화\n",
    "    # 생성자\n",
    "    def __init__(self, size, color):\n",
    "        self.size = size   # 인스턴스 변수\n",
    "        self.color = color # 인스턴스 변수\n",
    "        Car.instance_count = Car.instance_count + 1  # 인스턴스 카운트 증가 \n",
    "        print(\"자동차 객체의 수: {0}\".format(Car.instance_count))\n",
    "    \n",
    "    def move(self):\n",
    "        print(\"자동차 ({0} & {1}) 가 움직입니다.\".format(self.size, self.color))    "
   ]
  },
  {
   "cell_type": "code",
   "execution_count": 42,
   "id": "afdc7651-a676-49e6-8f33-1196cad92fae",
   "metadata": {},
   "outputs": [
    {
     "name": "stdout",
     "output_type": "stream",
     "text": [
      "자동차 객체의 수: 1\n",
      "자동차 객체의 수: 2\n"
     ]
    }
   ],
   "source": [
    "car1 = Car('small', 'white')\n",
    "car2 = Car('big', 'black')"
   ]
  },
  {
   "cell_type": "code",
   "execution_count": 44,
   "id": "a460d997-9ba8-4b08-8bfc-8de220a7d7d1",
   "metadata": {},
   "outputs": [
    {
     "name": "stdout",
     "output_type": "stream",
     "text": [
      "Car 인스턴스 개수: 2\n"
     ]
    }
   ],
   "source": [
    "print(\"Car 인스턴스 개수: {}\".format(Car.instance_count))"
   ]
  },
  {
   "cell_type": "code",
   "execution_count": 46,
   "id": "1db75c25-472f-418f-ab86-3f436460120f",
   "metadata": {},
   "outputs": [
    {
     "name": "stdout",
     "output_type": "stream",
     "text": [
      "2\n"
     ]
    }
   ],
   "source": [
    "print(car1.instance_count)"
   ]
  },
  {
   "cell_type": "code",
   "execution_count": 48,
   "id": "377e2dbf-3b63-4d2d-92f4-3ae652c13f10",
   "metadata": {},
   "outputs": [
    {
     "name": "stdout",
     "output_type": "stream",
     "text": [
      "2\n"
     ]
    }
   ],
   "source": [
    "print(car2.instance_count)"
   ]
  },
  {
   "cell_type": "code",
   "execution_count": 50,
   "id": "f72bf7f3-0360-4205-a6e0-e2abf6ace260",
   "metadata": {},
   "outputs": [
    {
     "name": "stdout",
     "output_type": "stream",
     "text": [
      "자동차 (small & white) 가 움직입니다.\n",
      "자동차 (big & black) 가 움직입니다.\n"
     ]
    }
   ],
   "source": [
    "car1.move()  # 인스턴스 변수는 각 객체에서 별도로 관리합니다.\n",
    "car2.move()"
   ]
  },
  {
   "cell_type": "markdown",
   "id": "9791cae3-54b7-4b5a-ac36-20bdd5b254f7",
   "metadata": {},
   "source": [
    "##### 파이썬에서는 정적변수 대신 클래스변수 사용하여 클래스 레벨에서 값을관리\n",
    "##### 모든 인스턴스가 공유하는 값을 저장하며, 다른언어에서의 정적변수와 유사한 역할을 함"
   ]
  },
  {
   "cell_type": "markdown",
   "id": "10b1a382-28e0-461e-8ce7-1d948ba1435a",
   "metadata": {},
   "source": [
    "## 파이썬 클래스에서 사용하는 메서드\n",
    "- 인스턴스 메서드, 정적메서드, 클래스 메서드"
   ]
  },
  {
   "cell_type": "code",
   "execution_count": 24,
   "id": "9dc142d3-95ff-4d0f-a084-ad3facc526d3",
   "metadata": {},
   "outputs": [],
   "source": [
    "class Car():\n",
    "    instance_count = 0  # 클래스 변수 생성\n",
    "    # 생성자\n",
    "    def __init__(self, size, color):\n",
    "        self.size = size\n",
    "        self.color = color\n",
    "        Car.instance_count = Car.instance_count + 1  # 클래스 변수 이용 객체건수 증가\n",
    "        #print(\"자동차 객체의 수: {0}\".format(Car.instance_count))\n",
    "    # 인스턴스 메서드\n",
    "    def move(self, speed):\n",
    "        self.speed = speed   # 인스턴스 변수 생성\n",
    "        print(\"자동차 ({0} & {1}) 가 움직입니다\".format(self.size, self.color))\n",
    "        print(\"시속 {0}킬로미터로 전진\".format(self.speed))\n",
    "\n",
    "    # 인스턴스 메서드\n",
    "    def auto_cruise(self):\n",
    "        print(\"자율 주행 모드\")\n",
    "        self.move(self.speed)\n",
    "\n",
    "    # @staticmethod 데코레이터 사용 - 정적메서드 생성\n",
    "    # 정적 메서드 : 일반 함수 처럼 필요한 매개변수만 사용\n",
    "    @staticmethod\n",
    "    def check_type(model_code):\n",
    "        if(model_code >= 20):\n",
    "            print(\"이 자동차는 전기차입니다.\")\n",
    "        elif( 10 <= model_code < 20 ):\n",
    "            print(\"이 자동차는 가솔린차입니다.\")\n",
    "        else:\n",
    "            print(\"이 자동차는 디젤차입니다.\")\n",
    "                  \n",
    "    # 클래스 메서드  @classmethod 를 사용\n",
    "    # 함수 정의 시 첫번째인자로 cls  가 필요\n",
    "    # 클래스 전체에서 관리해야할 기능이 있을때 사용, 클래스 변수 사용\n",
    "    @classmethod\n",
    "    def count_instance(cls):\n",
    "        print(\"자동차 객체의 개수: {0}\".format(cls.instance_count))\n",
    "        "
   ]
  },
  {
   "cell_type": "code",
   "execution_count": 28,
   "id": "4df8df85-e0df-45b3-87ea-2ccb3dbfe86a",
   "metadata": {},
   "outputs": [
    {
     "name": "stdout",
     "output_type": "stream",
     "text": [
      "자동차 객체의 개수: 1\n",
      "자동차 객체의 개수: 2\n",
      "자동차 객체의 개수: 3\n"
     ]
    }
   ],
   "source": [
    "Car.count_instance()\n",
    "car1 = Car(\"small\", \"red\")\n",
    "Car.count_instance()\n",
    "car2 = Car(\"big\", \"green\")\n",
    "Car.count_instance()"
   ]
  },
  {
   "cell_type": "code",
   "execution_count": null,
   "id": "f79975ab-1fa5-42ae-bb74-35c44796b09c",
   "metadata": {},
   "outputs": [],
   "source": []
  },
  {
   "cell_type": "code",
   "execution_count": 14,
   "id": "8c26cf23-7911-42f2-91a0-728c9c82b7bf",
   "metadata": {},
   "outputs": [
    {
     "name": "stdout",
     "output_type": "stream",
     "text": [
      "이 자동차는 전기차입니다.\n"
     ]
    }
   ],
   "source": [
    "Car.check_type(25)"
   ]
  },
  {
   "cell_type": "code",
   "execution_count": 10,
   "id": "769717e3-b8f4-483e-8d6d-c765dfd45e48",
   "metadata": {},
   "outputs": [
    {
     "name": "stdout",
     "output_type": "stream",
     "text": [
      "자동차 객체의 수: 3\n",
      "자동차 객체의 수: 4\n",
      "자동차 (small & red) 가 움직입니다\n",
      "시속 80킬로미터로 전진\n",
      "자동차 (big & green) 가 움직입니다\n",
      "시속 100킬로미터로 전진\n",
      "\n",
      "자율 주행 모드\n",
      "자동차 (small & red) 가 움직입니다\n",
      "시속 80킬로미터로 전진\n",
      "자율 주행 모드\n",
      "자동차 (big & green) 가 움직입니다\n",
      "시속 100킬로미터로 전진\n"
     ]
    }
   ],
   "source": [
    "car1 = Car(\"small\", \"red\")\n",
    "car2 = Car(\"big\", \"green\")\n",
    "\n",
    "car1.move(80)\n",
    "car2.move(100)\n",
    "print('')\n",
    "car1.auto_cruise()\n",
    "car2.auto_cruise()\n",
    "\n",
    "\n"
   ]
  },
  {
   "cell_type": "markdown",
   "id": "f1f11bef-d09b-4429-b997-5759337f989b",
   "metadata": {},
   "source": [
    "# 객체와 클래스를 사용하는 이유\n",
    "- 로봇의 속성: 이름, 위치\n",
    "- 로봇의 동작: 한칸 이동\n",
    "  "
   ]
  },
  {
   "cell_type": "code",
   "execution_count": 37,
   "id": "986cb154-bb0b-4ab8-9f20-c8cf74e077f4",
   "metadata": {},
   "outputs": [],
   "source": [
    "robot1_name = 'R1'\n",
    "robot1_pos = 0  # 초기위치\n",
    "\n",
    "def robot1_move():\n",
    "    global robot1_pos   # 전역변수를 함수안에서 사용 시 global 키워드 사용\n",
    "    robot1_pos = robot1_pos + 1\n",
    "    print(\"{0} position: {1}\".format(robot1_name, robot1_pos))\n",
    "\n",
    "robot2_name = 'R2'\n",
    "robot2_pos = 0  # 초기위치\n",
    "\n",
    "def robot2_move():\n",
    "    global robot2_pos   # 전역변수를 함수안에서 사용 시 global 키워드 사용\n",
    "    robot2_pos = robot2_pos + 1\n",
    "    print(\"{0} position: {1}\".format(robot2_name, robot2_pos))\n"
   ]
  },
  {
   "cell_type": "code",
   "execution_count": 39,
   "id": "b5f3316a-0ff9-472a-8433-392500901e0b",
   "metadata": {},
   "outputs": [
    {
     "name": "stdout",
     "output_type": "stream",
     "text": [
      "R1 position: 1\n",
      "R2 position: 1\n"
     ]
    }
   ],
   "source": [
    "robot1_move()\n",
    "robot2_move()"
   ]
  },
  {
   "cell_type": "code",
   "execution_count": 43,
   "id": "521968d0-0aeb-478f-8568-9de0370a4fee",
   "metadata": {},
   "outputs": [],
   "source": [
    "class Robot():\n",
    "    def __init__(self, name, pos):\n",
    "        self.name = name\n",
    "        self.pos = pos\n",
    "    def move(self):\n",
    "        self.pos = self.pos + 1\n",
    "        print(\"{0} position: {1}\".format(self.name, self.pos))\n",
    "    "
   ]
  },
  {
   "cell_type": "code",
   "execution_count": 45,
   "id": "b1d89cbd-6b88-44cf-becb-f691be7d80f8",
   "metadata": {},
   "outputs": [],
   "source": [
    "robot1 = Robot('R1', 0)\n",
    "robot2 = Robot('R2', 10)"
   ]
  },
  {
   "cell_type": "code",
   "execution_count": 47,
   "id": "886febdf-8126-4dd5-95d6-cb2ed0c43632",
   "metadata": {},
   "outputs": [
    {
     "name": "stdout",
     "output_type": "stream",
     "text": [
      "R1 position: 1\n"
     ]
    }
   ],
   "source": [
    "robot1.move()"
   ]
  },
  {
   "cell_type": "code",
   "execution_count": 49,
   "id": "109ce64c-f2e0-4a12-a3b6-9de79e3d0cfe",
   "metadata": {},
   "outputs": [
    {
     "name": "stdout",
     "output_type": "stream",
     "text": [
      "R2 position: 11\n"
     ]
    }
   ],
   "source": [
    "robot2.move()"
   ]
  },
  {
   "cell_type": "markdown",
   "id": "2ff32327-053a-4931-af2d-9114c67fedce",
   "metadata": {},
   "source": [
    "# 8.4 클래스 상속\n",
    "- 부모클래스 (상위클래스 혹은 슈퍼클래스)\n",
    "- 자식클래스 (하위클래스 혹은 서브클래스)"
   ]
  },
  {
   "cell_type": "code",
   "execution_count": 54,
   "id": "ddd730a9-dd7b-49d1-944f-62155702c644",
   "metadata": {},
   "outputs": [],
   "source": [
    "class Bicycle():\n",
    "    def __init__(self, wheel_size, color):\n",
    "        self.wheel_size = wheel_size \n",
    "        self.color = color\n",
    "        \n",
    "    def move(self, speed):\n",
    "        print(\"자전거: 시속 {0} 킬로미터로 전진\".format(speed))\n",
    "    def turn(self, direction):\n",
    "        print(\"자전거: {0}회전\".format(direction))\n",
    "    def stop(self):\n",
    "        print(\"자전거({0}, {1}): 정지 \".format(self.wheel_size, self.color))\n",
    "        "
   ]
  },
  {
   "cell_type": "code",
   "execution_count": 56,
   "id": "546bac6b-8cf5-498d-a988-07fefb28c756",
   "metadata": {},
   "outputs": [],
   "source": [
    "class FoldingBicycle(Bicycle):\n",
    "    def __init__(self, wheel_size, color, state):\n",
    "        super().__init__(wheel_size, color)      # super() 사용 시는 파라미터 에서 self가 없어야 한다.\n",
    "        self.state = state    #  자식클래스 에서 새로 추가한 인스턴스 변수\n",
    "    \n",
    "    def fold(self):\n",
    "        self.state = 'folding'\n",
    "        print(\"자전거: 접기, state = {0}\".format(self.state))\n",
    "    def unfold(self):\n",
    "        self.state = 'unfolding'\n",
    "        print(\"자전거: 펴기, state = {0}\".format(self.state))  \n"
   ]
  },
  {
   "cell_type": "code",
   "execution_count": 58,
   "id": "4c62f544-02a8-4792-beb2-2421e15c92f7",
   "metadata": {},
   "outputs": [],
   "source": [
    "folding_bicycle  = FoldingBicycle(27, 'white', 'unfolding')  # 하위 객체 생성"
   ]
  },
  {
   "cell_type": "code",
   "execution_count": 60,
   "id": "1a081a06-625c-4622-acf5-b32c361823aa",
   "metadata": {},
   "outputs": [
    {
     "name": "stdout",
     "output_type": "stream",
     "text": [
      "자전거: 시속 20 킬로미터로 전진\n"
     ]
    }
   ],
   "source": [
    "folding_bicycle.move(20)"
   ]
  },
  {
   "cell_type": "code",
   "execution_count": 62,
   "id": "e0454895-6a88-41d9-abc0-637c5bb469d0",
   "metadata": {},
   "outputs": [
    {
     "name": "stdout",
     "output_type": "stream",
     "text": [
      "자전거: 접기, state = folding\n"
     ]
    }
   ],
   "source": [
    "folding_bicycle.fold()"
   ]
  },
  {
   "cell_type": "code",
   "execution_count": 64,
   "id": "5faaa5ad-ae92-4f32-a9b6-5ab688c7be22",
   "metadata": {},
   "outputs": [
    {
     "name": "stdout",
     "output_type": "stream",
     "text": [
      "자전거: 펴기, state = unfolding\n"
     ]
    }
   ],
   "source": [
    "folding_bicycle.unfold()"
   ]
  },
  {
   "cell_type": "code",
   "execution_count": null,
   "id": "a9a18a11-c054-47f9-b238-a5b782017605",
   "metadata": {},
   "outputs": [],
   "source": []
  }
 ],
 "metadata": {
  "kernelspec": {
   "display_name": "Python 3 (ipykernel)",
   "language": "python",
   "name": "python3"
  },
  "language_info": {
   "codemirror_mode": {
    "name": "ipython",
    "version": 3
   },
   "file_extension": ".py",
   "mimetype": "text/x-python",
   "name": "python",
   "nbconvert_exporter": "python",
   "pygments_lexer": "ipython3",
   "version": "3.12.4"
  }
 },
 "nbformat": 4,
 "nbformat_minor": 5
}
