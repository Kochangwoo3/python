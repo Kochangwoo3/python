{
 "cells": [
  {
   "cell_type": "markdown",
   "id": "722dfc58-5b8d-466c-a8ec-afc2ac0f9c3e",
   "metadata": {},
   "source": [
    "# 함수란\n",
    "- 특정 기능을 수행하는 코드의 묶음"
   ]
  },
  {
   "cell_type": "code",
   "execution_count": 88,
   "id": "042e920f-26b3-4475-a0c7-80f9a0477761",
   "metadata": {},
   "outputs": [],
   "source": [
    "def add(a, b): # 매개변수: 함수의 입력으로 전달된 값\n",
    "    return a + b"
   ]
  },
  {
   "cell_type": "code",
   "execution_count": 90,
   "id": "07741675-9f7b-49d4-9d5d-8ccf3442d71a",
   "metadata": {},
   "outputs": [
    {
     "name": "stdout",
     "output_type": "stream",
     "text": [
      "7\n"
     ]
    }
   ],
   "source": [
    "a = 3\n",
    "b = 4\n",
    "c = add(a, b)\n",
    "print(c)"
   ]
  },
  {
   "cell_type": "code",
   "execution_count": 4,
   "id": "cc8103bc-ee79-4728-b9bd-b2c186caa811",
   "metadata": {},
   "outputs": [],
   "source": [
    "def add(a, b):\n",
    "    print(\"%d, %d의 합은 %d입니다.\" % (a, b, a+b))"
   ]
  },
  {
   "cell_type": "code",
   "execution_count": 5,
   "id": "7bd52afa-84f2-414f-a487-5499db61a7f8",
   "metadata": {},
   "outputs": [
    {
     "name": "stdout",
     "output_type": "stream",
     "text": [
      "3, 4의 합은 7입니다.\n"
     ]
    }
   ],
   "source": [
    "a = add(3, 4)"
   ]
  },
  {
   "cell_type": "code",
   "execution_count": 6,
   "id": "9f972387-0cd0-47f4-830c-9157ea6ba70c",
   "metadata": {},
   "outputs": [
    {
     "name": "stdout",
     "output_type": "stream",
     "text": [
      "None\n"
     ]
    }
   ],
   "source": [
    "print(a)"
   ]
  },
  {
   "cell_type": "code",
   "execution_count": 7,
   "id": "6537d4ea-8af9-459f-8880-2b46a3f13d4e",
   "metadata": {},
   "outputs": [],
   "source": [
    "def say():\n",
    "    print('Hi')"
   ]
  },
  {
   "cell_type": "code",
   "execution_count": 8,
   "id": "886898ab-6f68-4d93-a2f4-488ceaaa05fd",
   "metadata": {},
   "outputs": [
    {
     "name": "stdout",
     "output_type": "stream",
     "text": [
      "Hi\n"
     ]
    }
   ],
   "source": [
    "say()"
   ]
  },
  {
   "cell_type": "code",
   "execution_count": 9,
   "id": "993ab90b-c452-4653-8b98-b6013af8dc50",
   "metadata": {},
   "outputs": [],
   "source": [
    "def sub(a, b):\n",
    "    return a - b"
   ]
  },
  {
   "cell_type": "code",
   "execution_count": 10,
   "id": "01289c1a-5afd-4ab3-8ae4-64ec1b9de7b5",
   "metadata": {},
   "outputs": [
    {
     "name": "stdout",
     "output_type": "stream",
     "text": [
      "-4\n"
     ]
    }
   ],
   "source": [
    "result = sub(b=7, a=3)\n",
    "print(result)"
   ]
  },
  {
   "cell_type": "markdown",
   "id": "80ad3d3b-8ce4-4428-9add-56f00715f85e",
   "metadata": {},
   "source": [
    "# 입력값이 몇 개가 될지 모를 때 매개변수"
   ]
  },
  {
   "cell_type": "code",
   "execution_count": 12,
   "id": "8a73da44-c00e-4ef4-bbea-431f477c84ef",
   "metadata": {},
   "outputs": [],
   "source": [
    "def add_many(*args):    # *args - 리액트의 나머지 매개변수 동일\n",
    "    result = 0\n",
    "    for i in args:\n",
    "        result = result + i\n",
    "    return result"
   ]
  },
  {
   "cell_type": "code",
   "execution_count": 13,
   "id": "90b8a803-b030-4208-91e7-9e07393cf42f",
   "metadata": {},
   "outputs": [
    {
     "name": "stdout",
     "output_type": "stream",
     "text": [
      "6\n"
     ]
    }
   ],
   "source": [
    "result = add_many(1, 2, 3)\n",
    "print(result)"
   ]
  },
  {
   "cell_type": "code",
   "execution_count": 14,
   "id": "ec132139-245e-42dc-863c-d02836bb84c0",
   "metadata": {},
   "outputs": [
    {
     "name": "stdout",
     "output_type": "stream",
     "text": [
      "55\n"
     ]
    }
   ],
   "source": [
    "rslt = add_many(1, 2, 3, 4, 5, 6, 7, 8, 9, 10)\n",
    "print(rslt)"
   ]
  },
  {
   "cell_type": "code",
   "execution_count": 15,
   "id": "02f6b78e-1992-4030-b0b8-118647471cd7",
   "metadata": {},
   "outputs": [],
   "source": [
    "def add_mul(choice, *args):\n",
    "    if choice == \"add\":\n",
    "        result = 0\n",
    "        for i in args:\n",
    "            result = result + i\n",
    "    elif choice == \"mul\":\n",
    "        result = 1\n",
    "        for i in args:\n",
    "            result = result * i\n",
    "    return result            "
   ]
  },
  {
   "cell_type": "code",
   "execution_count": 16,
   "id": "1dded510-2f64-4741-9498-cb436ab216e4",
   "metadata": {},
   "outputs": [
    {
     "name": "stdout",
     "output_type": "stream",
     "text": [
      "15\n"
     ]
    }
   ],
   "source": [
    "result = add_mul('add', 1, 2, 3, 4, 5)\n",
    "print(result)"
   ]
  },
  {
   "cell_type": "code",
   "execution_count": 17,
   "id": "828da647-7973-4989-9557-7a2db4f3c6fd",
   "metadata": {},
   "outputs": [
    {
     "name": "stdout",
     "output_type": "stream",
     "text": [
      "120\n"
     ]
    }
   ],
   "source": [
    "result = add_mul('mul', 1, 2, 3, 4, 5)\n",
    "print(result)"
   ]
  },
  {
   "cell_type": "markdown",
   "id": "7172322a-2943-40d5-bbd1-abf1444590fc",
   "metadata": {},
   "source": [
    "# 문제: 거스름돈 계산기\n"
   ]
  },
  {
   "cell_type": "code",
   "execution_count": 20,
   "id": "6a217e9a-60de-4d06-892d-ddf8fdc8c47d",
   "metadata": {},
   "outputs": [
    {
     "name": "stdout",
     "output_type": "stream",
     "text": [
      "50000원 지폐: 1장\n",
      "10000원 지폐: 1장\n",
      "5000원 지폐: 1장\n",
      "1000원 지폐: 2장\n",
      "\n",
      "50000원 지폐: 2장\n",
      "10000원 지폐: 2장\n",
      "5000원 지폐: 0장\n",
      "1000원 지폐: 2장\n"
     ]
    }
   ],
   "source": [
    "def calculate_change(payment, cost):\n",
    "    # 거스름돈\n",
    "    change = payment - cost  # 거스름돈 총액\n",
    "    # 나머지 연산자% 와 몫 //  화폐단위별 장수\n",
    "    fifty_count = change // 50000  # 50,000원 지폐\n",
    "    ten_count = (change % 50000) // 10000  # 10,000원 지폐\n",
    "    five_count = (change % 10000) // 5000  # 5,000원 지폐\n",
    "    one_count = (change % 5000) // 1000  # 1,000원 지폐\n",
    "    \n",
    "    # 답 출력  print(\"50000원 지폐: {}장\".format(화폐단위 카운트)\n",
    "    print(\"50000원 지폐: {}장\".format(fifty_count))\n",
    "    print(\"10000원 지폐: {}장\".format(ten_count))\n",
    "    print(\"5000원 지폐: {}장\".format(five_count))\n",
    "    print(\"1000원 지폐: {}장\".format(one_count))\n",
    "\n",
    "# 테스트 코드\n",
    "calculate_change(100000, 33000)\n",
    "print()\n",
    "calculate_change(500000, 378000)"
   ]
  },
  {
   "cell_type": "markdown",
   "id": "8b0f36cb-cf85-4af7-a8eb-5f124aebe2ba",
   "metadata": {},
   "source": [
    "# 파이썬으로 피보나치 수열 함수 만들기\n",
    "- 첫 두 항 0 과 1이고,\n",
    "- 그 이후 의 항은 바로 앞의 두 항의 합으로 이루어지는 수열"
   ]
  },
  {
   "cell_type": "code",
   "execution_count": 69,
   "id": "b676a255-dee6-432e-8cec-9c5b0ee5cd09",
   "metadata": {},
   "outputs": [
    {
     "name": "stdout",
     "output_type": "stream",
     "text": [
      "0 1 1 2 3 5 8 13 21 34 55 89 \n"
     ]
    }
   ],
   "source": [
    "def finbonacci_print(n):\n",
    "    \"피보나치 수열은 바로 앞의 두 항의 합으로 이루어지는 수열\"\n",
    "    if n <= 1:\n",
    "        return n\n",
    "    else:\n",
    "        a, b = 0, 1\n",
    "        while(a < n):\n",
    "            print(a, end=' ')\n",
    "            a, b = b, a+b\n",
    "        print()\n",
    "\n",
    "finbonacci_print(100)"
   ]
  },
  {
   "cell_type": "code",
   "execution_count": 8,
   "id": "b514e615-c563-4913-9459-4ab77a79852d",
   "metadata": {},
   "outputs": [],
   "source": [
    "def add_many(*args):\n",
    "    result = 0\n",
    "    for i in args:\n",
    "        result = result + i\n",
    "    return result"
   ]
  },
  {
   "cell_type": "code",
   "execution_count": 10,
   "id": "4021a4b0-83e3-4bfa-8f3a-82098b285e68",
   "metadata": {},
   "outputs": [
    {
     "name": "stdout",
     "output_type": "stream",
     "text": [
      "6\n"
     ]
    }
   ],
   "source": [
    "result = add_many(1, 2, 3)\n",
    "print(result)"
   ]
  },
  {
   "cell_type": "markdown",
   "id": "adcdb517-4585-481f-8084-b4aeac69ea51",
   "metadata": {},
   "source": [
    "# 키워드 매개변수\n",
    " - 매개변수 앞에 별2개(**)를 붙임"
   ]
  },
  {
   "cell_type": "code",
   "execution_count": 14,
   "id": "fb2e5d4e-7c44-4878-be0c-9106e115c8e4",
   "metadata": {},
   "outputs": [
    {
     "name": "stdout",
     "output_type": "stream",
     "text": [
      "{'a': 1}\n"
     ]
    }
   ],
   "source": [
    "def print_kwards(**kwargs):\n",
    "    print(kwargs)\n",
    "\n",
    "print_kwards(a=1)"
   ]
  },
  {
   "cell_type": "code",
   "execution_count": 16,
   "id": "eadb48a2-7744-44c3-8845-6bfcad2ca9bd",
   "metadata": {},
   "outputs": [
    {
     "name": "stdout",
     "output_type": "stream",
     "text": [
      "{'name': '홍길동', 'age': 17}\n"
     ]
    }
   ],
   "source": [
    "print_kwards(name=\"홍길동\", age=17)"
   ]
  },
  {
   "cell_type": "code",
   "execution_count": 18,
   "id": "b2f01a36-3a13-40dc-84e4-829ff9d4c803",
   "metadata": {},
   "outputs": [],
   "source": [
    "# 리턴 키워드 함수 안 한개만 있어야 한다\n",
    "def add_and_mul(a, b):\n",
    "    return a+b, a*b"
   ]
  },
  {
   "cell_type": "code",
   "execution_count": 20,
   "id": "60aae9e7-53a8-4c74-bf8b-a24efcab0f17",
   "metadata": {},
   "outputs": [
    {
     "data": {
      "text/plain": [
       "(7, 12)"
      ]
     },
     "execution_count": 20,
     "metadata": {},
     "output_type": "execute_result"
    }
   ],
   "source": [
    "result = add_and_mul(3, 4)\n",
    "result"
   ]
  },
  {
   "cell_type": "code",
   "execution_count": 30,
   "id": "cf3bdadf-8c23-4f5e-997a-0e9f86e4eaba",
   "metadata": {},
   "outputs": [
    {
     "data": {
      "text/plain": [
       "12"
      ]
     },
     "execution_count": 30,
     "metadata": {},
     "output_type": "execute_result"
    }
   ],
   "source": [
    "(rslt1, rslt2) = add_and_mul(3, 4)\n",
    "rslt2"
   ]
  },
  {
   "cell_type": "code",
   "execution_count": 32,
   "id": "b2f702c6-468c-48ab-9bf3-2699523a7453",
   "metadata": {},
   "outputs": [],
   "source": [
    "# 매개변수(parameter)에 초깃값 미리 설정하기\n",
    "def say_myself(name, age, man=True):\n",
    "    print(\"나의 이름은 %s입니다.\" % name)\n",
    "    print(\"나이는 %d살 입니다\" % age)\n",
    "    if man:\n",
    "        print(\"남자입니다\")   ## 파이썬에서는 elif\n",
    "    else:\n",
    "        print(\"여자입니다\")"
   ]
  },
  {
   "cell_type": "code",
   "execution_count": 34,
   "id": "f2599a82-9081-42de-8939-de4afc834b33",
   "metadata": {},
   "outputs": [
    {
     "name": "stdout",
     "output_type": "stream",
     "text": [
      "나의 이름은 홍길동입니다.\n",
      "나이는 27살 입니다\n",
      "남자입니다\n"
     ]
    }
   ],
   "source": [
    "say_myself(\"홍길동\", 27)"
   ]
  },
  {
   "cell_type": "code",
   "execution_count": 36,
   "id": "72f29b0a-fe01-4351-8ea4-82332b9a3746",
   "metadata": {},
   "outputs": [
    {
     "name": "stdout",
     "output_type": "stream",
     "text": [
      "나의 이름은 신사임당입니다.\n",
      "나이는 70살 입니다\n",
      "여자입니다\n"
     ]
    }
   ],
   "source": [
    "say_myself(\"신사임당\", 70, False)"
   ]
  },
  {
   "cell_type": "markdown",
   "id": "8c7c66e9-a956-417e-82ae-4671ad793428",
   "metadata": {},
   "source": [
    " # 함수 의  효력범위 \n",
    " - 함수 안에서 사용할 변수의 이름을 함수 밖에서 동일한 변수 가 있다면"
   ]
  },
  {
   "cell_type": "code",
   "execution_count": 39,
   "id": "eb4d3e15-f55a-460a-9d23-851f2447aec3",
   "metadata": {},
   "outputs": [
    {
     "name": "stdout",
     "output_type": "stream",
     "text": [
      "지역변수 2\n",
      "전역변수 1\n"
     ]
    }
   ],
   "source": [
    "a = 1   # 전역변수\n",
    "def vartest(a):\n",
    "    a = a + 1\n",
    "    print('지역변수', a)\n",
    "\n",
    "vartest(a)\n",
    "print('전역변수', a)\n"
   ]
  },
  {
   "cell_type": "code",
   "execution_count": 94,
   "id": "6683a7cb-de8d-4ccb-812b-07bae8bdd4e0",
   "metadata": {},
   "outputs": [
    {
     "ename": "NameError",
     "evalue": "name 'bb' is not defined",
     "output_type": "error",
     "traceback": [
      "\u001b[1;31m---------------------------------------------------------------------------\u001b[0m",
      "\u001b[1;31mNameError\u001b[0m                                 Traceback (most recent call last)",
      "Cell \u001b[1;32mIn[94], line 5\u001b[0m\n\u001b[0;32m      2\u001b[0m     bb \u001b[38;5;241m=\u001b[39m bb \u001b[38;5;241m+\u001b[39m \u001b[38;5;241m1\u001b[39m\n\u001b[0;32m      4\u001b[0m vartest(\u001b[38;5;241m3\u001b[39m)\n\u001b[1;32m----> 5\u001b[0m \u001b[38;5;28mprint\u001b[39m(bb)\n",
      "\u001b[1;31mNameError\u001b[0m: name 'bb' is not defined"
     ]
    }
   ],
   "source": [
    "def vartest(bb):\n",
    "    bb = bb + 1\n",
    "\n",
    "vartest(3)\n",
    "print(bb) #  bb변수는 어디에도 선언 되어있지 않기 때문에"
   ]
  },
  {
   "cell_type": "code",
   "execution_count": 96,
   "id": "aab77d8b-a3a6-4940-9419-7a03fb669d83",
   "metadata": {},
   "outputs": [
    {
     "name": "stdout",
     "output_type": "stream",
     "text": [
      "전역변수 2\n"
     ]
    }
   ],
   "source": [
    "a = 1\n",
    "def vartest(a):\n",
    "    a = a + 1\n",
    "    return a\n",
    "a = vartest(a)  # 리턴값을 함수 밖의 전역변수 대입\n",
    "print('전역변수', a)"
   ]
  },
  {
   "cell_type": "code",
   "execution_count": null,
   "id": "7dcc07db-6b4a-4fd1-9f4c-1997641f5dec",
   "metadata": {},
   "outputs": [],
   "source": [
    "# 전역변수 함수안에서 참조 global\n",
    "k = 1\n",
    "def vartest():\n",
    "    global k  # 전역변수 참조 \n",
    "    k = k + 1\n",
    "    \n",
    "vartest()\n",
    "print(k)"
   ]
  },
  {
   "cell_type": "code",
   "execution_count": null,
   "id": "b3952a25-0bb7-4cb2-9822-9b5f4f3cf0cf",
   "metadata": {},
   "outputs": [],
   "source": [
    "a = 5  # 전역변수\n",
    "\n",
    "def func1():\n",
    "    #print(\"before [func1] 지역변수 a = \", a)  오류\n",
    "    a = 1  # 지역변수 , func1()에서만 사용\n",
    "    print(\"[func1] 지역변수 a = \", a)\n",
    "\n",
    "def func2():\n",
    "    a = 2\n",
    "    print(\"[func2] 지역변수 a = \", a)\n",
    "\n",
    "def func3():   # 함수안에 변수가 없으면 함수밖을 참조\n",
    "    print(\"[func3] 전역변수 a = \", a)\n",
    "\n",
    "def func4():\n",
    "    global a\n",
    "    a = 4   #   전역변수 a 값을 5 에서 4 로 변경\n",
    "    print(\"[func4] 전역변수 a = \", a)\n",
    "\n",
    "func4()\n",
    "print(\"함수 밖의  a = \", a)\n",
    "\n",
    "\n"
   ]
  },
  {
   "cell_type": "markdown",
   "id": "814a7ea3-e398-4933-ad7b-df3ce34820e1",
   "metadata": {},
   "source": [
    "# 람다(lambda) 함수\n",
    "- 기본구조: lambda  인자 : 수행문\n",
    "- 사용방법  변수에 lambda함수 담아서 변수명 으로 실행\n",
    "- ( lambda  인자 : 수행문 )(인자)"
   ]
  },
  {
   "cell_type": "code",
   "execution_count": null,
   "id": "eca201db-f1a2-4d46-8281-48137c284233",
   "metadata": {},
   "outputs": [],
   "source": [
    "mySquare = lambda x : x**2"
   ]
  },
  {
   "cell_type": "code",
   "execution_count": null,
   "id": "54e931e2-13fc-4315-ab8c-f51a59c77ea8",
   "metadata": {},
   "outputs": [],
   "source": [
    "(lambda x : x ** 2)(3)"
   ]
  },
  {
   "cell_type": "code",
   "execution_count": null,
   "id": "7bf1eddf-5733-410e-9a05-a58b907cf001",
   "metadata": {},
   "outputs": [],
   "source": [
    "mySquare(2)"
   ]
  },
  {
   "cell_type": "markdown",
   "id": "a2a698e6-81e3-4744-8c41-2a224268f463",
   "metadata": {},
   "source": [
    "# 유용한 내장 함수"
   ]
  },
  {
   "cell_type": "code",
   "execution_count": 109,
   "id": "b92bdc37-2434-4f9f-bda8-f53bedbbdc29",
   "metadata": {},
   "outputs": [
    {
     "name": "stdout",
     "output_type": "stream",
     "text": [
      "<class 'str'>\n"
     ]
    },
    {
     "data": {
      "text/plain": [
       "int"
      ]
     },
     "execution_count": 109,
     "metadata": {},
     "output_type": "execute_result"
    }
   ],
   "source": [
    "# 형변환 함수 int(), float(), str()\n",
    "print(type('100'))\n",
    "type(int('100'))    # int('100a')   숫자값이 아닌 문자열은  int형변환 불가"
   ]
  },
  {
   "cell_type": "code",
   "execution_count": 111,
   "id": "bd0b4644-05dd-4700-91b0-67cb25f92f77",
   "metadata": {},
   "outputs": [
    {
     "data": {
      "text/plain": [
       "[1, 2, 3]"
      ]
     },
     "execution_count": 111,
     "metadata": {},
     "output_type": "execute_result"
    }
   ],
   "source": [
    "# 리스트 , 튜플, 세트 형으로 서로간에 형변환 할 수 있음\n",
    "list({1, 2, 3})"
   ]
  },
  {
   "cell_type": "code",
   "execution_count": 115,
   "id": "cd371d23-6c65-4b8e-bb58-9ff8201c4db4",
   "metadata": {},
   "outputs": [
    {
     "data": {
      "text/plain": [
       "[1, 2, 3, 5]"
      ]
     },
     "execution_count": 115,
     "metadata": {},
     "output_type": "execute_result"
    }
   ],
   "source": [
    "list(set([1, 3, 5, 2, 1, 3]))"
   ]
  },
  {
   "cell_type": "code",
   "execution_count": 129,
   "id": "2adda1a6-386d-4d35-988e-02f828e4c5fd",
   "metadata": {},
   "outputs": [
    {
     "name": "stdout",
     "output_type": "stream",
     "text": [
      "0 False\n",
      " False\n",
      "False\n",
      "False\n"
     ]
    }
   ],
   "source": [
    "# bool 함\n",
    "print(0, bool(0))\n",
    "print('',bool(''))\n",
    "print(bool([]))\n",
    "print(bool({}))"
   ]
  },
  {
   "cell_type": "code",
   "execution_count": 131,
   "id": "0c2fc6a4-87d2-4f0f-bacf-889b18fe8a06",
   "metadata": {},
   "outputs": [],
   "source": [
    "def print_name(name):\n",
    "    if bool(name):\n",
    "        print(\"입력된 이름: \", name)\n",
    "    else:\n",
    "        print(\"입력된 이름이 없습니다\")"
   ]
  },
  {
   "cell_type": "code",
   "execution_count": 133,
   "id": "d9c4a187-7e6d-48b7-86aa-dc261ba7b579",
   "metadata": {},
   "outputs": [
    {
     "name": "stdout",
     "output_type": "stream",
     "text": [
      "입력된 이름이 없습니다\n"
     ]
    }
   ],
   "source": [
    "print_name(\"\")"
   ]
  },
  {
   "cell_type": "code",
   "execution_count": 135,
   "id": "71adef46-c75b-4306-bc1d-15ff6dec93c9",
   "metadata": {},
   "outputs": [
    {
     "name": "stdout",
     "output_type": "stream",
     "text": [
      "입력된 이름:  James\n"
     ]
    }
   ],
   "source": [
    "print_name(\"James\")"
   ]
  },
  {
   "cell_type": "markdown",
   "id": "0bc22ad6-687b-430c-b5d7-20e4083e844d",
   "metadata": {},
   "source": [
    "# 최솟값과 최댓값을 구하는 함수"
   ]
  },
  {
   "cell_type": "code",
   "execution_count": 138,
   "id": "85c9b00e-4951-422e-9fd8-10759e90fd04",
   "metadata": {},
   "outputs": [
    {
     "data": {
      "text/plain": [
       "[0, 99.5, 172.0]"
      ]
     },
     "execution_count": 138,
     "metadata": {},
     "output_type": "execute_result"
    }
   ],
   "source": [
    "myNum = (10, 5, 12, 0, 3.5, 99.5, 42)\n",
    "[min(myNum), max(myNum), sum(myNum)]"
   ]
  },
  {
   "cell_type": "code",
   "execution_count": 140,
   "id": "8f2c9bdf-0eed-4407-b171-7da16da5e25c",
   "metadata": {},
   "outputs": [
    {
     "data": {
      "text/plain": [
       "['Abc', 'efg']"
      ]
     },
     "execution_count": 140,
     "metadata": {},
     "output_type": "execute_result"
    }
   ],
   "source": [
    "myStr = {\"Abc\", \"abc\", \"bcd\", \"efg\"}\n",
    "[min(myStr), max(myStr)]"
   ]
  },
  {
   "cell_type": "code",
   "execution_count": 142,
   "id": "aaf40855-438c-49b0-80c9-58f538273734",
   "metadata": {},
   "outputs": [
    {
     "data": {
      "text/plain": [
       "['a', 'z']"
      ]
     },
     "execution_count": 142,
     "metadata": {},
     "output_type": "execute_result"
    }
   ],
   "source": [
    "myString = \"zxyabc\"\n",
    "[min(myString), max(myString)]"
   ]
  },
  {
   "cell_type": "code",
   "execution_count": 144,
   "id": "c906a08f-dafd-4b72-a4e4-850d6d65efd7",
   "metadata": {},
   "outputs": [
    {
     "data": {
      "text/plain": [
       "3"
      ]
     },
     "execution_count": 144,
     "metadata": {},
     "output_type": "execute_result"
    }
   ],
   "source": [
    "len({1:\"Tomas\", 2:\"Edward\", 3: \"Henry\"})"
   ]
  },
  {
   "cell_type": "code",
   "execution_count": 146,
   "id": "6feeccfe-1f37-49a8-a894-4b6bfcf44c80",
   "metadata": {},
   "outputs": [
    {
     "name": "stdout",
     "output_type": "stream",
     "text": [
      "총점: 350, 평균: 87.5\n"
     ]
    }
   ],
   "source": [
    "# 내장함수의 활용\n",
    "scores = [90, 80, 95, 85]\n",
    "score_sum = 0\n",
    "subject_cnt = 0\n",
    "for score in scores:\n",
    "    score_sum += score\n",
    "    subject_cnt += 1\n",
    "avg = score_sum / subject_cnt  #  평균\n",
    "\n",
    "print(\"총점: {0}, 평균: {1}\".format(score_sum, avg))\n"
   ]
  },
  {
   "cell_type": "code",
   "execution_count": 148,
   "id": "3b7b046f-f8d6-44ae-a4ef-8af97c7512af",
   "metadata": {},
   "outputs": [
    {
     "name": "stdout",
     "output_type": "stream",
     "text": [
      "총점: 350, 평균: 87.5\n"
     ]
    }
   ],
   "source": [
    "print(\"총점: {0}, 평균: {1}\".format(sum(scores), sum(scores)/len(scores)))"
   ]
  },
  {
   "cell_type": "code",
   "execution_count": 150,
   "id": "b623b9c8-412d-423a-a7e0-88ec16f1987d",
   "metadata": {},
   "outputs": [
    {
     "ename": "ZeroDivisionError",
     "evalue": "division by zero",
     "output_type": "error",
     "traceback": [
      "\u001b[1;31m---------------------------------------------------------------------------\u001b[0m",
      "\u001b[1;31mZeroDivisionError\u001b[0m                         Traceback (most recent call last)",
      "Cell \u001b[1;32mIn[150], line 4\u001b[0m\n\u001b[0;32m      2\u001b[0m num1 \u001b[38;5;241m=\u001b[39m \u001b[38;5;241m4\u001b[39m\n\u001b[0;32m      3\u001b[0m num2 \u001b[38;5;241m=\u001b[39m \u001b[38;5;241m0\u001b[39m\n\u001b[1;32m----> 4\u001b[0m num1\u001b[38;5;241m/\u001b[39mnum2\n",
      "\u001b[1;31mZeroDivisionError\u001b[0m: division by zero"
     ]
    }
   ],
   "source": [
    "# 오류 예외 처리   \n",
    "num1 = 4\n",
    "num2 = 0\n",
    "num1/num2"
   ]
  },
  {
   "cell_type": "code",
   "execution_count": 152,
   "id": "6fd4b37d-135e-4147-b432-97f3af983744",
   "metadata": {},
   "outputs": [
    {
     "name": "stdout",
     "output_type": "stream",
     "text": [
      "해당 인덱스값을 읽을 수 없습니다.\n"
     ]
    }
   ],
   "source": [
    "num1 = 4\n",
    "num2 = 0\n",
    "try:\n",
    "    f = open('foo.txt', 'w')\n",
    "    a = [1, 2]   # 0과 1인덱스 만 존재\n",
    "    print(a[3])\n",
    "    num1 / num2\n",
    "except ZeroDivisionError as e:\n",
    "    print('0으로 나눌 수 없습니다.')\n",
    "except IndexError:\n",
    "    print('해당 인덱스값을 읽을 수 없습니다.')\n",
    "finally:\n",
    "    f.close()  # 중간에 오류 가 발생하더라도 무조건 finally문은 실행됨\n",
    "\n",
    "\n"
   ]
  },
  {
   "cell_type": "code",
   "execution_count": 164,
   "id": "a5d52053-058a-4341-97fd-da8fa5a8d846",
   "metadata": {},
   "outputs": [],
   "source": [
    "if (num1 == 0):\n",
    "    pass  #TODO:\n",
    "else:\n",
    "    pass  #TODO:\n"
   ]
  },
  {
   "cell_type": "markdown",
   "id": "3b7f6a9a-64bc-42b0-8da2-daaf27adbdd8",
   "metadata": {},
   "source": [
    "# 파이썬 내장 (built-in)  함수"
   ]
  },
  {
   "cell_type": "code",
   "execution_count": 167,
   "id": "5bb47690-6aa3-40b8-b024-c55166cec52b",
   "metadata": {},
   "outputs": [
    {
     "name": "stdout",
     "output_type": "stream",
     "text": [
      "0 body\n",
      "1 foo\n",
      "2 bar\n"
     ]
    }
   ],
   "source": [
    "# enumerate(x) : 순서가 있는 데이터(리스트 , 튜플)를 입력으로 받아\n",
    "#                인덱스값을 포함하는 객체 리턴\n",
    "for i, name in enumerate(['body', 'foo', 'bar']):\n",
    "    print(i, name)"
   ]
  },
  {
   "cell_type": "code",
   "execution_count": 169,
   "id": "dd615e05-d465-4c36-9edb-3f69758a9abd",
   "metadata": {},
   "outputs": [
    {
     "data": {
      "text/plain": [
       "3"
      ]
     },
     "execution_count": 169,
     "metadata": {},
     "output_type": "execute_result"
    }
   ],
   "source": [
    "# eval(expression)  : 문자열을 산식  or 내장함수 실행\n",
    "eval('1+2')\n"
   ]
  },
  {
   "cell_type": "code",
   "execution_count": 171,
   "id": "711968f3-6e65-4836-bb6b-d0b08b83a3b5",
   "metadata": {},
   "outputs": [
    {
     "data": {
      "text/plain": [
       "'hi python'"
      ]
     },
     "execution_count": 171,
     "metadata": {},
     "output_type": "execute_result"
    }
   ],
   "source": [
    "eval(\"'hi' + ' python'\")"
   ]
  },
  {
   "cell_type": "code",
   "execution_count": 173,
   "id": "882ff7e3-e971-4933-bb5f-2df903fb6e82",
   "metadata": {},
   "outputs": [
    {
     "data": {
      "text/plain": [
       "(1, 2)"
      ]
     },
     "execution_count": 173,
     "metadata": {},
     "output_type": "execute_result"
    }
   ],
   "source": [
    "eval('divmod(5, 3)')  # divmod 함수는 몫과 나머지를 튜플로 리턴"
   ]
  },
  {
   "cell_type": "code",
   "execution_count": 175,
   "id": "ef5a386f-c960-4d5a-8586-63e26a5bb97b",
   "metadata": {},
   "outputs": [],
   "source": [
    "# 양수만 걸러 내는 함수\n",
    "def positive(list_data):\n",
    "    result = []\n",
    "    for i in list_data:\n",
    "        if i > 0:\n",
    "            result.append(i)\n",
    "    return result"
   ]
  },
  {
   "cell_type": "code",
   "execution_count": 181,
   "id": "e25d13d4-fc75-4fa6-88ba-2c133b357523",
   "metadata": {},
   "outputs": [
    {
     "name": "stdout",
     "output_type": "stream",
     "text": [
      "[1, 2, 6]\n"
     ]
    }
   ],
   "source": [
    "print(positive([1, -3, 2, 0, -5, 6]))"
   ]
  },
  {
   "cell_type": "code",
   "execution_count": 183,
   "id": "2c92e30a-08b7-43a0-9be2-0fc573a2926d",
   "metadata": {},
   "outputs": [
    {
     "name": "stdout",
     "output_type": "stream",
     "text": [
      "[1, 2, 6]\n"
     ]
    }
   ],
   "source": [
    "def positive(x):\n",
    "    return x > 0\n",
    "\n",
    "print(list(filter(positive, [1, -3, 2, 0, -5, 6] )))"
   ]
  },
  {
   "cell_type": "code",
   "execution_count": 185,
   "id": "ee4d7bb6-3e28-44b3-8cee-5473ec4f1ea1",
   "metadata": {},
   "outputs": [
    {
     "name": "stdout",
     "output_type": "stream",
     "text": [
      "[1, 2, 6]\n"
     ]
    }
   ],
   "source": [
    "print(list(filter(lambda x : x>0, [1, -3, 2, 0, -5, 6] )))"
   ]
  },
  {
   "cell_type": "code",
   "execution_count": 191,
   "id": "8c79faf1-33d1-4bb8-872e-50ac3903bc7a",
   "metadata": {},
   "outputs": [
    {
     "name": "stdout",
     "output_type": "stream",
     "text": [
      "a 의 주소값 2706488044352\n",
      "b 의 주소값 2706488044352\n"
     ]
    }
   ],
   "source": [
    "# id(object) : 객체를 입력받아 고유 주솟값 출력\n",
    "a  = [1, 2, 3]\n",
    "print('a 의 주소값', id(a))\n",
    "b = a\n",
    "print('b 의 주소값', id(b))"
   ]
  },
  {
   "cell_type": "code",
   "execution_count": 193,
   "id": "4e9a3c55-b862-4664-9dc3-d4c4e473b3e2",
   "metadata": {},
   "outputs": [
    {
     "data": {
      "text/plain": [
       "True"
      ]
     },
     "execution_count": 193,
     "metadata": {},
     "output_type": "execute_result"
    }
   ],
   "source": [
    "class Person: pass\n",
    "    \n",
    "#  isinstance  인스턴스여부  True/ False\n",
    "a = Person()\n",
    "isinstance(a, Person) # a 가 Person 클래스의  인스턴스인지 확인"
   ]
  },
  {
   "cell_type": "code",
   "execution_count": 195,
   "id": "dd9c27c1-1356-4636-a8ef-57d2a693c2e5",
   "metadata": {},
   "outputs": [
    {
     "data": {
      "text/plain": [
       "[2, 4, 6, 8, 10]"
      ]
     },
     "execution_count": 195,
     "metadata": {},
     "output_type": "execute_result"
    }
   ],
   "source": [
    "# map ( f, iterable )\n",
    "def two_times(x):\n",
    "    return x * 2\n",
    "\n",
    "list(map(two_times, [1, 2, 3, 4, 5]))"
   ]
  },
  {
   "cell_type": "code",
   "execution_count": 197,
   "id": "e80ee06c-1065-4b96-98d5-e265801157e3",
   "metadata": {},
   "outputs": [
    {
     "data": {
      "text/plain": [
       "16"
      ]
     },
     "execution_count": 197,
     "metadata": {},
     "output_type": "execute_result"
    }
   ],
   "source": [
    "pow(2, 4)"
   ]
  },
  {
   "cell_type": "code",
   "execution_count": 199,
   "id": "16b47fd9-4a8f-42b4-b0e6-51c08702a437",
   "metadata": {},
   "outputs": [
    {
     "data": {
      "text/plain": [
       "[5, 7, 9]"
      ]
     },
     "execution_count": 199,
     "metadata": {},
     "output_type": "execute_result"
    }
   ],
   "source": [
    "list(range(5, 10, 2))"
   ]
  },
  {
   "cell_type": "code",
   "execution_count": 201,
   "id": "eea8ca1d-d543-492d-b13c-e6e13718ce00",
   "metadata": {},
   "outputs": [
    {
     "data": {
      "text/plain": [
       "5"
      ]
     },
     "execution_count": 201,
     "metadata": {},
     "output_type": "execute_result"
    }
   ],
   "source": [
    "round(4.6)"
   ]
  },
  {
   "cell_type": "code",
   "execution_count": 203,
   "id": "b458753b-826b-4b22-9825-f6ccfe096e3e",
   "metadata": {},
   "outputs": [
    {
     "data": {
      "text/plain": [
       "[1, 2, 3]"
      ]
     },
     "execution_count": 203,
     "metadata": {},
     "output_type": "execute_result"
    }
   ],
   "source": [
    "# sorted(iterable)\n",
    "sorted([3, 1, 2])"
   ]
  },
  {
   "cell_type": "code",
   "execution_count": 205,
   "id": "4c058213-a3a0-4bff-a258-78c139f94aec",
   "metadata": {},
   "outputs": [
    {
     "name": "stdout",
     "output_type": "stream",
     "text": [
      "James 95\n",
      "Robert 96\n",
      "Lisa 97\n",
      "Mary 94\n"
     ]
    }
   ],
   "source": [
    "names = ['James', 'Robert', 'Lisa', 'Mary']\n",
    "scores = [95, 96, 97, 94]\n",
    "\n",
    "for k in range(len(names)):   # range(4)  :   [0, 1, 2, 3]\n",
    "    print(names[k], scores[k])"
   ]
  },
  {
   "cell_type": "code",
   "execution_count": 207,
   "id": "7c4db07e-30bd-4f78-862c-fc9ceeb2733b",
   "metadata": {},
   "outputs": [
    {
     "name": "stdout",
     "output_type": "stream",
     "text": [
      "James 95\n",
      "Robert 96\n",
      "Lisa 97\n",
      "Mary 94\n"
     ]
    }
   ],
   "source": [
    "# zip : 동일한 개수로 이루어진 데이터들을 묶어서 리턴하는 함수\n",
    "for name, score in zip(names, scores):\n",
    "    print(name, score)"
   ]
  },
  {
   "cell_type": "code",
   "execution_count": 209,
   "id": "e950d79a-d205-4d83-8093-c64d4d0ff235",
   "metadata": {},
   "outputs": [
    {
     "data": {
      "text/plain": [
       "[(1, 70), (2, 85), (3, 95)]"
      ]
     },
     "execution_count": 209,
     "metadata": {},
     "output_type": "execute_result"
    }
   ],
   "source": [
    "list(zip( [1, 2, 3],  [70, 85, 95] ))"
   ]
  },
  {
   "cell_type": "code",
   "execution_count": 211,
   "id": "286b6501-d43f-408f-93fa-8f4aa9857c36",
   "metadata": {},
   "outputs": [
    {
     "data": {
      "text/plain": [
       "[(1, 70, 65), (2, 85, 55), (3, 95, 70)]"
      ]
     },
     "execution_count": 211,
     "metadata": {},
     "output_type": "execute_result"
    }
   ],
   "source": [
    "list(zip( [1, 2, 3],  [70, 85, 95] , [65, 55, 70]))"
   ]
  },
  {
   "cell_type": "code",
   "execution_count": 213,
   "id": "5e941ea4-eff4-4427-b26c-f1be4c1d77f0",
   "metadata": {},
   "outputs": [
    {
     "data": {
      "text/plain": [
       "[('a', 'd'), ('b', 'e'), ('c', 'f')]"
      ]
     },
     "execution_count": 213,
     "metadata": {},
     "output_type": "execute_result"
    }
   ],
   "source": [
    "list(zip(\"abc\", \"def\"))"
   ]
  },
  {
   "cell_type": "code",
   "execution_count": null,
   "id": "eece78c2-7c13-4ef5-a019-b9b0c5fc2da3",
   "metadata": {},
   "outputs": [],
   "source": []
  }
 ],
 "metadata": {
  "kernelspec": {
   "display_name": "Python 3 (ipykernel)",
   "language": "python",
   "name": "python3"
  },
  "language_info": {
   "codemirror_mode": {
    "name": "ipython",
    "version": 3
   },
   "file_extension": ".py",
   "mimetype": "text/x-python",
   "name": "python",
   "nbconvert_exporter": "python",
   "pygments_lexer": "ipython3",
   "version": "3.12.4"
  }
 },
 "nbformat": 4,
 "nbformat_minor": 5
}
