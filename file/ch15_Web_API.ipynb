{
 "cells": [
  {
   "cell_type": "markdown",
   "id": "6571d04c-fcd5-4c4f-ba55-19a9384aa345",
   "metadata": {},
   "source": [
    "# 웹 API 활용 \n",
    "- JSON 형식의 데이터 파이썬 처리"
   ]
  },
  {
   "cell_type": "code",
   "execution_count": 2,
   "id": "f3357078-cc8d-40ab-b8e6-3a78079a0e22",
   "metadata": {},
   "outputs": [
    {
     "data": {
      "text/plain": [
       "dict"
      ]
     },
     "execution_count": 2,
     "metadata": {},
     "output_type": "execute_result"
    }
   ],
   "source": [
    "import json\n",
    "# 파이썬 딕셔너리 데이타를  json 으로 변경시 필요 모듈\n",
    "\n",
    "python_dict = {\n",
    "    \"이름\": \"홍길동\",\n",
    "    \"나이\": 25,\n",
    "    \"거주지\": \"서울\",\n",
    "    \"신체정보\": {\n",
    "        \"키\": 175.4,\n",
    "        \"몸무게\": 71.2\n",
    "    },\n",
    "    \"취미\": [\n",
    "        \"등산\",\n",
    "        \"자전거타기\",\n",
    "        \"독서\"\n",
    "    ]\n",
    "} \n",
    "\n",
    "type(python_dict)"
   ]
  },
  {
   "cell_type": "code",
   "execution_count": 4,
   "id": "df833037-0e05-4bc1-862b-512e1315a470",
   "metadata": {},
   "outputs": [
    {
     "data": {
      "text/plain": [
       "str"
      ]
     },
     "execution_count": 4,
     "metadata": {},
     "output_type": "execute_result"
    }
   ],
   "source": [
    "json_data = json.dumps(python_dict)  # dumps:딕셔너리에서 json으로\n",
    "type(json_data)"
   ]
  },
  {
   "cell_type": "code",
   "execution_count": 6,
   "id": "f9940a3b-222e-4b87-9850-867c95692b9b",
   "metadata": {},
   "outputs": [
    {
     "name": "stdout",
     "output_type": "stream",
     "text": [
      "{\"\\uc774\\ub984\": \"\\ud64d\\uae38\\ub3d9\", \"\\ub098\\uc774\": 25, \"\\uac70\\uc8fc\\uc9c0\": \"\\uc11c\\uc6b8\", \"\\uc2e0\\uccb4\\uc815\\ubcf4\": {\"\\ud0a4\": 175.4, \"\\ubab8\\ubb34\\uac8c\": 71.2}, \"\\ucde8\\ubbf8\": [\"\\ub4f1\\uc0b0\", \"\\uc790\\uc804\\uac70\\ud0c0\\uae30\", \"\\ub3c5\\uc11c\"]}\n"
     ]
    }
   ],
   "source": [
    "print(json_data)"
   ]
  },
  {
   "cell_type": "code",
   "execution_count": 8,
   "id": "ce4a469e-4fa7-44e6-a5ea-c3113edbc69d",
   "metadata": {},
   "outputs": [
    {
     "name": "stdout",
     "output_type": "stream",
     "text": [
      "{\n",
      "   \"거주지\": \"서울\",\n",
      "   \"나이\": 25,\n",
      "   \"신체정보\": {\n",
      "      \"몸무게\": 71.2,\n",
      "      \"키\": 175.4\n",
      "   },\n",
      "   \"이름\": \"홍길동\",\n",
      "   \"취미\": [\n",
      "      \"등산\",\n",
      "      \"자전거타기\",\n",
      "      \"독서\"\n",
      "   ]\n",
      "}\n"
     ]
    }
   ],
   "source": [
    "json_data = json.dumps(python_dict, indent=3, sort_keys=True, ensure_ascii=False)\n",
    "print(json_data)"
   ]
  },
  {
   "cell_type": "code",
   "execution_count": 10,
   "id": "da2a48f2-d360-4c9a-8b9f-20159a2eb345",
   "metadata": {},
   "outputs": [
    {
     "data": {
      "text/plain": [
       "str"
      ]
     },
     "execution_count": 10,
     "metadata": {},
     "output_type": "execute_result"
    }
   ],
   "source": [
    "type(json_data)"
   ]
  },
  {
   "cell_type": "code",
   "execution_count": 12,
   "id": "6089a6e2-3504-4153-a3bf-4e2d526fd5e3",
   "metadata": {},
   "outputs": [
    {
     "data": {
      "text/plain": [
       "dict"
      ]
     },
     "execution_count": 12,
     "metadata": {},
     "output_type": "execute_result"
    }
   ],
   "source": [
    "# json 데이터 를 딕셔너리   *** 중요 \n",
    "json_dict = json.loads(json_data) \n",
    "type(json_dict)"
   ]
  },
  {
   "cell_type": "code",
   "execution_count": 14,
   "id": "a2910ac5-40d4-4e00-a7cd-71693f4f9453",
   "metadata": {},
   "outputs": [
    {
     "data": {
      "text/plain": [
       "{'몸무게': 71.2, '키': 175.4}"
      ]
     },
     "execution_count": 14,
     "metadata": {},
     "output_type": "execute_result"
    }
   ],
   "source": [
    "json_dict['신체정보']"
   ]
  },
  {
   "cell_type": "code",
   "execution_count": 16,
   "id": "8bff5730-074f-46fd-89e1-175f9828f343",
   "metadata": {},
   "outputs": [
    {
     "data": {
      "text/plain": [
       "175.4"
      ]
     },
     "execution_count": 16,
     "metadata": {},
     "output_type": "execute_result"
    }
   ],
   "source": [
    "json_dict['신체정보']['키']"
   ]
  },
  {
   "cell_type": "code",
   "execution_count": 18,
   "id": "fdda1945-6087-4ec0-847d-2c51995892fc",
   "metadata": {},
   "outputs": [
    {
     "data": {
      "text/plain": [
       "['등산', '자전거타기', '독서']"
      ]
     },
     "execution_count": 18,
     "metadata": {},
     "output_type": "execute_result"
    }
   ],
   "source": [
    "json_dict['취미']"
   ]
  },
  {
   "cell_type": "code",
   "execution_count": 20,
   "id": "34f744e2-720f-42fc-99a2-af33a0163dfd",
   "metadata": {},
   "outputs": [
    {
     "data": {
      "text/plain": [
       "'등산'"
      ]
     },
     "execution_count": 20,
     "metadata": {},
     "output_type": "execute_result"
    }
   ],
   "source": [
    "json_dict['취미'][0]"
   ]
  },
  {
   "cell_type": "markdown",
   "id": "7122414e-0d8f-4b6a-86a7-baa03febb33a",
   "metadata": {},
   "source": [
    "### XML형식의 데이터 처리"
   ]
  },
  {
   "cell_type": "code",
   "execution_count": 23,
   "id": "60d54926-d2b8-4e6f-b2b4-80204d598535",
   "metadata": {},
   "outputs": [
    {
     "name": "stdout",
     "output_type": "stream",
     "text": [
      "<?xml version=\"1.0\" encoding=\"UTF-8\" ?>\n",
      "<사용자정보>\n",
      "    <이름>홍길동</이름>\n",
      "    <나이>25</나이>\n",
      "    <거주지>서울</거주지>\n",
      "    <신체정보>\n",
      "        <키 unit=\"cm\">175.4</키>\n",
      "        <몸무게 unit=\"kg\">71.2</몸무게>\n",
      "    </신체정보>\n",
      "    <취미>등산</취미>\n",
      "    <취미>자전거타기</취미>\n",
      "    <취미>독서</취미>\n",
      "</사용자정보> \n",
      "\n"
     ]
    }
   ],
   "source": [
    "xml_data = \"\"\"<?xml version=\"1.0\" encoding=\"UTF-8\" ?>\n",
    "<사용자정보>\n",
    "    <이름>홍길동</이름>\n",
    "    <나이>25</나이>\n",
    "    <거주지>서울</거주지>\n",
    "    <신체정보>\n",
    "        <키 unit=\"cm\">175.4</키>\n",
    "        <몸무게 unit=\"kg\">71.2</몸무게>\n",
    "    </신체정보>\n",
    "    <취미>등산</취미>\n",
    "    <취미>자전거타기</취미>\n",
    "    <취미>독서</취미>\n",
    "</사용자정보> \n",
    "\"\"\"\n",
    "print(xml_data)"
   ]
  },
  {
   "cell_type": "code",
   "execution_count": 31,
   "id": "90206b2f-5845-468a-ab4b-d44a23c6b32d",
   "metadata": {},
   "outputs": [
    {
     "name": "stdout",
     "output_type": "stream",
     "text": [
      "사용자 홍길동의 신체정보]\n",
      "*키: 175.4cm\n",
      "*몸무게: 71.2kg\n"
     ]
    }
   ],
   "source": [
    "import xmltodict\n",
    "dict_data = xmltodict.parse(xml_data)\n",
    "#dict_data\n",
    "user_name = dict_data['사용자정보']['이름']\n",
    "body_data = dict_data['사용자정보']['신체정보']   # 중간단위 객체\n",
    "#body_data\n",
    "height = body_data['키']['#text']\n",
    "height_unit = body_data['키']['@unit']\n",
    "\n",
    "print(\"사용자 {0}의 신체정보]\".format(user_name))\n",
    "print(\"*키: {0}{1}\".format(height, height_unit))\n",
    "weight = body_data['몸무게']['#text']\n",
    "weight_unit = body_data['몸무게']['@unit']\n",
    "print(\"*몸무게: {0}{1}\".format(weight, weight_unit))\n"
   ]
  },
  {
   "cell_type": "code",
   "execution_count": 27,
   "id": "0bc6309b-39ec-467a-90dc-0a63ecf34e47",
   "metadata": {},
   "outputs": [
    {
     "data": {
      "text/plain": [
       "{'사용자정보': {'이름': '홍길동',\n",
       "  '나이': '25',\n",
       "  '거주지': '서울',\n",
       "  '신체정보': {'키': '175.4', '몸무게': '71.2'},\n",
       "  '취미': ['등산', '자전거타기', '독서']}}"
      ]
     },
     "execution_count": 27,
     "metadata": {},
     "output_type": "execute_result"
    }
   ],
   "source": [
    "import xmltodict\n",
    "dict_data2 = xmltodict.parse(xml_data, xml_attribs=False)\n",
    "dict_data2\n"
   ]
  },
  {
   "cell_type": "markdown",
   "id": "fe04b8f6-2a8d-4344-9b18-5d09c9f0f3ae",
   "metadata": {},
   "source": [
    "### 웹사이트 주소에 부가정보 추가하기"
   ]
  },
  {
   "cell_type": "code",
   "execution_count": 34,
   "id": "4b1ae329-a537-4880-b789-8133cc403ea9",
   "metadata": {},
   "outputs": [
    {
     "name": "stdout",
     "output_type": "stream",
     "text": [
      "https://api.github.com/events\n",
      "https://api.github.com/user\n",
      "https://api.github.com/emails\n"
     ]
    }
   ],
   "source": [
    "import requests\n",
    "\n",
    "base_url = \"https://api.github.com/\"\n",
    "sub_dirs = [\"events\", \"user\", \"emails\"]  \n",
    "\n",
    "for sub_dir in sub_dirs:\n",
    "    url_dir = base_url + sub_dir\n",
    "    r = requests.get(url_dir)\n",
    "    print(r.url)"
   ]
  },
  {
   "cell_type": "code",
   "execution_count": 36,
   "id": "eb96da3b-8f97-4187-ac19-e88729dd24c6",
   "metadata": {},
   "outputs": [
    {
     "name": "stdout",
     "output_type": "stream",
     "text": [
      "https://api.openweathermap.org/data/2.5/weather?lat=37.57&lon=126.98&appid=d188a0c42893b965d45949c5abc88f25\n"
     ]
    }
   ],
   "source": [
    "# 쿼리 스트링   ?param1=값&param2=값\n",
    "# api 키 d188a0c42893b965d45949c5abc88f25\n",
    "# https://api.openweathermap.org/data/2.5/weather?lat={lat}&lon={lon}&appid={API key}\n",
    "\n",
    "import requests\n",
    "\n",
    "API_KEY = ''\n",
    "LAT = '37.57' # 위도\n",
    "LON = '126.98'  # 경도\n",
    "\n",
    "site_url = \"https://api.openweathermap.org/data/2.5/weather\"\n",
    "parameter = \"?lat=%s&lon=%s&appid=%s\"%(LAT, LON, API_KEY)\n",
    "url_para = site_url + parameter\n",
    "\n",
    "r = requests.get(url_para)\n",
    "print(r.url)"
   ]
  },
  {
   "cell_type": "code",
   "execution_count": 38,
   "id": "a30f826c-ecb9-4f34-b5fa-14fab52feb12",
   "metadata": {},
   "outputs": [
    {
     "name": "stdout",
     "output_type": "stream",
     "text": [
      "https://api.openweathermap.org/data/2.5/weather?lat=37.57&lon=126.98&appid=d188a0c42893b965d45949c5abc88f25\n"
     ]
    }
   ],
   "source": [
    "\n",
    "import requests\n",
    "\n",
    "API_KEY = ''\n",
    "LAT = '37.57' # 위도\n",
    "LON = '126.98'  # 경도\n",
    "\n",
    "API_KEY_decode = requests.utils.unquote(API_KEY)   # Decoded URL\n",
    "\n",
    "req_url = \"https://api.openweathermap.org/data/2.5/weather\"\n",
    "req_parameter = {\"lat\":LAT, \"lon\":LON, \"appid\": API_KEY_decode}\n",
    "\n",
    "\n",
    "r = requests.get(req_url, params=req_parameter)  \n",
    "# 요청주소 요청 매개변수 분리 요청 가능\n",
    "# 주의할 점 : URL인코딩 - 퍼센트인코딩  ex> +: %2B , / : %2F, =: %3D\n",
    "print(r.url)"
   ]
  },
  {
   "cell_type": "markdown",
   "id": "3bcd3d46-c158-44da-81d0-e12d55051498",
   "metadata": {},
   "source": [
    "## 15.2 API 키를 사용하지 않고 데이터 가져오기\n",
    "- 국제 우주 정거장의 정보 가져오기"
   ]
  },
  {
   "cell_type": "code",
   "execution_count": 41,
   "id": "6fc19f5c-7cab-438f-8552-ff247c37c6f9",
   "metadata": {},
   "outputs": [
    {
     "name": "stdout",
     "output_type": "stream",
     "text": [
      "{\"timestamp\": 1725593801, \"iss_position\": {\"latitude\": \"16.1275\", \"longitude\": \"41.1207\"}, \"message\": \"success\"}\n"
     ]
    }
   ],
   "source": [
    "import requests\n",
    "import json\n",
    "\n",
    "url = \"http://api.open-notify.org/iss-now.json\"\n",
    "r = requests.get(url)\n",
    "print(r.text)"
   ]
  },
  {
   "cell_type": "code",
   "execution_count": 45,
   "id": "d7b876f2-85ac-4d95-b26b-21aeb5cbf61c",
   "metadata": {},
   "outputs": [
    {
     "data": {
      "text/plain": [
       "dict"
      ]
     },
     "execution_count": 45,
     "metadata": {},
     "output_type": "execute_result"
    }
   ],
   "source": [
    "json_to_dict = json.loads(r.text)\n",
    "type(json_to_dict)"
   ]
  },
  {
   "cell_type": "code",
   "execution_count": 47,
   "id": "543c8c1e-8ce8-4d2b-8c29-1f1de2bf3401",
   "metadata": {},
   "outputs": [
    {
     "data": {
      "text/plain": [
       "{'timestamp': 1725593801,\n",
       " 'iss_position': {'latitude': '16.1275', 'longitude': '41.1207'},\n",
       " 'message': 'success'}"
      ]
     },
     "execution_count": 47,
     "metadata": {},
     "output_type": "execute_result"
    }
   ],
   "source": [
    "json_to_dict"
   ]
  },
  {
   "cell_type": "code",
   "execution_count": 55,
   "id": "e182f8b3-24f5-4f70-87b1-13c4e0373a9f",
   "metadata": {},
   "outputs": [
    {
     "name": "stdout",
     "output_type": "stream",
     "text": [
      "{'latitude': '16.1275', 'longitude': '41.1207'}\n"
     ]
    }
   ],
   "source": [
    "print(json_to_dict['iss_position'])\n",
    "# print(json_to_dict['iss_position']['latitude'])\n",
    "# print(json_to_dict['iss_position']['longitude'])\n",
    "# print(json_to_dict['message'])\n",
    "# print(json_to_dict['timestamp'])"
   ]
  },
  {
   "cell_type": "code",
   "execution_count": 59,
   "id": "fb38382a-8be2-41da-9f60-aff8fbde11c0",
   "metadata": {},
   "outputs": [
    {
     "data": {
      "text/plain": [
       "'IiPIPtnB8rtL16cFnFUjqiYDXcfgRnMiL5FtjYn9YaR/iuPzAMmYHb19U3UXGxUmvy/YQS100XFTpyhjSM04Eg=='"
      ]
     },
     "execution_count": 59,
     "metadata": {},
     "output_type": "execute_result"
    }
   ],
   "source": [
    "import requests \n",
    "API_KEY = ''\n",
    "API_KEY_decode = requests.utils.unquote(API_KEY)\n",
    "API_KEY_decode"
   ]
  },
  {
   "cell_type": "code",
   "execution_count": 65,
   "id": "aaa2f05a-03ee-4648-8b2b-f309be987336",
   "metadata": {},
   "outputs": [
    {
     "name": "stdout",
     "output_type": "stream",
     "text": [
      "<?xml version=\"1.0\" encoding=\"UTF-8\" standalone=\"yes\"?><NewAddressListResponse><cmmMsgHeader><requestMsgId></requestMsgId><responseMsgId></responseMsgId><responseTime>20240906:130505566</responseTime><successYN>Y</successYN><returnCode>00</returnCode><errMsg></errMsg><totalCount>1</totalCount><countPerPage>10</countPerPage><totalPage>1</totalPage><currentPage></currentPage></cmmMsgHeader><newAddressListAreaCd><zipNo>06579</zipNo><lnmAdres>서울특별시 서초구 반포대로 201 (반포동, 국립중앙도서관)</lnmAdres><rnAdres>서울특별시 서초구 반포동 산60-1 국립중앙도서관</rnAdres></newAddressListAreaCd></NewAddressListResponse>\n"
     ]
    }
   ],
   "source": [
    "\n",
    "url = 'http://openapi.epost.go.kr/postal/retrieveNewAdressAreaCdService/retrieveNewAdressAreaCdService/getNewAddressListAreaCd'\n",
    "search_Se = \"road\"\n",
    "srch_wrd = \"반포대로 201\"\n",
    "\n",
    "params ={'serviceKey' : API_KEY_decode, 'searchSe' : search_Se, 'srchwrd' : srch_wrd }\n",
    "\n",
    "r = requests.get(url, params=params)\n",
    "xml_data = r.text\n",
    "print(xml_data)\n"
   ]
  },
  {
   "cell_type": "code",
   "execution_count": 67,
   "id": "bbe26225-927f-4af3-a114-3836d0d64577",
   "metadata": {},
   "outputs": [
    {
     "data": {
      "text/plain": [
       "{'NewAddressListResponse': {'cmmMsgHeader': {'requestMsgId': None,\n",
       "   'responseMsgId': None,\n",
       "   'responseTime': '20240906:130505566',\n",
       "   'successYN': 'Y',\n",
       "   'returnCode': '00',\n",
       "   'errMsg': None,\n",
       "   'totalCount': '1',\n",
       "   'countPerPage': '10',\n",
       "   'totalPage': '1',\n",
       "   'currentPage': None},\n",
       "  'newAddressListAreaCd': {'zipNo': '06579',\n",
       "   'lnmAdres': '서울특별시 서초구 반포대로 201 (반포동, 국립중앙도서관)',\n",
       "   'rnAdres': '서울특별시 서초구 반포동 산60-1 국립중앙도서관'}}}"
      ]
     },
     "execution_count": 67,
     "metadata": {},
     "output_type": "execute_result"
    }
   ],
   "source": [
    "import xmltodict\n",
    "dict_data = xmltodict.parse(xml_data)\n",
    "dict_data"
   ]
  },
  {
   "cell_type": "code",
   "execution_count": 71,
   "id": "a1b099bf-9e94-427b-b52f-36995c17dec6",
   "metadata": {},
   "outputs": [
    {
     "name": "stdout",
     "output_type": "stream",
     "text": [
      "[입력한 도로명 주소] 반포대로 201\n",
      "==== 응답 데이터 ===\n",
      "- 우편번호:  06579\n",
      "- 도로명주소:  서울특별시 서초구 반포대로 201 (반포동, 국립중앙도서관)\n",
      "- 지번주소:  서울특별시 서초구 반포동 산60-1 국립중앙도서관\n"
     ]
    }
   ],
   "source": [
    "address_list = dict_data['NewAddressListResponse']['newAddressListAreaCd']\n",
    "print(\"[입력한 도로명 주소]\", srch_wrd)\n",
    "print(\"==== 응답 데이터 ===\")\n",
    "print(\"- 우편번호: \", address_list['zipNo'])\n",
    "print(\"- 도로명주소: \", address_list['lnmAdres'])\n",
    "print(\"- 지번주소: \", address_list['rnAdres'])"
   ]
  },
  {
   "cell_type": "code",
   "execution_count": null,
   "id": "a3ea3be6-4b7c-4642-8760-a5202ddcdf08",
   "metadata": {},
   "outputs": [],
   "source": []
  }
 ],
 "metadata": {
  "kernelspec": {
   "display_name": "Python 3 (ipykernel)",
   "language": "python",
   "name": "python3"
  },
  "language_info": {
   "codemirror_mode": {
    "name": "ipython",
    "version": 3
   },
   "file_extension": ".py",
   "mimetype": "text/x-python",
   "name": "python",
   "nbconvert_exporter": "python",
   "pygments_lexer": "ipython3",
   "version": "3.12.4"
  }
 },
 "nbformat": 4,
 "nbformat_minor": 5
}
