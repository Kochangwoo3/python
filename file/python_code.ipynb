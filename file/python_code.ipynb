{
 "cells": [
  {
   "cell_type": "code",
   "execution_count": 1,
   "id": "80ff3e1c-36f4-44da-b578-867060aa9c2d",
   "metadata": {},
   "outputs": [
    {
     "name": "stdout",
     "output_type": "stream",
     "text": [
      "Hello Jupyter Notebook!!\n"
     ]
    }
   ],
   "source": [
    "print('Hello Jupyter Notebook!!')"
   ]
  },
  {
   "cell_type": "code",
   "execution_count": 3,
   "id": "7bded71d-6e40-4784-a412-d8e26db6e2b4",
   "metadata": {},
   "outputs": [
    {
     "name": "stdout",
     "output_type": "stream",
     "text": [
      "Hello Jupyter Notebook!!\n"
     ]
    }
   ],
   "source": [
    "print('Hello Jupyter Notebook!!')"
   ]
  },
  {
   "cell_type": "code",
   "execution_count": 7,
   "id": "755cb8ec-713b-4d9f-a7f4-30ae8349f4e7",
   "metadata": {},
   "outputs": [
    {
     "name": "stdout",
     "output_type": "stream",
     "text": [
      "Hello Jupyter Notebook!!\n"
     ]
    }
   ],
   "source": [
    "print('Hello Jupyter Notebook!!')"
   ]
  },
  {
   "cell_type": "markdown",
   "id": "a63aad28-725b-41a6-8e54-1db99444ef33",
   "metadata": {},
   "source": [
    "### markdown"
   ]
  },
  {
   "cell_type": "markdown",
   "id": "cff9ea18-4712-42de-817e-55010be8ec75",
   "metadata": {},
   "source": [
    "여기는 마크다운 **입력** 입니다\n",
    "# 1단계 제목\n",
    "## 2단계 제목 수정\n",
    "### 3단계 제목\n",
    "목록을 표시할 수도 있습니다\n",
    "- 테스트 1\n",
    "- 테스트 2"
   ]
  },
  {
   "cell_type": "code",
   "execution_count": 15,
   "id": "f27885bf-49e0-423a-bf87-c6a598bd2cd5",
   "metadata": {},
   "outputs": [
    {
     "name": "stdout",
     "output_type": "stream",
     "text": [
      "Hello Jupyter Notebook!!\n",
      "Hello Jupyter Notebook\n",
      "Hello Jupyter Notebook!!\n"
     ]
    }
   ],
   "source": [
    "print('Hello Jupyter Notebook!!')\n",
    "print('Hello Jupyter Notebook')\n",
    "print('Hello Jupyter Notebook!!')"
   ]
  },
  {
   "cell_type": "code",
   "execution_count": 17,
   "id": "68305a90-38a3-48a6-a5ec-c04596d306bd",
   "metadata": {},
   "outputs": [
    {
     "data": {
      "text/plain": [
       "30"
      ]
     },
     "execution_count": 17,
     "metadata": {},
     "output_type": "execute_result"
    }
   ],
   "source": [
    "15 * 2"
   ]
  },
  {
   "cell_type": "code",
   "execution_count": 19,
   "id": "3bc06c42-7c1e-4c97-bc5c-47e948609932",
   "metadata": {},
   "outputs": [
    {
     "data": {
      "text/plain": [
       "5.0"
      ]
     },
     "execution_count": 19,
     "metadata": {},
     "output_type": "execute_result"
    }
   ],
   "source": [
    "10/2"
   ]
  },
  {
   "cell_type": "code",
   "execution_count": 21,
   "id": "123c9077-7ebe-44e1-99bd-61b0da6a7bab",
   "metadata": {},
   "outputs": [
    {
     "data": {
      "text/plain": [
       "6.5"
      ]
     },
     "execution_count": 21,
     "metadata": {},
     "output_type": "execute_result"
    }
   ],
   "source": [
    "1.2 + 5.3"
   ]
  },
  {
   "cell_type": "code",
   "execution_count": 23,
   "id": "e9062dc0-f558-453d-b0ec-069babd1e471",
   "metadata": {},
   "outputs": [
    {
     "data": {
      "text/plain": [
       "14"
      ]
     },
     "execution_count": 23,
     "metadata": {},
     "output_type": "execute_result"
    }
   ],
   "source": [
    "2 + 3 * 4  "
   ]
  },
  {
   "cell_type": "code",
   "execution_count": 25,
   "id": "d12b094b-87ee-49ee-9913-c5d022f188c8",
   "metadata": {},
   "outputs": [
    {
     "data": {
      "text/plain": [
       "6.0"
      ]
     },
     "execution_count": 25,
     "metadata": {},
     "output_type": "execute_result"
    }
   ],
   "source": [
    "3 / 2 * 4"
   ]
  },
  {
   "cell_type": "code",
   "execution_count": 27,
   "id": "bdf5f25f-26ac-40f5-9900-9d0a467ad9d7",
   "metadata": {},
   "outputs": [
    {
     "data": {
      "text/plain": [
       "3.5"
      ]
     },
     "execution_count": 27,
     "metadata": {},
     "output_type": "execute_result"
    }
   ],
   "source": [
    "3 / 2 * 4 - 5 / 2"
   ]
  },
  {
   "cell_type": "code",
   "execution_count": 29,
   "id": "2c0f325f-129e-438a-b720-882a2f54d1a1",
   "metadata": {},
   "outputs": [
    {
     "data": {
      "text/plain": [
       "8.0"
      ]
     },
     "execution_count": 29,
     "metadata": {},
     "output_type": "execute_result"
    }
   ],
   "source": [
    "10 / 5 + ( 5 - 2 ) * 2"
   ]
  },
  {
   "cell_type": "code",
   "execution_count": 31,
   "id": "7a73db13-4823-454b-9857-0001630366e9",
   "metadata": {},
   "outputs": [
    {
     "data": {
      "text/plain": [
       "32"
      ]
     },
     "execution_count": 31,
     "metadata": {},
     "output_type": "execute_result"
    }
   ],
   "source": [
    "2 * 2 * 2 * 2 * 2"
   ]
  },
  {
   "cell_type": "code",
   "execution_count": 33,
   "id": "0359b038-1e7c-464f-84a1-5e8b93aace75",
   "metadata": {},
   "outputs": [
    {
     "data": {
      "text/plain": [
       "32"
      ]
     },
     "execution_count": 33,
     "metadata": {},
     "output_type": "execute_result"
    }
   ],
   "source": [
    "2 ** 5"
   ]
  },
  {
   "cell_type": "code",
   "execution_count": 35,
   "id": "e897d61e-d4fa-47dd-93e8-aada90d29e46",
   "metadata": {},
   "outputs": [],
   "source": [
    "# 루트 2"
   ]
  },
  {
   "cell_type": "code",
   "execution_count": 37,
   "id": "fc22d8c4-7f01-45c8-9073-75940765adec",
   "metadata": {},
   "outputs": [
    {
     "data": {
      "text/plain": [
       "1.4142135623730951"
      ]
     },
     "execution_count": 37,
     "metadata": {},
     "output_type": "execute_result"
    }
   ],
   "source": [
    "2 ** (1/2)"
   ]
  },
  {
   "cell_type": "code",
   "execution_count": 39,
   "id": "b77f9af1-3a94-44fb-b723-8dd5b1767203",
   "metadata": {},
   "outputs": [
    {
     "data": {
      "text/plain": [
       "3"
      ]
     },
     "execution_count": 39,
     "metadata": {},
     "output_type": "execute_result"
    }
   ],
   "source": [
    "13 % 5"
   ]
  },
  {
   "cell_type": "code",
   "execution_count": 41,
   "id": "1822fd6f-4636-4e95-b6d4-479cb910ff2f",
   "metadata": {},
   "outputs": [
    {
     "data": {
      "text/plain": [
       "1000000000000000.0"
      ]
     },
     "execution_count": 41,
     "metadata": {},
     "output_type": "execute_result"
    }
   ],
   "source": [
    "1e15"
   ]
  },
  {
   "cell_type": "code",
   "execution_count": 43,
   "id": "3a3a39cd-84af-4e4a-94c2-245d296b1c06",
   "metadata": {},
   "outputs": [
    {
     "data": {
      "text/plain": [
       "0.0001"
      ]
     },
     "execution_count": 43,
     "metadata": {},
     "output_type": "execute_result"
    }
   ],
   "source": [
    "#0.0001\n",
    "1e-4"
   ]
  },
  {
   "cell_type": "code",
   "execution_count": 45,
   "id": "4fd01d77-6d97-4c91-b6ce-e0c3a3f3a5fa",
   "metadata": {},
   "outputs": [
    {
     "data": {
      "text/plain": [
       "17"
      ]
     },
     "execution_count": 45,
     "metadata": {},
     "output_type": "execute_result"
    }
   ],
   "source": [
    "17"
   ]
  },
  {
   "cell_type": "code",
   "execution_count": 47,
   "id": "0aa24374-1317-4581-b7df-da3eb34a6ac9",
   "metadata": {},
   "outputs": [
    {
     "data": {
      "text/plain": [
       "17"
      ]
     },
     "execution_count": 47,
     "metadata": {},
     "output_type": "execute_result"
    }
   ],
   "source": [
    "0b10001"
   ]
  },
  {
   "cell_type": "code",
   "execution_count": 49,
   "id": "a551de15-cb57-4930-8cd6-574a2e430b84",
   "metadata": {},
   "outputs": [
    {
     "data": {
      "text/plain": [
       "17"
      ]
     },
     "execution_count": 49,
     "metadata": {},
     "output_type": "execute_result"
    }
   ],
   "source": [
    "0o21"
   ]
  },
  {
   "cell_type": "code",
   "execution_count": 51,
   "id": "e1bbe8d8-412b-44ca-b53c-fc417864ca02",
   "metadata": {},
   "outputs": [
    {
     "data": {
      "text/plain": [
       "17"
      ]
     },
     "execution_count": 51,
     "metadata": {},
     "output_type": "execute_result"
    }
   ],
   "source": [
    "0x11"
   ]
  },
  {
   "cell_type": "code",
   "execution_count": 53,
   "id": "8db488ab-e019-4d7e-a98d-4f0ff9a20595",
   "metadata": {},
   "outputs": [
    {
     "name": "stdout",
     "output_type": "stream",
     "text": [
      "True\n"
     ]
    }
   ],
   "source": [
    "print(True or False)"
   ]
  },
  {
   "cell_type": "code",
   "execution_count": 55,
   "id": "002cc5b8-6545-4dae-a0e7-5dd58cbf85a6",
   "metadata": {},
   "outputs": [
    {
     "name": "stdout",
     "output_type": "stream",
     "text": [
      "False\n"
     ]
    }
   ],
   "source": [
    "print( 5 == 3 )"
   ]
  },
  {
   "cell_type": "code",
   "execution_count": 57,
   "id": "60235e3b-75a1-4c2b-9c13-d76857117e30",
   "metadata": {},
   "outputs": [
    {
     "ename": "SyntaxError",
     "evalue": "invalid syntax (3788732180.py, line 1)",
     "output_type": "error",
     "traceback": [
      "\u001b[1;36m  Cell \u001b[1;32mIn[57], line 1\u001b[1;36m\u001b[0m\n\u001b[1;33m    print( 5 === 3 )\u001b[0m\n\u001b[1;37m               ^\u001b[0m\n\u001b[1;31mSyntaxError\u001b[0m\u001b[1;31m:\u001b[0m invalid syntax\n"
     ]
    }
   ],
   "source": [
    "print( 5 === 3 )"
   ]
  },
  {
   "cell_type": "code",
   "execution_count": 61,
   "id": "d0b40bed-db54-4b14-b2fc-42941c6d507c",
   "metadata": {},
   "outputs": [
    {
     "name": "stdout",
     "output_type": "stream",
     "text": [
      "12340\n"
     ]
    },
    {
     "data": {
      "text/plain": [
       "int"
      ]
     },
     "execution_count": 61,
     "metadata": {},
     "output_type": "execute_result"
    }
   ],
   "source": [
    "abc = 12340\n",
    "print(abc)\n",
    "type(abc)"
   ]
  },
  {
   "cell_type": "code",
   "execution_count": 77,
   "id": "8d2abff3-aabc-46e7-ac73-ab9a230a8cb9",
   "metadata": {},
   "outputs": [
    {
     "name": "stdout",
     "output_type": "stream",
     "text": [
      "String Test 1\n",
      "Stirng Test \"str\" 2\n"
     ]
    },
    {
     "data": {
      "text/plain": [
       "str"
      ]
     },
     "execution_count": 77,
     "metadata": {},
     "output_type": "execute_result"
    }
   ],
   "source": [
    "string1 = \"String Test 1\"\n",
    "string2 = 'Stirng Test \"str\" 2'\n",
    "print(string1)\n",
    "print(string2)\n",
    "type(string1)"
   ]
  },
  {
   "cell_type": "code",
   "execution_count": 79,
   "id": "4813949b-e4ca-4acc-87a4-4fbbdfd9216b",
   "metadata": {},
   "outputs": [],
   "source": [
    "long_str1 = ''' 파이썬\n",
    "여러행\n",
    "입력할 수 \n",
    "있습니다.'''"
   ]
  },
  {
   "cell_type": "code",
   "execution_count": 81,
   "id": "331cd3e4-b781-4d0b-921e-ec247a777319",
   "metadata": {},
   "outputs": [
    {
     "name": "stdout",
     "output_type": "stream",
     "text": [
      " 파이썬\n",
      "여러행\n",
      "입력할 수 \n",
      "있습니다.\n"
     ]
    }
   ],
   "source": [
    "print(long_str1)"
   ]
  },
  {
   "cell_type": "code",
   "execution_count": null,
   "id": "0532ba9c-f446-4c08-97ec-c206e62cd204",
   "metadata": {},
   "outputs": [],
   "source": []
  }
 ],
 "metadata": {
  "kernelspec": {
   "display_name": "Python 3 (ipykernel)",
   "language": "python",
   "name": "python3"
  },
  "language_info": {
   "codemirror_mode": {
    "name": "ipython",
    "version": 3
   },
   "file_extension": ".py",
   "mimetype": "text/x-python",
   "name": "python",
   "nbconvert_exporter": "python",
   "pygments_lexer": "ipython3",
   "version": "3.12.4"
  }
 },
 "nbformat": 4,
 "nbformat_minor": 5
}
