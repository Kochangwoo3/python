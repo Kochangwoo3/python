{
 "cells": [
  {
   "cell_type": "markdown",
   "id": "442fe6bb-46fd-41a4-a38a-f38d064370d6",
   "metadata": {},
   "source": [
    "# 웹 스크레이핑\n",
    "- 컴퓨터 소프트웨어 기술을 활용해 웹 사이트 내에 있는 정보를 추출"
   ]
  },
  {
   "cell_type": "code",
   "execution_count": 2,
   "id": "aaa78178-c6b6-4fdd-9b63-7769ed5ed904",
   "metadata": {},
   "outputs": [
    {
     "data": {
      "text/plain": [
       "True"
      ]
     },
     "execution_count": 2,
     "metadata": {},
     "output_type": "execute_result"
    }
   ],
   "source": [
    "import webbrowser\n",
    "url = 'www.naver.com'\n",
    "webbrowser.open(url)"
   ]
  },
  {
   "cell_type": "code",
   "execution_count": 6,
   "id": "c050d5b3-c7cb-4832-b6e1-f54a8d2072a3",
   "metadata": {},
   "outputs": [
    {
     "data": {
      "text/plain": [
       "True"
      ]
     },
     "execution_count": 6,
     "metadata": {},
     "output_type": "execute_result"
    }
   ],
   "source": [
    "naver_serarch_url = \"https://search.naver.com/search.naver?where=nexearch&sm=top_hty&fbm=0&ie=utf8&query=\"\n",
    "search_word = '파이썬'\n",
    "url = naver_serarch_url + search_word\n",
    "\n",
    "webbrowser.open_new(url)"
   ]
  },
  {
   "cell_type": "code",
   "execution_count": 8,
   "id": "28b94754-0dde-48f6-be8f-8ab5e287d1ab",
   "metadata": {},
   "outputs": [
    {
     "data": {
      "text/plain": [
       "True"
      ]
     },
     "execution_count": 8,
     "metadata": {},
     "output_type": "execute_result"
    }
   ],
   "source": [
    "google_url = \"https://www.google.com/search?q=\"\n",
    "search_word = '환율'\n",
    "url = google_url + search_word\n",
    "webbrowser.open_new(url)"
   ]
  },
  {
   "cell_type": "code",
   "execution_count": 10,
   "id": "102c6c42-a5a5-445a-b7c8-4458149973d1",
   "metadata": {},
   "outputs": [],
   "source": [
    "# 여러 개의 웹 사이트에 접속하기\n",
    "urls = ['www.naver.com', 'www.daum.net', 'www.google.com']\n",
    "for url in urls:\n",
    "    webbrowser.open_new(url)"
   ]
  },
  {
   "cell_type": "markdown",
   "id": "e859deda-0f4b-4a50-9977-e8410a856822",
   "metadata": {},
   "source": [
    "# 웹 스크레이피을 위한 기본 지식\n",
    "- HTTP: 인터넷상에서 html문서의 정보를 주고 받을 수 있도록 만든 프로토콜(전송 규약) 입니다.\n",
    "- HTML: 웹페이지 의 구조적 구성을 위한 언어\n",
    "- 웹페이지: 웹 상에 있는 HTML로 구성된 개별문서, 보통 하나의 웹사이트는 여러 개의 웹페이지로 구성합니다.     "
   ]
  },
  {
   "cell_type": "code",
   "execution_count": 13,
   "id": "38706b7d-def6-4a31-8f0d-97deb343e806",
   "metadata": {},
   "outputs": [
    {
     "name": "stdout",
     "output_type": "stream",
     "text": [
      "Writing D:/dev/myPyCode/HTML_example.html\n"
     ]
    }
   ],
   "source": [
    "%%writefile D:/dev/myPyCode/HTML_example.html\n",
    "<!doctype html>\n",
    "<html>\n",
    " <head>\n",
    "  <meta charset=\"utf-8\">\n",
    "  <title>이것은 HTML 예제</title>\n",
    " </head>\n",
    " <body>\n",
    "  <h1>출간된 책 정보</h1>\n",
    "  <p id=\"book_title\">이해가 쏙쏙 되는 파이썬</p>\n",
    "  <p id=\"author\">홍길동</p>\n",
    "  <p id=\"publisher\">위키북스 출판사</p>\n",
    "  <p id=\"year\">2018</p>\n",
    " </body>\n",
    "</html>"
   ]
  },
  {
   "cell_type": "markdown",
   "id": "5e2070aa-f571-4c09-8db0-b100c73cb7ab",
   "metadata": {},
   "source": [
    "## 웹페이지의 HTML 소스 갖고 오기"
   ]
  },
  {
   "cell_type": "code",
   "execution_count": 1,
   "id": "b531a73e-d33f-447a-aeed-639d1b802d0f",
   "metadata": {},
   "outputs": [
    {
     "name": "stdout",
     "output_type": "stream",
     "text": [
      "<!doctype html><html itemscope=\"\" itemtype=\"http://schema.org/WebPage\" lang=\"ko\"><head><meta content=\"text/html; charset=UTF-8\" http-equiv=\"Content-Type\"><meta content=\"/images/branding/googleg/1x/googleg_standard_color_128dp.png\" itemprop=\"image\"><title>Google</title><script nonce=\"9Ge-dwhleJI3Ht_iXRye0A\">(function(){var _g={kEI:'bf7YZqLOFM3W1e8Prs2TsAc',kEXPI:'0,793108,2907164,677,432,48,541488,2891,8349,71099,213329,6699,41946,54825,2912,2,2,1,6960,3996,15676,8155,8860,14491,22435,9779,45600,17058,6049,70159,15816,1804,27092,19990,1633,13494,15784,12990,5217290,9479,998,146,2,139,5991145,936,30837872,43886,3,318,4,1281,3,2124363,23029351,12799,11730,88751,11542,195,10885,15165,3823,4,4354,150,28545,20735,21666,6758,155,2484,13504,7735,9140,761,3838,328,3217,4,1238,1766,11561,8112,409,519,4858,5,856,1670,5633,688,6673,1122,3,52,22,2941,2695,2757,1722,1346,4260,580,2133,3548,682,659,5407,779,2494,5028,356,1856,2,9,8567,699,4145,663,1713,566,920,978,308,221,1705,4840,1,6,2295,1413,2179,1375,262,187,10744,797,2388,156,5679,4,456,2,2076,558,5,711,60,556,10,499,560,1351,1069,730,7114,3558,1178,2348,2,694,206,3,2694,651,152,3,2,179,432,126,783,3,83,477,1002,470,365,911,2,2418,517,517,266,15,1123,1,1425,483,105,1190,77,1587,81,125,21,215,4,541,369,485,242,977,16,3,21,176,327,157,21,909,1041,4,3,1392,59,38,3,1151,3,759,6,3,612,6,490,2,257,2,1147,722,383,55,18,370,577,524,40,1148,240,2248,283,239,597,874,483,437,1091,807,21,1306,542,1,8,1,1,4,1,4,63,178,10,138,6,496,200,73,697,313,201,1274,300,206,131,1,225,1933,3,2712,481,21109281,364212,3,1423,3,10836,3639,3,7053,1112,47,5996',kBL:'ICJ0',kOPI:89978449};(function(){var a;((a=window.google)==null?0:a.stvsc)?google.kEI=_g.kEI:window.google=_g;}).call(this);})();(function(){google.sn='webhp';google.kHL='ko';})();(function(){\n",
      "var h=this||self;function l(){return window.google!==void 0&&window.google.kOPI!==void 0&&window.google.kOPI!==0?window.google.kOPI:null};var m,n=[];function p(a){for(var b;a&&(!a.getAttribute||!(b=a.getAttribute(\"eid\")));)a=a.parentNode;return b||m}function q(a){for(var b=null;a&&(!a.getAttribute||!(b=a.getAttribute(\"leid\")));)a=a.parentNode;return b}function r(a){/^http:/i.test(a)&&window.location.protocol===\"https:\"&&(google.ml&&google.ml(Error(\"a\"),!1,{src:a,glmm:1}),a=\"\");return a}\n",
      "function t(a,b,c,d,k){var e=\"\";b.search(\"&ei=\")===-1&&(e=\"&ei=\"+p(d),b.search(\"&lei=\")===-1&&(d=q(d))&&(e+=\"&lei=\"+d));d=\"\";var g=b.search(\"&cshid=\")===-1&&a!==\"slh\",f=[];f.push([\"zx\",Date.now().toString()]);h._cshid&&g&&f.push([\"cshid\",h._cshid]);c=c();c!=null&&f.push([\"opi\",c.toString()]);for(c=0;c<f.length;c++){if(c===0||c>0)d+=\"&\";d+=f[c][0]+\"=\"+f[c][1]}return\"/\"+(k||\"gen_204\")+\"?atyp=i&ct=\"+String(a)+\"&cad=\"+(b+e+d)};m=google.kEI;google.getEI=p;google.getLEI=q;google.ml=function(){return null};google.log=function(a,b,c,d,k,e){e=e===void 0?l:e;c||(c=t(a,b,e,d,k));if(c=r(c)){a=new Image;var g=n.length;n[g]=a;a.onerror=a.onload=a.onabort=function(){delete n[g]};a.src=c}};google.logUrl=function(a,b){b=b===void 0?l:b;return t(\"\",a,b)};}).call(this);(function(){google.y={};google.sy=[];var d;(d=google).x||(d.x=function(a,b){if(a)var c=a.id;else{do c=Math.random();while(google.y[c])}google.y[c]=[a,b];return!1});var e;(e=google).sx||(e.sx=function(a){google.sy.push(a)});google.lm=[];var f;(f=google).plm||(f.plm=function(a){google.lm.push.apply(google.lm,a)});google.lq=[];var g;(g=google).load||(g.load=function(a,b,c){google.lq.push([[a],b,c])});var h;(h=google).loadAll||(h.loadAll=function(a,b){google.lq.push([a,b])});google.bx=!1;var k;(k=google).lx||(k.lx=function(){});var l=[],m;(m=google).fce||(m.fce=function(a,b,c,n){l.push([a,b,c,n])});google.qce=l;}).call(this);google.f={};(function(){\n",
      "document.documentElement.addEventListener(\"submit\",function(b){var a;if(a=b.target){var c=a.getAttribute(\"data-submitfalse\");a=c===\"1\"||c===\"q\"&&!a.elements.q.value?!0:!1}else a=!1;a&&(b.preventDefault(),b.stopPropagation())},!0);document.documentElement.addEventListener(\"click\",function(b){var a;a:{for(a=b.target;a&&a!==document.documentElement;a=a.parentElement)if(a.tagName===\"A\"){a=a.getAttribute(\"data-nohref\")===\"1\";break a}a=!1}a&&b.preventDefault()},!0);}).call(this);</script><style>#gbar,#guser{font-size:13px;padding-top:1px !important;}#gbar{height:22px}#guser{padding-bottom:7px !important;text-align:right}.gbh,.gbd{border-top:1px solid #c9d7f1;font-size:1px}.gbh{height:0;position:absolute;top:24px;width:100%}@media all{.gb1{height:22px;margin-right:.5em;vertical-align:top}#gbar{float:left}}a.gb1,a.gb4{text-decoration:underline !important}a.gb1,a.gb4{color:#00c !important}.gbi .gb4{color:#dd8e27 !important}.gbf .gb4{color:#900 !important}\n",
      "</style><style>body,td,a,p,.h{font-family:굴림,돋움,arial,sans-serif}.ko{font-size:9pt}body{margin:0;overflow-y:scroll}#gog{padding:3px 8px 0}td{line-height:.8em}.gac_m td{line-height:17px}form{margin-bottom:20px}.h{color:#1967d2}em{font-weight:bold;font-style:normal}.lst{height:25px;width:496px}.gsfi,.lst{font:18px arial,sans-serif}.gsfs{font:17px arial,sans-serif}.ds{display:inline-box;display:inline-block;margin:3px 0 4px;margin-left:4px}input{font-family:inherit}body{background:#fff;color:#000}a{color:#681da8;text-decoration:none}a:hover,a:active{text-decoration:underline}.fl a{color:#1967d2}a:visited{color:#681da8}.sblc{padding-top:5px}.sblc a{display:block;margin:2px 0;margin-left:13px;font-size:11px}.lsbb{background:#f8f9fa;border:solid 1px;border-color:#dadce0 #70757a #70757a #dadce0;height:30px}.lsbb{display:block}#WqQANb a{display:inline-block;margin:0 12px}.lsb{background:url(/images/nav_logo229.png) 0 -261px repeat-x;color:#000;border:none;cursor:pointer;height:30px;margin:0;outline:0;font:15px arial,sans-serif;vertical-align:top}.lsb:active{background:#dadce0}.lst:focus{outline:none}.Ucigb{width:458px}</style><script nonce=\"9Ge-dwhleJI3Ht_iXRye0A\">(function(){window.google.erd={jsr:1,bv:2071,de:true};\n",
      "var g=this||self;var k,l=(k=g.mei)!=null?k:1,n,p=(n=g.sdo)!=null?n:!0,q=0,r,t=google.erd,v=t.jsr;google.ml=function(a,b,d,m,e){e=e===void 0?2:e;b&&(r=a&&a.message);d===void 0&&(d={});d.cad=\"ple_\"+google.ple+\".aple_\"+google.aple;if(google.dl)return google.dl(a,e,d,!0),null;b=d;if(v<0){window.console&&console.error(a,b);if(v===-2)throw a;b=!1}else b=!a||!a.message||a.message===\"Error loading script\"||q>=l&&!m?!1:!0;if(!b)return null;q++;d=d||{};b=encodeURIComponent;var c=\"/gen_204?atyp=i&ei=\"+b(google.kEI);google.kEXPI&&(c+=\"&jexpid=\"+b(google.kEXPI));c+=\"&srcpg=\"+b(google.sn)+\"&jsr=\"+b(t.jsr)+\n",
      "\"&bver=\"+b(t.bv);t.dpf&&(c+=\"&dpf=\"+b(t.dpf));var f=a.lineNumber;f!==void 0&&(c+=\"&line=\"+f);var h=a.fileName;h&&(h.indexOf(\"-extension:/\")>0&&(e=3),c+=\"&script=\"+b(h),f&&h===window.location.href&&(f=document.documentElement.outerHTML.split(\"\\n\")[f],c+=\"&cad=\"+b(f?f.substring(0,300):\"No script found.\")));google.ple&&google.ple===1&&(e=2);c+=\"&jsel=\"+e;for(var u in d)c+=\"&\",c+=b(u),c+=\"=\",c+=b(d[u]);c=c+\"&emsg=\"+b(a.name+\": \"+a.message);c=c+\"&jsst=\"+b(a.stack||\"N/A\");c.length>=12288&&(c=c.substr(0,12288));a=c;m||google.log(0,\"\",a);return a};window.onerror=function(a,b,d,m,e){r!==a&&(a=e instanceof Error?e:Error(a),d===void 0||\"lineNumber\"in a||(a.lineNumber=d),b===void 0||\"fileName\"in a||(a.fileName=b),google.ml(a,!1,void 0,!1,a.name===\"SyntaxError\"||a.message.substring(0,11)===\"SyntaxError\"||a.message.indexOf(\"Script error\")!==-1?3:0));r=null;p&&q>=l&&(window.onerror=null)};})();</script></head><body bgcolor=\"#fff\"><script nonce=\"9Ge-dwhleJI3Ht_iXRye0A\">(function(){var src='/images/nav_logo229.png';var iesg=false;document.body.onload = function(){window.n && window.n();if (document.images){new Image().src=src;}\n",
      "if (!iesg){document.f&&document.f.q.focus();document.gbqf&&document.gbqf.q.focus();}\n",
      "}\n",
      "})();</script><div id=\"mngb\"><div id=gbar><nobr><b class=gb1>검색</b> <a class=gb1 href=\"https://www.google.co.kr/imghp?hl=ko&tab=wi\">이미지</a> <a class=gb1 href=\"https://maps.google.co.kr/maps?hl=ko&tab=wl\">지도</a> <a class=gb1 href=\"https://play.google.com/?hl=ko&tab=w8\">Play</a> <a class=gb1 href=\"https://www.youtube.com/?tab=w1\">YouTube</a> <a class=gb1 href=\"https://news.google.com/?tab=wn\">뉴스</a> <a class=gb1 href=\"https://mail.google.com/mail/?tab=wm\">Gmail</a> <a class=gb1 href=\"https://drive.google.com/?tab=wo\">드라이브</a> <a class=gb1 style=\"text-decoration:none\" href=\"https://www.google.co.kr/intl/ko/about/products?tab=wh\"><u>더보기</u> &raquo;</a></nobr></div><div id=guser width=100%><nobr><span id=gbn class=gbi></span><span id=gbf class=gbf></span><span id=gbe></span><a href=\"http://www.google.co.kr/history/optout?hl=ko\" class=gb4>웹 기록</a> | <a  href=\"/preferences?hl=ko\" class=gb4>설정</a> | <a target=_top id=gb_70 href=\"https://accounts.google.com/ServiceLogin?hl=ko&passive=true&continue=https://www.google.co.kr/&ec=GAZAAQ\" class=gb4>로그인</a></nobr></div><div class=gbh style=left:0></div><div class=gbh style=right:0></div></div><center><br clear=\"all\" id=\"lgpd\"><div id=\"XjhHGf\"><img alt=\"Google\" height=\"92\" src=\"/images/branding/googlelogo/1x/googlelogo_white_background_color_272x92dp.png\" style=\"padding:28px 0 14px\" width=\"272\" id=\"hplogo\"><br><br></div><form action=\"/search\" name=\"f\"><table cellpadding=\"0\" cellspacing=\"0\"><tr valign=\"top\"><td width=\"25%\">&nbsp;</td><td align=\"center\" nowrap=\"\"><input name=\"ie\" value=\"EUC-KR\" type=\"hidden\"><input value=\"ko\" name=\"hl\" type=\"hidden\"><input name=\"source\" type=\"hidden\" value=\"hp\"><input name=\"biw\" type=\"hidden\"><input name=\"bih\" type=\"hidden\"><div class=\"ds\" style=\"height:32px;margin:4px 0\"><div style=\"position:relative;zoom:1\"><input class=\"lst Ucigb\" style=\"margin:0;padding:5px 8px 0 6px;vertical-align:top;color:#000;padding-right:38px\" autocomplete=\"off\" value=\"\" title=\"Google 검색\" maxlength=\"2048\" name=\"q\" size=\"57\"><img src=\"/textinputassistant/tia.png\" style=\"position:absolute;cursor:pointer;right:5px;top:4px;z-index:300\" data-script-url=\"/textinputassistant/13/ko_tia.js\" id=\"tsuid_1\" alt=\"\" height=\"23\" width=\"27\"><script nonce=\"9Ge-dwhleJI3Ht_iXRye0A\">(function(){var id='tsuid_1';document.getElementById(id).onclick = function(){var s = document.createElement('script');s.src = this.getAttribute('data-script-url');document.body.appendChild(s);};})();</script></div></div><br style=\"line-height:0\"><span class=\"ds\"><span class=\"lsbb\"><input class=\"lsb\" value=\"Google 검색\" name=\"btnG\" type=\"submit\"></span></span><span class=\"ds\"><span class=\"lsbb\"><input class=\"lsb\" id=\"tsuid_2\" value=\"I’m Feeling Lucky\" name=\"btnI\" type=\"submit\"><script nonce=\"9Ge-dwhleJI3Ht_iXRye0A\">(function(){var id='tsuid_2';document.getElementById(id).onclick = function(){if (this.form.q.value){this.checked = 1;if (this.form.iflsig)this.form.iflsig.disabled = false;}\n",
      "else top.location='/doodles/';};})();</script><input value=\"AL9hbdgAAAAAZtkMfdrUOyJ89L1J4CSXVfutrCqONDaM\" name=\"iflsig\" type=\"hidden\"></span></span></td><td class=\"fl sblc\" align=\"left\" nowrap=\"\" width=\"25%\"><a href=\"/advanced_search?hl=ko&amp;authuser=0\">고급검색</a></td></tr></table><input id=\"gbv\" name=\"gbv\" type=\"hidden\" value=\"1\"><script nonce=\"9Ge-dwhleJI3Ht_iXRye0A\">(function(){var a,b=\"1\";if(document&&document.getElementById)if(typeof XMLHttpRequest!=\"undefined\")b=\"2\";else if(typeof ActiveXObject!=\"undefined\"){var c,d,e=[\"MSXML2.XMLHTTP.6.0\",\"MSXML2.XMLHTTP.3.0\",\"MSXML2.XMLHTTP\",\"Microsoft.XMLHTTP\"];for(c=0;d=e[c++];)try{new ActiveXObject(d),b=\"2\"}catch(h){}}a=b;if(a==\"2\"&&location.search.indexOf(\"&gbv=2\")==-1){var f=google.gbvu,g=document.getElementById(\"gbv\");g&&(g.value=a);f&&window.setTimeout(function(){location.href=f},0)};}).call(this);</script></form><div style=\"font-size:83%;min-height:3.5em\"><br></div><span id=\"footer\"><div style=\"font-size:10pt\"><div style=\"margin:19px auto;text-align:center\" id=\"WqQANb\"><a href=\"/intl/ko/ads/\">광고</a><a href=\"http://www.google.co.kr/intl/ko/services/\">비즈니스 솔루션</a><a href=\"/intl/ko/about.html\">Google 정보</a><a href=\"https://www.google.co.kr/setprefdomain?prefdom=US&amp;sig=K_FqqLHHKBJPeRVAKQZ92YrBvAffg%3D\" id=\"fehl\">Google.com</a></div></div><p style=\"font-size:8pt;color:#70757a\">&copy; 2024 - <a href=\"/intl/ko/policies/privacy/\">개인정보처리방침</a> - <a href=\"/intl/ko/policies/terms/\">약관</a></p></span></center><script nonce=\"9Ge-dwhleJI3Ht_iXRye0A\">(function(){window.google.cdo={height:757,width:1440};(function(){var a=window.innerWidth,b=window.innerHeight;if(!a||!b){var c=window.document,d=c.compatMode==\"CSS1Compat\"?c.documentElement:c.body;a=d.clientWidth;b=d.clientHeight}\n",
      "if(a&&b&&(a!=google.cdo.width||b!=google.cdo.height)){var e=google,f=e.log,g=\"/client_204?&atyp=i&biw=\"+a+\"&bih=\"+b+\"&ei=\"+google.kEI,h=\"\",k=[],l=window.google!==void 0&&window.google.kOPI!==void 0&&window.google.kOPI!==0?window.google.kOPI:null;l!=null&&k.push([\"opi\",l.toString()]);for(var m=0;m<k.length;m++){if(m===0||m>0)h+=\"&\";h+=k[m][0]+\"=\"+k[m][1]}f.call(e,\"\",\"\",g+h)};}).call(this);})();</script>  <script nonce=\"9Ge-dwhleJI3Ht_iXRye0A\">(function(){google.xjs={basecomb:'/xjs/_/js/k\\x3dxjs.hp.en.0d1yQuzlO-c.O/ck\\x3dxjs.hp.vZsmrEGoitM.L.X.O/am\\x3dAQAAACAAAAAAAAAAAAAAAAAAAAAAAAAAgBAAAAAAAABAABgAwAEAACAAQEAAAAAAAB4AAAAAAAAQgBAAiAKAAAHAgfiOAEAALAIAwAs/d\\x3d1/ed\\x3d1/dg\\x3d0/ujg\\x3d1/rs\\x3dACT90oFwV6H49Ffuyfarum8BEkB5-7X9xw',basecss:'/xjs/_/ss/k\\x3dxjs.hp.vZsmrEGoitM.L.X.O/am\\x3dAQAAACAAAAAAAAAAAAAAAAAAAAAAAAAAABAAAAAAAABAAAAAAAAAACAAQEAAAAAAAAAAAAAAAAAQgBAAiAKAAAE/rs\\x3dACT90oEq02F4kiOIKdn4OwPTidDx8Jo-Uw',basejs:'/xjs/_/js/k\\x3dxjs.hp.en.0d1yQuzlO-c.O/am\\x3dAAAAAAAAAAAAAAAAAAAAAAAAAAAAAAAAgAAAAAAAAAAAABgAwAEAAAAAAAAAAAAAAB4AAAAAAAAAAAAAAAAAAADAgfiOAEAALAIAwAs/dg\\x3d0/rs\\x3dACT90oED-nayn3dSPAF5Ol6-mX27MsEYAQ',excm:[]};})();</script>  <link href=\"/xjs/_/ss/k=xjs.hp.vZsmrEGoitM.L.X.O/am=AQAAACAAAAAAAAAAAAAAAAAAAAAAAAAAABAAAAAAAABAAAAAAAAAACAAQEAAAAAAAAAAAAAAAAAQgBAAiAKAAAE/d=1/ed=1/rs=ACT90oEq02F4kiOIKdn4OwPTidDx8Jo-Uw/m=sb_he,d\" rel=\"stylesheet\" nonce=\"9Ge-dwhleJI3Ht_iXRye0A\">      <script nonce=\"9Ge-dwhleJI3Ht_iXRye0A\">(function(){var u='/xjs/_/js/k\\x3dxjs.hp.en.0d1yQuzlO-c.O/am\\x3dAAAAAAAAAAAAAAAAAAAAAAAAAAAAAAAAgAAAAAAAAAAAABgAwAEAAAAAAAAAAAAAAB4AAAAAAAAAAAAAAAAAAADAgfiOAEAALAIAwAs/d\\x3d1/ed\\x3d1/dg\\x3d3/rs\\x3dACT90oED-nayn3dSPAF5Ol6-mX27MsEYAQ/m\\x3dsb_he,d';var st=1;var amd=1000;var mmd=0;var pod=true;\n",
      "var f=this||self,g=function(a){return a};function h(){var a,b,c;return(a=(b=window.google)==null?void 0:(c=b.ia)==null?void 0:c.r.B2Jtyd)&&a.m===1&&a.cbfd!=null&&a.cbvi!=null?a:void 0};var k;var l={},m=function(a){this.g=a};m.prototype.toString=function(){return this.g+\"\"};var n=function(a){return a instanceof m&&a.constructor===m?a.g:\"type_error:TrustedResourceUrl\"};\n",
      "var p=/^\\s*(?!javascript:)(?:[\\w+.-]+:|[^:/?#]*(?:[/?#]|$))/i;var q=\"alternate author bookmark canonical cite help icon license modulepreload next prefetch dns-prefetch prerender preconnect preload prev search subresource\".split(\" \");function r(a,b){a.src=n(b);var c,d;(c=(b=(d=(c=(a.ownerDocument&&a.ownerDocument.defaultView||window).document).querySelector)==null?void 0:d.call(c,\"script[nonce]\"))?b.nonce||b.getAttribute(\"nonce\")||\"\":\"\")&&a.setAttribute(\"nonce\",c)};var t=function(a){var b=document;a=String(a);b.contentType===\"application/xhtml+xml\"&&(a=a.toLowerCase());return b.createElement(a)};function w(a){a=a===null?\"null\":a===void 0?\"undefined\":a;if(k===void 0){var b=null;var c=f.trustedTypes;if(c&&c.createPolicy){try{b=c.createPolicy(\"goog#html\",{createHTML:g,createScript:g,createScriptURL:g})}catch(d){f.console&&f.console.error(d.message)}k=b}else k=b}a=(b=k)?b.createScriptURL(a):a;return new m(a,l)};google.ps===void 0&&(google.ps=[]);function x(){var a=u,b=function(){};google.lx=google.stvsc?b:function(){y(a);google.lx=b};google.bx||google.lx()}function z(a,b){b&&r(a,w(b));var c=a.onload;a.onload=function(d){c&&c(d);google.ps=google.ps.filter(function(e){return a!==e})};google.ps.push(a);document.body.appendChild(a)}google.as=z;function y(a){google.timers&&google.timers.load&&google.tick&&google.tick(\"load\",\"xjsls\");var b=t(\"SCRIPT\");b.onerror=function(){google.ple=1};b.onload=function(){google.ple=0};google.xjsus=void 0;z(b,a);google.aple=-1;google.dp=!0}\n",
      "function A(){var a=[u];if(!google.dp){for(var b=0;b<a.length;b++){var c=t(\"LINK\"),d=c,e=w(a[b]);if(e instanceof m)d.href=n(e).toString(),d.rel=\"preload\";else{if(q.indexOf(\"preload\")===-1)throw Error(\"a`preload\");e=p.test(e)?e:void 0;e!==void 0&&(d.href=e,d.rel=\"preload\")}c.setAttribute(\"as\",\"script\");document.body.appendChild(c)}google.dp=!0}};function B(a){var b=a.getAttribute(\"jscontroller\");return(b===\"UBXHI\"||b===\"R3fhkb\"||b===\"TSZEqd\")&&a.hasAttribute(\"data-src\")}function C(){for(var a=document.getElementsByTagName(\"img\"),b=0,c=a.length;b<c;b++){var d=a[b];if(d.hasAttribute(\"data-lzy_\")&&Number(d.getAttribute(\"data-atf\"))&1&&!B(d))return!0}return!1}for(var D=document.getElementsByTagName(\"img\"),E=0,F=D.length;E<F;++E){var G=D[E];Number(G.getAttribute(\"data-atf\"))&1&&B(G)&&(G.src=G.getAttribute(\"data-src\"))};var H,I,J,K,L,M;function N(){google.xjsu=u;f._F_jsUrl=u;L=function(){x()};H=!1;I=(st===1||st===3)&&!!google.caft&&!C();J=h();K=(st===2||st===3)&&(!!google.rairicb||!!J)&&!C();M=pod}function O(){H||I||K||(L(),H=!0)}\n",
      "setTimeout(function(){google&&google.tick&&google.timers&&google.timers.load&&google.tick(\"load\",\"xjspls\");N();if(I||K){if(I){var a=function(){I=!1;O()};google.caft(a);window.setTimeout(a,amd)}K&&(a=function(){K=!1;O()},J?J.cbvi.push(a):(0,google.rairicb)(a),window.setTimeout(a,mmd));M&&(H||A())}else L()},0);})();window._ = window._ || {};window._DumpException = _._DumpException = function(e){throw e;};window._s = window._s || {};_s._DumpException = _._DumpException;window._qs = window._qs || {};_qs._DumpException = _._DumpException;(function(){var t=[1,128,0,0,0,0,17367040,0,4526784,117702756,167772176,1052672,2363392,120,0,270340,10519176,570884100,67111151,35592,3008];window._F_toggles = window._xjs_toggles = t;})();window._F_installCss = window._F_installCss || function(css){};(function(){google.jl={bfl:0,dw:false,ine:false,ubm:false,uwp:true,vs:false};})();(function(){var pmc='{\\x22d\\x22:{},\\x22sb_he\\x22:{\\x22agen\\x22:false,\\x22cgen\\x22:false,\\x22client\\x22:\\x22heirloom-hp\\x22,\\x22dh\\x22:true,\\x22ds\\x22:\\x22\\x22,\\x22fl\\x22:true,\\x22host\\x22:\\x22google.co.kr\\x22,\\x22jsonp\\x22:true,\\x22msgs\\x22:{\\x22cibl\\x22:\\x22\\\\uac80\\\\uc0c9\\\\uc5b4 \\\\uc9c0\\\\uc6b0\\\\uae30\\x22,\\x22dym\\x22:\\x22\\\\uc774\\\\uac83\\\\uc744 \\\\ucc3e\\\\uc73c\\\\uc168\\\\ub098\\\\uc694?\\x22,\\x22lcky\\x22:\\x22I\\\\u2019m Feeling Lucky\\x22,\\x22lml\\x22:\\x22\\\\uc790\\\\uc138\\\\ud788 \\\\uc54c\\\\uc544\\\\ubcf4\\\\uae30\\x22,\\x22psrc\\x22:\\x22\\\\uac80\\\\uc0c9\\\\uc5b4\\\\uac00 \\\\u003Ca href\\x3d\\\\\\x22/history\\\\\\x22\\\\u003E\\\\uc6f9 \\\\uae30\\\\ub85d\\\\u003C/a\\\\u003E\\\\uc5d0\\\\uc11c \\\\uc0ad\\\\uc81c\\\\ub418\\\\uc5c8\\\\uc2b5\\\\ub2c8\\\\ub2e4.\\x22,\\x22psrl\\x22:\\x22\\\\uc0ad\\\\uc81c\\x22,\\x22sbit\\x22:\\x22\\\\uc774\\\\ubbf8\\\\uc9c0\\\\ub85c \\\\uac80\\\\uc0c9\\x22,\\x22srch\\x22:\\x22Google \\\\uac80\\\\uc0c9\\x22},\\x22ovr\\x22:{},\\x22pq\\x22:\\x22\\x22,\\x22rfs\\x22:[],\\x22stok\\x22:\\x2215BLaU3ItBc_8jdhyaX8QfGovK4\\x22}}';google.pmc=JSON.parse(pmc);})();(function(){var b=function(a){var c=0;return function(){return c<a.length?{done:!1,value:a[c++]}:{done:!0}}};\n",
      "var e=this||self;var g,h;a:{for(var k=[\"CLOSURE_FLAGS\"],l=e,n=0;n<k.length;n++)if(l=l[k[n]],l==null){h=null;break a}h=l}var p=h&&h[610401301];g=p!=null?p:!1;var q,r=e.navigator;q=r?r.userAgentData||null:null;function t(a){return g?q?q.brands.some(function(c){return(c=c.brand)&&c.indexOf(a)!=-1}):!1:!1}function u(a){var c;a:{if(c=e.navigator)if(c=c.userAgent)break a;c=\"\"}return c.indexOf(a)!=-1};function v(){return g?!!q&&q.brands.length>0:!1}function w(){return u(\"Safari\")&&!(x()||(v()?0:u(\"Coast\"))||(v()?0:u(\"Opera\"))||(v()?0:u(\"Edge\"))||(v()?t(\"Microsoft Edge\"):u(\"Edg/\"))||(v()?t(\"Opera\"):u(\"OPR\"))||u(\"Firefox\")||u(\"FxiOS\")||u(\"Silk\")||u(\"Android\"))}function x(){return v()?t(\"Chromium\"):(u(\"Chrome\")||u(\"CriOS\"))&&!(v()?0:u(\"Edge\"))||u(\"Silk\")}function y(){return u(\"Android\")&&!(x()||u(\"Firefox\")||u(\"FxiOS\")||(v()?0:u(\"Opera\"))||u(\"Silk\"))};var z=v()?!1:u(\"Trident\")||u(\"MSIE\");y();x();w();var A=!z&&!w(),D=function(a){if(/-[a-z]/.test(\"ved\"))return null;if(A&&a.dataset){if(y()&&!(\"ved\"in a.dataset))return null;a=a.dataset.ved;return a===void 0?null:a}return a.getAttribute(\"data-\"+\"ved\".replace(/([A-Z])/g,\"-$1\").toLowerCase())};var E=[],F=null;function G(a){a=a.target;var c=performance.now(),f=[],H=f.concat,d=E;if(!(d instanceof Array)){var m=typeof Symbol!=\"undefined\"&&Symbol.iterator&&d[Symbol.iterator];if(m)d=m.call(d);else if(typeof d.length==\"number\")d={next:b(d)};else throw Error(\"b`\"+String(d));for(var B=[];!(m=d.next()).done;)B.push(m.value);d=B}E=H.call(f,d,[c]);if(a&&a instanceof HTMLElement)if(a===F){if(c=E.length>=4)c=(E[E.length-1]-E[E.length-4])/1E3<5;if(c){c=google.getEI(a);a.hasAttribute(\"data-ved\")?f=a?D(a)||\"\":\"\":f=(f=\n",
      "a.closest(\"[data-ved]\"))?D(f)||\"\":\"\";f=f||\"\";if(a.hasAttribute(\"jsname\"))a=a.getAttribute(\"jsname\");else{var C;a=(C=a.closest(\"[jsname]\"))==null?void 0:C.getAttribute(\"jsname\")}google.log(\"rcm\",\"&ei=\"+c+\"&tgtved=\"+f+\"&jsname=\"+(a||\"\"))}}else F=a,E=[c]}window.document.addEventListener(\"DOMContentLoaded\",function(){document.body.addEventListener(\"click\",G)});}).call(this);</script></body></html>\n"
     ]
    }
   ],
   "source": [
    "import requests\n",
    "r = requests.get(\"https://www.google.co.kr\")\n",
    "# r 응답 객체\n",
    "print(r.text)"
   ]
  },
  {
   "cell_type": "code",
   "execution_count": 22,
   "id": "9f4b91e0-b314-4c03-86d7-47a66f8aa0ac",
   "metadata": {},
   "outputs": [
    {
     "name": "stdout",
     "output_type": "stream",
     "text": [
      "<html>\n",
      " <body>\n",
      "  <div>\n",
      "   <span>\n",
      "    <a href=\"http://www.naver.com\">\n",
      "     naver\n",
      "    </a>\n",
      "    <a href=\"https://www.google.com\">\n",
      "     google\n",
      "    </a>\n",
      "    <a href=\"http://www.daum.net/\">\n",
      "     daum\n",
      "    </a>\n",
      "   </span>\n",
      "  </div>\n",
      " </body>\n",
      "</html>\n",
      "\n"
     ]
    }
   ],
   "source": [
    "from bs4 import BeautifulSoup\n",
    "# 추출\n",
    "# 테스트용 html 코드\n",
    "html = \"\"\"<html><body><div><span>\\\n",
    "        <a href=http://www.naver.com>naver</a>\\\n",
    "        <a href=https://www.google.com>google</a>\\\n",
    "        <a href=http://www.daum.net/>daum</a>\\\n",
    "        </span></div></body></html>\"\"\"  \n",
    "# BeautifulSoup 를 이용해 html 소스를 파싱\n",
    "soup = BeautifulSoup(html, 'lxml')  # lxml : html소스를 처리하기 위한 파서\n",
    "print(soup.prettify())\n"
   ]
  },
  {
   "cell_type": "code",
   "execution_count": 24,
   "id": "6a9eb17f-02f0-4c64-8eca-20ae37e56e4f",
   "metadata": {},
   "outputs": [
    {
     "data": {
      "text/plain": [
       "<a href=\"http://www.naver.com\">naver</a>"
      ]
     },
     "execution_count": 24,
     "metadata": {},
     "output_type": "execute_result"
    }
   ],
   "source": [
    "soup.find('a')"
   ]
  },
  {
   "cell_type": "code",
   "execution_count": 26,
   "id": "fbbebbfd-9c2d-442d-8c89-e55cc60bcc75",
   "metadata": {},
   "outputs": [
    {
     "data": {
      "text/plain": [
       "'naver'"
      ]
     },
     "execution_count": 26,
     "metadata": {},
     "output_type": "execute_result"
    }
   ],
   "source": [
    "soup.find('a').get_text()"
   ]
  },
  {
   "cell_type": "code",
   "execution_count": 28,
   "id": "f66020ea-4021-4799-b363-5156c3a006ed",
   "metadata": {},
   "outputs": [
    {
     "data": {
      "text/plain": [
       "[<a href=\"http://www.naver.com\">naver</a>,\n",
       " <a href=\"https://www.google.com\">google</a>,\n",
       " <a href=\"http://www.daum.net/\">daum</a>]"
      ]
     },
     "execution_count": 28,
     "metadata": {},
     "output_type": "execute_result"
    }
   ],
   "source": [
    "soup.find_all('a')  # a요소 리턴타입 리스트"
   ]
  },
  {
   "cell_type": "code",
   "execution_count": 30,
   "id": "ae94c7c1-e967-435a-9671-dbf8e3a3f6bc",
   "metadata": {},
   "outputs": [
    {
     "name": "stdout",
     "output_type": "stream",
     "text": [
      "naver\n",
      "google\n",
      "daum\n"
     ]
    }
   ],
   "source": [
    "site_names = soup.find_all('a')\n",
    "for site_name in site_names:\n",
    "    print(site_name.get_text())"
   ]
  },
  {
   "cell_type": "code",
   "execution_count": 32,
   "id": "f733bf61-e6b7-4fe0-b433-1976a7cef20c",
   "metadata": {},
   "outputs": [],
   "source": [
    "from bs4 import BeautifulSoup\n",
    "\n",
    "# 테스트용 HTML 코드\n",
    "html2 = \"\"\"\n",
    "<html>\n",
    " <head>\n",
    "  <title>작품과 작가 모음</title>\n",
    " </head>\n",
    " <body>\n",
    "  <h1>책 정보</h1>\n",
    "  <p id=\"book_title\">토지</p>\n",
    "  <p id=\"author\">박경리</p>\n",
    "  \n",
    "  <p id=\"book_title\">태백산맥</p>\n",
    "  <p id=\"author\">조정래</p>\n",
    "\n",
    "  <p id=\"book_title\">감옥으로부터의 사색</p>\n",
    "  <p id=\"author\">신영복</p>\n",
    " </body>\n",
    "</html>\n",
    "\"\"\" \n",
    "\n",
    "soup2 = BeautifulSoup(html2, 'lxml')\n"
   ]
  },
  {
   "cell_type": "code",
   "execution_count": 34,
   "id": "7b96ff85-8084-4df3-b319-fee734491b26",
   "metadata": {},
   "outputs": [
    {
     "data": {
      "text/plain": [
       "<title>작품과 작가 모음</title>"
      ]
     },
     "execution_count": 34,
     "metadata": {},
     "output_type": "execute_result"
    }
   ],
   "source": [
    "soup2.title"
   ]
  },
  {
   "cell_type": "code",
   "execution_count": 36,
   "id": "dadec479-f1f3-496d-88b6-da50a678c81f",
   "metadata": {},
   "outputs": [
    {
     "data": {
      "text/plain": [
       "<body>\n",
       "<h1>책 정보</h1>\n",
       "<p id=\"book_title\">토지</p>\n",
       "<p id=\"author\">박경리</p>\n",
       "<p id=\"book_title\">태백산맥</p>\n",
       "<p id=\"author\">조정래</p>\n",
       "<p id=\"book_title\">감옥으로부터의 사색</p>\n",
       "<p id=\"author\">신영복</p>\n",
       "</body>"
      ]
     },
     "execution_count": 36,
     "metadata": {},
     "output_type": "execute_result"
    }
   ],
   "source": [
    "soup2.body"
   ]
  },
  {
   "cell_type": "code",
   "execution_count": 38,
   "id": "f9eb9742-4eb2-4018-8a5c-15ee5373f032",
   "metadata": {},
   "outputs": [
    {
     "data": {
      "text/plain": [
       "<h1>책 정보</h1>"
      ]
     },
     "execution_count": 38,
     "metadata": {},
     "output_type": "execute_result"
    }
   ],
   "source": [
    "soup2.body.h1"
   ]
  },
  {
   "cell_type": "code",
   "execution_count": 40,
   "id": "ad75514b-b79b-44b9-9838-f243a319b585",
   "metadata": {},
   "outputs": [
    {
     "data": {
      "text/plain": [
       "[<p id=\"book_title\">토지</p>,\n",
       " <p id=\"author\">박경리</p>,\n",
       " <p id=\"book_title\">태백산맥</p>,\n",
       " <p id=\"author\">조정래</p>,\n",
       " <p id=\"book_title\">감옥으로부터의 사색</p>,\n",
       " <p id=\"author\">신영복</p>]"
      ]
     },
     "execution_count": 40,
     "metadata": {},
     "output_type": "execute_result"
    }
   ],
   "source": [
    "soup2.find_all('p')"
   ]
  },
  {
   "cell_type": "code",
   "execution_count": 42,
   "id": "f2317164-aa3c-4c76-a3a9-6951ba2087dc",
   "metadata": {},
   "outputs": [
    {
     "data": {
      "text/plain": [
       "<p id=\"book_title\">토지</p>"
      ]
     },
     "execution_count": 42,
     "metadata": {},
     "output_type": "execute_result"
    }
   ],
   "source": [
    "soup2.find('p', {\"id\":\"book_title\"})"
   ]
  },
  {
   "cell_type": "code",
   "execution_count": 44,
   "id": "ef9aa3dc-0476-4ffc-ad24-3f2db44461cd",
   "metadata": {},
   "outputs": [
    {
     "name": "stdout",
     "output_type": "stream",
     "text": [
      "토지 / 박경리\n",
      "태백산맥 / 조정래\n",
      "감옥으로부터의 사색 / 신영복\n"
     ]
    }
   ],
   "source": [
    "# 책제목  / 저자\n",
    "from bs4 import BeautifulSoup\n",
    "soup2 = BeautifulSoup(html2, \"lxml\")\n",
    "\n",
    "book_titles = soup2.find_all('p', {'id':'book_title'})\n",
    "authors = soup2.find_all('p', {'id':'author'})\n",
    "\n",
    "for book_title, author in zip(book_titles, authors):\n",
    "    print(book_title.get_text() + ' / ' + author.get_text())"
   ]
  },
  {
   "cell_type": "code",
   "execution_count": 46,
   "id": "d8212214-bea9-47e7-ad74-f17f7ed7ff42",
   "metadata": {},
   "outputs": [
    {
     "name": "stdout",
     "output_type": "stream",
     "text": [
      "Writing D:/dev/myPyCode/HTML_example_my_site.html\n"
     ]
    }
   ],
   "source": [
    "%%writefile D:/dev/myPyCode/HTML_example_my_site.html\n",
    "<!doctype html>\n",
    "<html>\n",
    "  <head>\n",
    "    <meta charset=\"utf-8\">\n",
    "    <title>사이트 모음</title>\n",
    "  </head>\n",
    "  <body>\n",
    "    <p id=\"title\"><b>자주 가는 사이트 모음</b></p>\n",
    "    <p id=\"contents\">이곳은 자주 가는 사이트를 모아둔 곳입니다.</p>\n",
    "    <a href=\"http://www.naver.com\" class=\"portal\" id=\"naver\">네이버</a> <br>\n",
    "    <a href=\"https://www.google.com\" class=\"search\" id=\"google\">구글</a> <br>\n",
    "    <a href=\"http://www.daum.net\" class=\"portal\" id=\"daum\">다음</a> <br>\n",
    "    <a href=\"http://www.nl.go.kr\" class=\"government\" id=\"nl\">국립중앙도서관</a>\n",
    "  </body>\n",
    "</html>"
   ]
  },
  {
   "cell_type": "code",
   "execution_count": 48,
   "id": "29035d01-ba7b-46b5-8525-81f3d180341d",
   "metadata": {},
   "outputs": [
    {
     "data": {
      "text/plain": [
       "[<a class=\"portal\" href=\"http://www.naver.com\" id=\"naver\">네이버</a>,\n",
       " <a class=\"search\" href=\"https://www.google.com\" id=\"google\">구글</a>,\n",
       " <a class=\"portal\" href=\"http://www.daum.net\" id=\"daum\">다음</a>,\n",
       " <a class=\"government\" href=\"http://www.nl.go.kr\" id=\"nl\">국립중앙도서관</a>]"
      ]
     },
     "execution_count": 48,
     "metadata": {},
     "output_type": "execute_result"
    }
   ],
   "source": [
    "f = open(\"D:/dev/myPyCode/HTML_example_my_site.html\", encoding='utf-8')\n",
    "html3 = f.read()\n",
    "f.close()\n",
    "\n",
    "soup3 = BeautifulSoup(html3, 'lxml')\n",
    "soup3.select('a')"
   ]
  },
  {
   "cell_type": "code",
   "execution_count": 50,
   "id": "0799e2d9-740d-4110-802c-8ccb6134d4f6",
   "metadata": {},
   "outputs": [
    {
     "data": {
      "text/plain": [
       "[<a class=\"portal\" href=\"http://www.naver.com\" id=\"naver\">네이버</a>,\n",
       " <a class=\"portal\" href=\"http://www.daum.net\" id=\"daum\">다음</a>]"
      ]
     },
     "execution_count": 50,
     "metadata": {},
     "output_type": "execute_result"
    }
   ],
   "source": [
    "soup3.select('a.portal')"
   ]
  },
  {
   "cell_type": "code",
   "execution_count": 52,
   "id": "0000945e-6526-4e2d-8cf3-2f6d466f9018",
   "metadata": {},
   "outputs": [
    {
     "data": {
      "text/plain": [
       "[<a class=\"portal\" href=\"http://www.naver.com\" id=\"naver\">네이버</a>]"
      ]
     },
     "execution_count": 52,
     "metadata": {},
     "output_type": "execute_result"
    }
   ],
   "source": [
    "soup3.select('a#naver')"
   ]
  },
  {
   "cell_type": "markdown",
   "id": "f68c0171-c9ee-428e-8349-7c9cfe072f4b",
   "metadata": {},
   "source": [
    "## 줄 바꿈으로 가독성 높이기"
   ]
  },
  {
   "cell_type": "code",
   "execution_count": 4,
   "id": "b53b8d3f-b7c5-452b-b5d7-47135396f002",
   "metadata": {},
   "outputs": [
    {
     "name": "stdout",
     "output_type": "stream",
     "text": [
      "Writing D:/dev/myPyCode/br_example_constitution.html\n"
     ]
    }
   ],
   "source": [
    "%%writefile D:/dev/myPyCode/br_example_constitution.html\n",
    "<!doctype html>\n",
    "<html>\n",
    "  <head>\n",
    "    <meta charset=\"utf-8\">\n",
    "    <title>줄 바꿈 테스트 예제</title>\n",
    "  </head>\n",
    "  <body>\n",
    "  <p id=\"title\"><b>대한민국헌법</b></p>\n",
    "  <p id=\"content\">제1조 <br/>①대한민국은 민주공화국이다.<br/>②대한민국의 주권은 국민에게 있고, 모든 권력은 국민으로부터 나온다.</p>\n",
    "  <p id=\"content\">제2조 <br/>①대한민국의 국민이 되는 요건은 법률로 정한다.<br/>②국가는 법률이 정하는 바에 의하여 재외국민을 보호할 의무를 진다.</p>\n",
    "  </body>\n",
    "</html>"
   ]
  },
  {
   "cell_type": "code",
   "execution_count": 12,
   "id": "4c5995b2-c9e7-4dd1-baae-68f7f00a7bc4",
   "metadata": {},
   "outputs": [
    {
     "name": "stdout",
     "output_type": "stream",
     "text": [
      "대한민국헌법\n",
      "제1조 ①대한민국은 민주공화국이다.②대한민국의 주권은 국민에게 있고, 모든 권력은 국민으로부터 나온다.\n",
      "제2조 ①대한민국의 국민이 되는 요건은 법률로 정한다.②국가는 법률이 정하는 바에 의하여 재외국민을 보호할 의무를 진다.\n"
     ]
    }
   ],
   "source": [
    "from bs4 import BeautifulSoup\n",
    "\n",
    "f = open('D:/dev/myPyCode/br_example_constitution.html', encoding='utf-8')\n",
    "html_source = f.read()\n",
    "f.close()\n",
    "\n",
    "soup = BeautifulSoup(html_source, 'lxml')\n",
    "\n",
    "title = soup.find('p', {\"id\":\"title\"})\n",
    "contents = soup.find_all('p', {\"id\":\"content\"})\n",
    "\n",
    "print(title.get_text())\n",
    "for content in contents:\n",
    "    print(content.get_text())"
   ]
  },
  {
   "cell_type": "code",
   "execution_count": 18,
   "id": "466ac53e-08b5-44a1-b593-c173ad283d23",
   "metadata": {},
   "outputs": [
    {
     "name": "stdout",
     "output_type": "stream",
     "text": [
      "===> 태그 p로 찾은 요소\n",
      "<p id=\"content\">제1조 <br/>①대한민국은 민주공화국이다.<br/>②대한민국의 주권은 국민에게 있고, 모든 권력은 국민으로부터 나온다.</p>\n",
      "===> 결과에서 태그 br로 찾은 요소:  <br/>\n",
      "===> 태그 br을 개행문자로 바꾼 결과\n",
      "<p id=\"content\">제1조 \n",
      "①대한민국은 민주공화국이다.<br/>②대한민국의 주권은 국민에게 있고, 모든 권력은 국민으로부터 나온다.</p>\n"
     ]
    }
   ],
   "source": [
    "html1 = '<p id=\"content\">제1조 <br/>①대한민국은 민주공화국이다.<br/>②대한민국의 주권은 국민에게 있고, 모든 권력은 국민으로부터 나온다.</p>'\n",
    "\n",
    "soup1 = BeautifulSoup(html1, \"lxml\")\n",
    "print(\"===> 태그 p로 찾은 요소\")\n",
    "content1 = soup1.find('p', {\"id\":\"content\"})\n",
    "print(content1)\n",
    "br_content = content1.find(\"br\")\n",
    "print(\"===> 결과에서 태그 br로 찾은 요소: \", br_content)\n",
    "\n",
    "br_content.replace_with(\"\\n\")\n",
    "print(\"===> 태그 br을 개행문자로 바꾼 결과\")\n",
    "print(content1)"
   ]
  },
  {
   "cell_type": "code",
   "execution_count": 22,
   "id": "1ef4bc93-4196-4126-9ce3-14f4509ad509",
   "metadata": {},
   "outputs": [
    {
     "name": "stdout",
     "output_type": "stream",
     "text": [
      "<p id=\"content\">제1조 \n",
      "①대한민국은 민주공화국이다.\n",
      "②대한민국의 주권은 국민에게 있고, 모든 권력은 국민으로부터 나온다.</p>\n"
     ]
    }
   ],
   "source": [
    "soup2 = BeautifulSoup(html1, \"lxml\")\n",
    "content2 = soup2.find('p', {\"id\":\"content\"})\n",
    "\n",
    "br_contents = content2.find_all(\"br\")\n",
    "#print(br_contents)\n",
    "for br_content in br_contents:\n",
    "    br_content.replace_with(\"\\n\")\n",
    "print(content2)"
   ]
  },
  {
   "cell_type": "code",
   "execution_count": 28,
   "id": "94bebbbb-6e53-43e3-87ef-a034a4b31e38",
   "metadata": {},
   "outputs": [
    {
     "name": "stdout",
     "output_type": "stream",
     "text": [
      "제1조 \n",
      "①대한민국은 민주공화국이다.\n",
      "②대한민국의 주권은 국민에게 있고, 모든 권력은 국민으로부터 나온다.\n"
     ]
    }
   ],
   "source": [
    "# 기능을 함수로\n",
    "def replace_newline(soup_html):\n",
    "    br_to_newlines = soup_html.find_all(\"br\")\n",
    "    for br_to_newline in br_to_newlines:\n",
    "        br_to_newline.replace_with(\"\\n\")\n",
    "    return soup_html\n",
    "\n",
    "# 함수를 이용한 결과에서 요소의 내용만  추출 get_text()\n",
    "soup2 = BeautifulSoup(html1, \"lxml\")\n",
    "content2 = soup2.find('p', {\"id\":\"content\"})\n",
    "content3 = replace_newline(content2)\n",
    "print(content3.get_text())"
   ]
  },
  {
   "cell_type": "code",
   "execution_count": 32,
   "id": "f1d62426-e9fa-45f0-a5b1-6f9482f5c02f",
   "metadata": {},
   "outputs": [
    {
     "name": "stdout",
     "output_type": "stream",
     "text": [
      "대한민국헌법 \n",
      "\n",
      "제1조 \n",
      "①대한민국은 민주공화국이다.\n",
      "②대한민국의 주권은 국민에게 있고, 모든 권력은 국민으로부터 나온다. \n",
      "\n",
      "제2조 \n",
      "①대한민국의 국민이 되는 요건은 법률로 정한다.\n",
      "②국가는 법률이 정하는 바에 의하여 재외국민을 보호할 의무를 진다. \n",
      "\n"
     ]
    }
   ],
   "source": [
    "from bs4 import BeautifulSoup\n",
    "soup = BeautifulSoup(html_source, \"lxml\")\n",
    "\n",
    "title = soup.find('p', {\"id\":\"title\"})\n",
    "contents = soup.find_all('p', {\"id\":\"content\"})\n",
    "\n",
    "print(title.get_text(), '\\n')\n",
    "\n",
    "for content in contents:\n",
    "    content1 = replace_newline(content)\n",
    "    print(content1.get_text(), '\\n')"
   ]
  },
  {
   "cell_type": "markdown",
   "id": "33ae59ac-f537-48bc-9bda-a905f2d59c22",
   "metadata": {},
   "source": [
    "# 14.3 웹 사이트에서 데이터 가져오기\n",
    "- 주의사항: 너무 빈번한 접근은 해당 웹사이트 서버 부담 -\n",
    "- 웹사이트 주소 변경되기도 해서 안될수도 있다\n",
    "- 인터넷 공개된 데이타 저작권이 있는 경우 있어 활용하기 전에 저작권 침"
   ]
  },
  {
   "cell_type": "code",
   "execution_count": 46,
   "id": "9a5b18c1-456f-4ec7-9fd4-2c5b6c442da0",
   "metadata": {},
   "outputs": [
    {
     "name": "stdout",
     "output_type": "stream",
     "text": [
      "[2024년 9월 일본에서 상위 웹사이트]\n",
      "1위: google.com\n",
      "2위: youtube.com\n",
      "3위: yahoo.co.jp\n",
      "4위: amazon.co.jp\n",
      "5위: twitter.com\n",
      "6위: wikipedia.org\n",
      "7위: rakuten.co.jp\n",
      "8위: x.com\n",
      "9위: google.co.jp\n",
      "10위: tenki.jp\n"
     ]
    }
   ],
   "source": [
    "import requests\n",
    "from bs4 import BeautifulSoup\n",
    "kind = \"jp\"\n",
    "nation = {\"kr\":\"대한민국\", \"us\":\"미국\", \"jp\": \"일본\" }\n",
    "\n",
    "url = \"https://ko.semrush.com/trending-websites/{0}/all\".format(kind)\n",
    "\n",
    "html_website_ranking = requests.get(url).text\n",
    "soup_website_ranking = BeautifulSoup(html_website_ranking, \"lxml\")\n",
    "\n",
    "# tbody 태그요소 하위에 a태그 요소\n",
    "website_ranking = soup_website_ranking.select('tbody a')\n",
    "#website_ranking[0:5]\n",
    "#website_ranking[0].get_text()\n",
    "# for문을 적용한 리스트 컴프리헨션 이용\n",
    "website_ranking_address = [ website_ranking_element.get_text()  for website_ranking_element  in website_ranking]\n",
    "\n",
    "print('[2024년 9월 {0}에서 상위 웹사이트]'.format(nation[kind]))\n",
    "for k in range(10):  # [0,1,2,3,4,5,6,7,8,9]\n",
    "    print(\"{0}위: {1}\".format(k+1,  website_ranking_address[k]))"
   ]
  },
  {
   "cell_type": "markdown",
   "id": "3a9f8e3e-7014-4274-9981-83197f36ceb6",
   "metadata": {},
   "source": [
    "# 벅스 주간 음악순위 웹 스크레이핑"
   ]
  },
  {
   "cell_type": "code",
   "execution_count": 49,
   "id": "e55d174c-8455-4b5d-b794-0d6a2298f917",
   "metadata": {},
   "outputs": [
    {
     "data": {
      "text/plain": [
       "['Supernatural', 'NewJeans']"
      ]
     },
     "execution_count": 49,
     "metadata": {},
     "output_type": "execute_result"
    }
   ],
   "source": [
    "import requests\n",
    "from bs4 import BeautifulSoup\n",
    "\n",
    "# 벅스 주간 뮤직 차트 사이트\n",
    "url =   'https://music.bugs.co.kr/chart/track/week/total?chartdate=20240901'\n",
    "# 일간   https://music.bugs.co.kr/chart/track/day/total\n",
    "# 실시간 https://music.bugs.co.kr/chart/track/realtime/total\n",
    "\n",
    "html_music = requests.get(url).text\n",
    "soup_music = BeautifulSoup(html_music, 'lxml')\n",
    "\n",
    "titles = soup_music.select('p.title a')\n",
    "# 노래제목 리스트 컴프리헨션\n",
    "music_titles = [title.get_text()  for title in titles ]\n",
    "\n",
    "artists = soup_music.select('p.artist a')\n",
    "# 가수 리스트 컴프리헨션\n",
    "music_artists = [artist.get_text()  for artist in artists ]\n",
    "\n",
    "music_titles_artistes= {}\n",
    "order = 0\n",
    "\n",
    "for (music_title, music_artist) in zip(music_titles, music_artists):\n",
    "    order = order + 1\n",
    "    music_titles_artistes[order] = [music_title, music_artist]\n",
    "\n",
    "music_titles_artistes[1]"
   ]
  },
  {
   "cell_type": "markdown",
   "id": "9ee1a2b8-2bda-4531-a38e-da2c8bae66e9",
   "metadata": {},
   "source": [
    "##### 날짜를 입력하면 벅스 차트에서 주간 음악순위 (1~100) 의 곡명과 아티스트를 반환"
   ]
  },
  {
   "cell_type": "code",
   "execution_count": 61,
   "id": "85e49ab2-260b-4e98-9b05-f0249a83e735",
   "metadata": {},
   "outputs": [],
   "source": [
    "import requests\n",
    "from bs4 import BeautifulSoup\n",
    "\n",
    "def bugs_music_week_top100(year, month, day):\n",
    "    # 두자리로 \n",
    "    month = \"{0:02d}\".format(month)\n",
    "    day = \"{0:02d}\".format(day)\n",
    "\n",
    "    base_url = \"https://music.bugs.co.kr/chart/track/week/total?\"\n",
    "    url = base_url + 'chartdate={0}{1}{2}'.format(year, month, day)\n",
    "\n",
    "    html_music = requests.get(url).text\n",
    "    soup_music = BeautifulSoup(html_music, \"lxml\")\n",
    "    # 노래제목리스트와 가수리스트\n",
    "    titles = soup_music.select('p.title a')\n",
    "    artists = soup_music.select('p.artist a')\n",
    "\n",
    "    # 리스트 컴프리헨션\n",
    "    music_titles = [ title.get_text() for title in titles  ]\n",
    "    music_artists = [ artist.get_text() for artist in artists ]\n",
    "\n",
    "    return music_titles, music_artists"
   ]
  },
  {
   "cell_type": "code",
   "execution_count": 65,
   "id": "4b53942e-5dff-4842-b5a4-e926f947abea",
   "metadata": {},
   "outputs": [
    {
     "data": {
      "text/plain": [
       "['D:/dev/myPyCode/data/bugs_week_top100_0901.txt']"
      ]
     },
     "execution_count": 65,
     "metadata": {},
     "output_type": "execute_result"
    }
   ],
   "source": [
    "import glob\n",
    "\n",
    "# 날짜 지정  함수 호출\n",
    "bugs_music_titles, bugs_music_artists = bugs_music_week_top100(2024, 9, 1)\n",
    "# 파일명 지정\n",
    "file_name = \"D:/dev/myPyCode/data/bugs_week_top100_0901.txt\"\n",
    "# 파일 열기\n",
    "f = open(file_name, \"w\")\n",
    "\n",
    "# 추출된 제목과 가수 파일에 저장\n",
    "for k in range(len(bugs_music_titles)):\n",
    "    f.write(\"{0:02d}위: {1} / {2}\\n\".format(k+1, bugs_music_titles[k].strip(), bugs_music_artists[k].strip()))\n",
    "\n",
    "f.close()\n",
    "\n",
    "glob.glob(file_name)\n",
    "\n"
   ]
  },
  {
   "cell_type": "markdown",
   "id": "2066cc2d-6131-4a1f-918d-6b6b2c0d3512",
   "metadata": {},
   "source": [
    "##### 하나의 이미지 내려받기"
   ]
  },
  {
   "cell_type": "code",
   "execution_count": 70,
   "id": "15ba2aad-6478-4615-b6f1-e15636e7e9f5",
   "metadata": {},
   "outputs": [
    {
     "data": {
      "text/plain": [
       "<Response [200]>"
      ]
     },
     "execution_count": 70,
     "metadata": {},
     "output_type": "execute_result"
    }
   ],
   "source": [
    "# https://www.python.org/static/img/python-logo.png\n",
    "import requests\n",
    "\n",
    "url = 'https://www.python.org/static/img/python-logo.png'\n",
    "html_image = requests.get(url)\n",
    "html_image\n"
   ]
  },
  {
   "cell_type": "code",
   "execution_count": 72,
   "id": "6cbdd1c9-7682-4a87-bbe5-6a7f98fb1936",
   "metadata": {},
   "outputs": [
    {
     "data": {
      "text/plain": [
       "'python-logo.png'"
      ]
     },
     "execution_count": 72,
     "metadata": {},
     "output_type": "execute_result"
    }
   ],
   "source": [
    "import os\n",
    "image_file_name = os.path.basename(url)\n",
    "image_file_name"
   ]
  },
  {
   "cell_type": "code",
   "execution_count": 76,
   "id": "c8ef8c0d-c8d5-4506-ae4a-4378dfdc3dca",
   "metadata": {},
   "outputs": [],
   "source": [
    "folder = \"D:/dev/myPyCode/download\"\n",
    "if not os.path.exists(folder): # 폴더가 없다면\n",
    "    os.makedirs(folder)    "
   ]
  },
  {
   "cell_type": "code",
   "execution_count": 78,
   "id": "f8994f9e-ed47-471e-a72f-fa79a433ed2b",
   "metadata": {},
   "outputs": [
    {
     "data": {
      "text/plain": [
       "'D:/dev/myPyCode/download\\\\python-logo.png'"
      ]
     },
     "execution_count": 78,
     "metadata": {},
     "output_type": "execute_result"
    }
   ],
   "source": [
    "image_path = os.path.join(folder, image_file_name)\n",
    "image_path"
   ]
  },
  {
   "cell_type": "code",
   "execution_count": 80,
   "id": "798950b0-cedb-4859-b4b2-fa2141690591",
   "metadata": {},
   "outputs": [],
   "source": [
    "imageFile = open(image_path, \"wb\")"
   ]
  },
  {
   "cell_type": "code",
   "execution_count": 84,
   "id": "5587adbe-1f44-40bd-8870-a8a5dfd65ce3",
   "metadata": {},
   "outputs": [],
   "source": [
    "# 이미지 데이터를 1000000바이트씩 나눠서 내려받고 파일에 순차적으로 저장\n",
    "chunk_size = 1000000\n",
    "for chunk  in  html_image.iter_content(chunk_size):\n",
    "    imageFile.write(chunk)\n",
    "\n",
    "imageFile.close()"
   ]
  },
  {
   "cell_type": "code",
   "execution_count": 86,
   "id": "9acd3b24-56f9-4b36-8c24-4500352daab7",
   "metadata": {},
   "outputs": [
    {
     "data": {
      "text/plain": [
       "['python-logo.png']"
      ]
     },
     "execution_count": 86,
     "metadata": {},
     "output_type": "execute_result"
    }
   ],
   "source": [
    "os.listdir(folder)"
   ]
  },
  {
   "cell_type": "markdown",
   "id": "525bf59c-1241-46a7-a7ff-4cdbbc02d9be",
   "metadata": {},
   "source": [
    "##### 여러 이미지 내려받기"
   ]
  },
  {
   "cell_type": "code",
   "execution_count": 91,
   "id": "3ceaa3dd-baed-485b-8e9d-5c7552d12309",
   "metadata": {},
   "outputs": [
    {
     "data": {
      "text/plain": [
       "[<img alt=\"Twilight sky at han river in seoul city south Korea \" class=\"\" src=\"https://t4.ftcdn.net/jpg/02/58/00/87/360_F_258008704_rtbLWxLBUfMsryzYHEh7pfRkwEspn9XV.jpg\"/>,\n",
       " <img alt=\"Seoul Skyline\" class=\"\" src=\"https://t3.ftcdn.net/jpg/00/49/79/38/360_F_49793806_JutBMSah3cPh8IZkUiBh5xyOcW3IzRl8.jpg\"/>]"
      ]
     },
     "execution_count": 91,
     "metadata": {},
     "output_type": "execute_result"
    }
   ],
   "source": [
    "import requests\n",
    "from bs4 import BeautifulSoup\n",
    "url = 'https://stock.adobe.com/kr/search/images?k=seoul'\n",
    "html_image_url = requests.get(url).text\n",
    "soup_image_url = BeautifulSoup(html_image_url, \"lxml\")\n",
    "\n",
    "# 요소 선택\n",
    "image_elements = soup_image_url.select(\"div.thumb-frame img\")\n",
    "image_elements[0:2]"
   ]
  },
  {
   "cell_type": "code",
   "execution_count": 93,
   "id": "2573fd07-e7ad-41ac-82d9-1eb7d1f75a66",
   "metadata": {},
   "outputs": [
    {
     "data": {
      "text/plain": [
       "'https://t3.ftcdn.net/jpg/00/49/79/38/360_F_49793806_JutBMSah3cPh8IZkUiBh5xyOcW3IzRl8.jpg'"
      ]
     },
     "execution_count": 93,
     "metadata": {},
     "output_type": "execute_result"
    }
   ],
   "source": [
    "image_url = image_elements[1].get('src')  # 서버에 있는 이미지 위치\n",
    "image_url"
   ]
  },
  {
   "cell_type": "code",
   "execution_count": 97,
   "id": "18c6a778-b9e2-42dc-932a-016c1aec1edb",
   "metadata": {},
   "outputs": [],
   "source": [
    "import os\n",
    "html_image = requests.get(image_url)\n",
    "\n",
    "# 이미지를 내려받을 폴더를 지정\n",
    "folder = \"D:/dev/myPyCode/download\"\n",
    "if not os.path.exists(folder): # 폴더가 없다면\n",
    "    os.makedirs(folder) \n",
    "\n",
    "image_path = os.path.join(folder, os.path.basename(image_url))\n",
    "imageFile = open(image_path, 'wb')\n",
    "\n",
    "# 이미지 데이터를 1000000바이트씩 나눠서 내려받고 파일에 순차적으로 저장\n",
    "chunk_size = 1000000\n",
    "for chunk  in  html_image.iter_content(chunk_size):\n",
    "    imageFile.write(chunk)\n",
    "\n",
    "imageFile.close()"
   ]
  },
  {
   "cell_type": "markdown",
   "id": "4b98dfe2-b527-410b-9016-7bbeb2a2159a",
   "metadata": {},
   "source": [
    "### 여러개 이미지 내려받기 함수  생성"
   ]
  },
  {
   "cell_type": "code",
   "execution_count": 4,
   "id": "ffeb60f0-e65e-4b4d-b95c-1421e27234d1",
   "metadata": {},
   "outputs": [
    {
     "name": "stdout",
     "output_type": "stream",
     "text": [
      "저장 파일명: '360_F_303624505_u0bFT1Rnoj8CMUSs8wMCwoKlnWlh5Jiq.jpg' - 내려받기 완료!\n",
      "저장 파일명: '360_F_236992283_sNOxCVQeFLd5pdqaKGh8DRGMZy7P4XKm.jpg' - 내려받기 완료!\n",
      "저장 파일명: '360_F_97589769_t45CqXyzjz0KXwoBZT9PRaWGHRk5hQqQ.jpg' - 내려받기 완료!\n",
      "저장 파일명: '360_F_266724172_Iy8gdKgMa7XmrhYYxLCxyhx6J7070Pr8.jpg' - 내려받기 완료!\n",
      "저장 파일명: '360_F_232143247_N2Ur5ssSXJYO8Efu4jg3HPXvmkWgSVuf.jpg' - 내려받기 완료!\n",
      "저장 파일명: '360_F_77518136_F88I0v3R2mZsKEgxxXMc4iqXlOjK8OLE.jpg' - 내려받기 완료!\n",
      "저장 파일명: '360_F_331210846_9yjYz8hRqqvezWIIIcr1sL8UB4zyhyQg.jpg' - 내려받기 완료!\n",
      "저장 파일명: '360_F_295949484_8BrlWkTrPXTYzgMn3UebDl1O13PcVNMU.jpg' - 내려받기 완료!\n",
      "저장 파일명: '360_F_297995004_KIRJlI4JXoOGdnk6fj8NMTC9Xvt7b5Im.jpg' - 내려받기 완료!\n",
      "저장 파일명: '360_F_85957993_x6BN46mxasrRye2mp5rXFVrjAUE5LWF8.jpg' - 내려받기 완료!\n",
      "저장 파일명: '360_F_267918100_vHI40jvQiCDpLHwM7pkoZRrYySUVYR4K.jpg' - 내려받기 완료!\n",
      "저장 파일명: '360_F_298806801_EuKxQEhFwckJKPnX9B8hnjL06cbj6LpA.jpg' - 내려받기 완료!\n",
      "저장 파일명: '360_F_299310701_KJn20TurXr4q9lrnKH3oRmlLGFvwq8k1.jpg' - 내려받기 완료!\n",
      "저장 파일명: '360_F_625571921_tUlFUGv94qKWk7UNhoVNwQ9B9Aq0TLuv.jpg' - 내려받기 완료!\n",
      "저장 파일명: '360_F_256253532_WvN8LV3PYhBI4Pn9yXlbWgs60A1vYx5v.jpg' - 내려받기 완료!\n",
      "저장 파일명: '360_F_74159556_67n5823V7Ei87a4g6JJnYHC0yMSo1AEy.jpg' - 내려받기 완료!\n",
      "저장 파일명: '360_F_142519276_2dE6eyVNykmKkj9JO3JdKsfj4BokuWom.jpg' - 내려받기 완료!\n",
      "저장 파일명: '360_F_141760845_8jGGCqprLRNEM7kf4J3fyqIyZn2ot1Hr.jpg' - 내려받기 완료!\n",
      "저장 파일명: '360_F_264154131_XvpBI5fARjB7Qlo4PMrMMTaunXha47NR.jpg' - 내려받기 완료!\n",
      "저장 파일명: '360_F_102628155_ZPiAaNEDRSZU2S0LAkbcgvwLyMmr9c2Y.jpg' - 내려받기 완료!\n",
      "============================================\n",
      "원하는 갯수의 이미지 내려받기 완료!!!\n"
     ]
    }
   ],
   "source": [
    "import requests\n",
    "from bs4 import BeautifulSoup\n",
    "import os\n",
    "\n",
    "# 1. img 태그 엘리먼트에서 src (이미지주소) 추출 함수\n",
    "def get_image_url(url):\n",
    "    # url = 'https://stock.adobe.com/kr/search/images?k=seoul'\n",
    "    html_image_url = requests.get(url).text\n",
    "    soup_image_url = BeautifulSoup(html_image_url, \"lxml\")\n",
    "    #  div.thumb-frame img요소를 선택\n",
    "    image_elements = soup_image_url.select('div.thumb-frame img')\n",
    "    if(image_elements != None):\n",
    "        image_urls = []\n",
    "        for image_element in image_elements:\n",
    "            image_urls.append(image_element.get('src'))\n",
    "\n",
    "        return image_urls\n",
    "    else:\n",
    "        return None\n",
    "    \n",
    "# 2. img_folder: 내 로컬 pc 저장할 폴더를 지정해 이미지 주소에 이미지 내려받기\n",
    "# img_url  서버 이미지 경로\n",
    "def download_image(img_folder, img_url):\n",
    "    if(img_url != None):\n",
    "        html_image = requests.get(img_url)\n",
    "\n",
    "        if not os.path.exists(img_folder):\n",
    "            os.makedirs(img_folder)\n",
    "\n",
    "        image_path = os.path.join(img_folder, os.path.basename(img_url))\n",
    "        imageFile = open(image_path, 'wb')\n",
    "        # 이미지 데이터를 나눠서 파일에 저장\n",
    "        chunk_size = 1000000\n",
    "        for chunk in html_image.iter_content(chunk_size):\n",
    "            imageFile.write(chunk)\n",
    "\n",
    "        imageFile.close()\n",
    "        print(\"저장 파일명: '{0}' - 내려받기 완료!\".format(os.path.basename(img_url)) ) \n",
    "    else:\n",
    "        print(\"내려받을 이미지가 없습니다.\")\n",
    "\n",
    "            \n",
    "# 내려받을 폴더지정 이미지 파일 가져오기 스크립트 작성\n",
    "# 서버경로\n",
    "adobe_url = \"https://stock.adobe.com/kr/search/images?k=cat\"\n",
    "\n",
    "# 내려받을 폴더 지정\n",
    "figure_folder = \"D:/dev/myPyCode/download/cat\"\n",
    "\n",
    "adobe_image_urls = get_image_url(adobe_url) # 이미지 파일 주소 리스트 가져오기\n",
    "\n",
    "num_down_image_cnt = 20\n",
    "\n",
    "for  k  in range(num_down_image_cnt):\n",
    "    download_image(figure_folder, adobe_image_urls[k])\n",
    "\n",
    "print(\"============================================\")\n",
    "print(\"원하는 갯수의 이미지 내려받기 완료!!!\")\n",
    "\n"
   ]
  },
  {
   "cell_type": "code",
   "execution_count": null,
   "id": "28e75b30-f8de-46dd-aac3-8b5b03046ba3",
   "metadata": {},
   "outputs": [],
   "source": []
  }
 ],
 "metadata": {
  "kernelspec": {
   "display_name": "Python 3 (ipykernel)",
   "language": "python",
   "name": "python3"
  },
  "language_info": {
   "codemirror_mode": {
    "name": "ipython",
    "version": 3
   },
   "file_extension": ".py",
   "mimetype": "text/x-python",
   "name": "python",
   "nbconvert_exporter": "python",
   "pygments_lexer": "ipython3",
   "version": "3.12.4"
  }
 },
 "nbformat": 4,
 "nbformat_minor": 5
}
