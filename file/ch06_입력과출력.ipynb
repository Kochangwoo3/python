{
 "cells": [
  {
   "cell_type": "code",
   "execution_count": 5,
   "id": "dea3bd70-8d19-4b70-a203-af4776757f40",
   "metadata": {},
   "outputs": [
    {
     "name": "stdout",
     "output_type": "stream",
     "text": [
      "Best|Python|book\n"
     ]
    }
   ],
   "source": [
    "print(\"Best\", \"Python\", \"book\", sep=\"|\")"
   ]
  },
  {
   "cell_type": "code",
   "execution_count": 7,
   "id": "aa048db6-924a-4d07-ad64-43888e204820",
   "metadata": {},
   "outputs": [
    {
     "name": "stdout",
     "output_type": "stream",
     "text": [
      "Best Python\n"
     ]
    }
   ],
   "source": [
    "print(\"Best\", \"Python\")"
   ]
  },
  {
   "cell_type": "code",
   "execution_count": 9,
   "id": "8af31bff-d440-432e-9819-98f10f92cdfd",
   "metadata": {},
   "outputs": [
    {
     "name": "stdout",
     "output_type": "stream",
     "text": [
      "BestPython\n"
     ]
    }
   ],
   "source": [
    "print(\"Best\" + \"Python\")"
   ]
  },
  {
   "cell_type": "code",
   "execution_count": 11,
   "id": "ae50f381-f7c8-413e-99b6-52d0714ce496",
   "metadata": {},
   "outputs": [
    {
     "name": "stdout",
     "output_type": "stream",
     "text": [
      "Best\n",
      "Python\n"
     ]
    }
   ],
   "source": [
    "print(\"Best\\nPython\")"
   ]
  },
  {
   "cell_type": "code",
   "execution_count": 13,
   "id": "dc7d8c6a-9013-4d90-8131-fcd5a6590f27",
   "metadata": {},
   "outputs": [
    {
     "name": "stdin",
     "output_type": "stream",
     "text": [
      " Life is too short, you need python\n"
     ]
    }
   ],
   "source": [
    "a = input()"
   ]
  },
  {
   "cell_type": "code",
   "execution_count": 15,
   "id": "b4497aff-16d4-4261-9ea6-e1e958fb68bd",
   "metadata": {},
   "outputs": [
    {
     "name": "stdin",
     "output_type": "stream",
     "text": [
      "숫자를 입력하세요 3\n"
     ]
    }
   ],
   "source": [
    "number1 = input('숫자를 입력하세요')"
   ]
  },
  {
   "cell_type": "code",
   "execution_count": 17,
   "id": "a98aded7-6884-40d0-b4a9-e6ec4137b1aa",
   "metadata": {},
   "outputs": [
    {
     "name": "stdin",
     "output_type": "stream",
     "text": [
      "숫자를 입력하세요 3\n"
     ]
    }
   ],
   "source": [
    "number2 = input('숫자를 입력하세요')"
   ]
  },
  {
   "cell_type": "code",
   "execution_count": 19,
   "id": "73ebd18b-427f-4226-979b-cc31a76d11ce",
   "metadata": {},
   "outputs": [
    {
     "name": "stdout",
     "output_type": "stream",
     "text": [
      "33\n"
     ]
    }
   ],
   "source": [
    "print(number1 + number2)   #  문자열 더하기기호가 연결연산자 역할"
   ]
  },
  {
   "cell_type": "code",
   "execution_count": 21,
   "id": "6b152bd2-f850-4041-b379-ee1629dfb41c",
   "metadata": {},
   "outputs": [
    {
     "name": "stdout",
     "output_type": "stream",
     "text": [
      "Python\n"
     ]
    }
   ],
   "source": [
    "a = \"Python\"\n",
    "print(a)"
   ]
  },
  {
   "cell_type": "code",
   "execution_count": 23,
   "id": "4fbe25c9-0785-43d9-bd5d-92f3a4ab314b",
   "metadata": {},
   "outputs": [
    {
     "name": "stdout",
     "output_type": "stream",
     "text": [
      "[1, 2, 3]\n"
     ]
    }
   ],
   "source": [
    "a = [1, 2, 3]\n",
    "print(a)"
   ]
  },
  {
   "cell_type": "code",
   "execution_count": 25,
   "id": "b62ced22-c52b-4dbe-912c-0aa8fb37fdb5",
   "metadata": {},
   "outputs": [
    {
     "name": "stdout",
     "output_type": "stream",
     "text": [
      "lifeis\n"
     ]
    }
   ],
   "source": [
    "print(\"life\"\"is\")"
   ]
  },
  {
   "cell_type": "code",
   "execution_count": 29,
   "id": "2f30d643-25ba-4a26-8a18-34ef702c0546",
   "metadata": {},
   "outputs": [
    {
     "name": "stdout",
     "output_type": "stream",
     "text": [
      "0 1 2 3 4 5 6 7 8 9 "
     ]
    }
   ],
   "source": [
    "# 한줄에 0 부터 9까지 출력해주세요\n",
    "for i in range(10):\n",
    "    print(i, end= ' ')"
   ]
  },
  {
   "cell_type": "markdown",
   "id": "0ee0a7d1-76c5-43c2-ab48-f8ebbbe94648",
   "metadata": {},
   "source": [
    "# 파일 읽고 쓰기"
   ]
  },
  {
   "cell_type": "code",
   "execution_count": 32,
   "id": "0104b211-bdb0-4ded-8825-cda1385f98be",
   "metadata": {},
   "outputs": [
    {
     "data": {
      "text/plain": [
       "'\\n여러줄 주석\\n'"
      ]
     },
     "execution_count": 32,
     "metadata": {},
     "output_type": "execute_result"
    }
   ],
   "source": [
    "\"\"\"\n",
    "파일 처리\n",
    "f = open('file_name', 'mode')\n",
    "ex.)파일 쓰기\n",
    "f = open('file_name', 'w')\n",
    "f.write(str)\n",
    "f.close()\n",
    "\"\"\""
   ]
  },
  {
   "cell_type": "code",
   "execution_count": 34,
   "id": "ca3be10e-98cf-400b-886d-d203dcf40312",
   "metadata": {},
   "outputs": [],
   "source": [
    "f = open('myFile.txt', 'w')  # 쓰기모드로 열기\n",
    "f.write('This is my first file')  # 문자열 쓰기\n",
    "f.close()  # 파일 닫기"
   ]
  },
  {
   "cell_type": "markdown",
   "id": "a0c614b0-dbcc-4126-9a19-af60980e32a0",
   "metadata": {},
   "source": [
    "# 운영체제(os) 명령어 실행  - 느낌표"
   ]
  },
  {
   "cell_type": "code",
   "execution_count": 37,
   "id": "ad25518e-2fb7-41ed-a1c7-8a6fd7a0de5d",
   "metadata": {},
   "outputs": [
    {
     "name": "stdout",
     "output_type": "stream",
     "text": [
      "This is my first file\n"
     ]
    }
   ],
   "source": [
    "!type myFile.txt"
   ]
  },
  {
   "cell_type": "code",
   "execution_count": 39,
   "id": "9bd8e610-9e6e-4878-9936-248ac843261d",
   "metadata": {},
   "outputs": [
    {
     "name": "stdout",
     "output_type": "stream",
     "text": [
      " D 드라이브의 볼륨에는 이름이 없습니다.\n",
      " 볼륨 일련 번호: DA56-F957\n",
      "\n",
      " D:\\DEV\\myPyCode\\file 디렉터리\n",
      "\n",
      "2024-08-27  오전 10:56    <DIR>          .\n",
      "2024-08-27  오전 10:56    <DIR>          ..\n",
      "2024-08-27  오전 10:39    <DIR>          .ipynb_checkpoints\n",
      "2024-08-23  오후 04:13            10,939 ch04.ipynb\n",
      "2024-08-26  오후 12:06            20,150 ch04_2.ipynb\n",
      "2024-08-26  오후 04:05            16,135 ch05_제어문.ipynb\n",
      "2024-08-27  오전 10:56             5,793 ch06_입력과출력.ipynb\n",
      "2024-08-27  오전 10:54                21 myFile.txt\n",
      "2024-08-23  오후 01:10            11,664 python_code.ipynb\n",
      "               6개 파일              64,702 바이트\n",
      "               3개 디렉터리  217,283,637,248 바이트 남음\n"
     ]
    }
   ],
   "source": [
    "!dir"
   ]
  },
  {
   "cell_type": "code",
   "execution_count": 69,
   "id": "0aa15200-d86b-4803-99cd-c98adc40fca2",
   "metadata": {},
   "outputs": [
    {
     "name": "stdout",
     "output_type": "stream",
     "text": [
      "This is my first file  한글\n"
     ]
    }
   ],
   "source": [
    "f = open('myFile.txt', 'r', encoding='utf-8')\n",
    "file_text = f.read()\n",
    "f.close()\n",
    "print(file_text)"
   ]
  },
  {
   "cell_type": "code",
   "execution_count": 49,
   "id": "1e774fae-bfb3-4697-ae40-87cc1d89f2ce",
   "metadata": {},
   "outputs": [],
   "source": [
    "f = open('two_times_table.txt', 'w')\n",
    "for num in range(1, 6):\n",
    "    format_string = \"2 X {0} = {1}\\n\".format(num, 2*num)  # 파일에 저장할 문자열 생성\n",
    "    f.write(format_string)\n",
    "f.close()"
   ]
  },
  {
   "cell_type": "code",
   "execution_count": 51,
   "id": "bb480dfb-db50-46db-b1ad-a0ac1d1efc8d",
   "metadata": {},
   "outputs": [
    {
     "name": "stdout",
     "output_type": "stream",
     "text": [
      "2 X 1 = 2\n",
      "2 X 2 = 4\n",
      "2 X 3 = 6\n",
      "2 X 4 = 8\n",
      "2 X 5 = 10\n"
     ]
    },
    {
     "name": "stderr",
     "output_type": "stream",
     "text": [
      "\n",
      "two_times_table.txt\n",
      "\n",
      "\n"
     ]
    }
   ],
   "source": [
    "!type two_times*"
   ]
  },
  {
   "cell_type": "code",
   "execution_count": 47,
   "id": "95966412-fe45-478c-9cf9-1b7b647516de",
   "metadata": {},
   "outputs": [
    {
     "name": "stdout",
     "output_type": "stream",
     "text": [
      "2\n",
      "4\n",
      "6\n",
      "8\n",
      "10\n"
     ]
    }
   ],
   "source": [
    "with open('two_times_table.txt', 'r') as f:\n",
    "    for line in f:\n",
    "        data = line.strip().split(\"= \")\n",
    "        num = int(data[1])\n",
    "        print(num)"
   ]
  },
  {
   "cell_type": "code",
   "execution_count": 53,
   "id": "4e443f67-dbea-487c-b8f2-4cbcbef19fec",
   "metadata": {},
   "outputs": [],
   "source": [
    "f = open('two_times_table.txt', 'a')\n",
    "for num in range(6, 10) :\n",
    "    format_string = \"2 X {0} = {1}\\n\".format(num, 2*num)  # 저장할 문자열 생성\n",
    "    f.write(format_string)\n",
    "f.close()    \n",
    "    "
   ]
  },
  {
   "cell_type": "code",
   "execution_count": 55,
   "id": "38e0c89f-9b7b-48c8-b577-d9bd2eadf6a2",
   "metadata": {},
   "outputs": [
    {
     "name": "stdout",
     "output_type": "stream",
     "text": [
      "2 X 1 = 2\n",
      "2 X 2 = 4\n",
      "2 X 3 = 6\n",
      "2 X 4 = 8\n",
      "2 X 5 = 10\n",
      "2 X 6 = 12\n",
      "2 X 7 = 14\n",
      "2 X 8 = 16\n",
      "2 X 9 = 18\n"
     ]
    }
   ],
   "source": [
    "!type two_times_table.txt"
   ]
  },
  {
   "cell_type": "code",
   "execution_count": 65,
   "id": "1b5a3229-44e5-4da1-8486-1c18443bebe6",
   "metadata": {},
   "outputs": [
    {
     "name": "stdout",
     "output_type": "stream",
     "text": [
      "501916.12903225806\n"
     ]
    }
   ],
   "source": []
  },
  {
   "cell_type": "code",
   "execution_count": 73,
   "id": "440d986e-0425-4f08-960f-a26523a3a7b3",
   "metadata": {},
   "outputs": [
    {
     "name": "stdout",
     "output_type": "stream",
     "text": [
      "501916.12903225806\n"
     ]
    }
   ],
   "source": [
    "with open('data/catStudySales.txt', 'r', encoding='utf-8') as f:\n",
    "    total_revenue = 0\n",
    "    total_days = 0\n",
    "\n",
    "    # 여기에 코드를 작성하세요\n",
    "    for line in f:    # line <- \"1일: 453400\" \n",
    "        data = line.strip().split(\": \")\n",
    "        revenue = int(data[1])    #그날의 매출\n",
    "        total_revenue = total_revenue + revenue\n",
    "        total_days += 1\n",
    "\n",
    "    print(total_revenue / total_days)\n"
   ]
  },
  {
   "cell_type": "markdown",
   "id": "b9fb330f-2411-42a2-b56b-3e76162687c4",
   "metadata": {},
   "source": [
    "## 영어 단어장 만들기"
   ]
  },
  {
   "cell_type": "code",
   "execution_count": 76,
   "id": "6853879e-0356-40af-b61d-aa8ed53a7bb2",
   "metadata": {},
   "outputs": [
    {
     "name": "stdin",
     "output_type": "stream",
     "text": [
      "영어 단어를 입력하세요: (종료: q) cat\n",
      "한국어 뜻을 입력하세요: (종료: q) 고양이\n",
      "영어 단어를 입력하세요: (종료: q) apple\n",
      "한국어 뜻을 입력하세요: (종료: q) 사과\n",
      "영어 단어를 입력하세요: (종료: q) church\n",
      "한국어 뜻을 입력하세요: (종료: q) 교회\n",
      "영어 단어를 입력하세요: (종료: q) temple\n",
      "한국어 뜻을 입력하세요: (종료: q) 절\n",
      "영어 단어를 입력하세요: (종료: q) wallet\n",
      "한국어 뜻을 입력하세요: (종료: q) 지갑\n",
      "영어 단어를 입력하세요: (종료: q) backpack\n",
      "한국어 뜻을 입력하세요: (종료: q) 가방\n",
      "영어 단어를 입력하세요: (종료: q) soap\n",
      "한국어 뜻을 입력하세요: (종료: q) 비누\n",
      "영어 단어를 입력하세요: (종료: q) bicycle\n",
      "한국어 뜻을 입력하세요: (종료: q) 자전거\n",
      "영어 단어를 입력하세요: (종료: q) q\n"
     ]
    }
   ],
   "source": [
    "with open('data/vacabulary.txt', 'w') as f:\n",
    "    while True:\n",
    "        english_word = input('영어 단어를 입력하세요: (종료: q)')\n",
    "        if english_word == 'q':\n",
    "            break\n",
    "\n",
    "        korean_word = input('한국어 뜻을 입력하세요: (종료: q)')\n",
    "        if korean_word == 'q':\n",
    "            break\n",
    "\n",
    "        f.write('{}: {}\\n'.format(english_word, korean_word))\n",
    "            "
   ]
  },
  {
   "cell_type": "code",
   "execution_count": 78,
   "id": "37a84611-aa11-45b8-a83c-ecdea3d88b6f",
   "metadata": {},
   "outputs": [
    {
     "name": "stderr",
     "output_type": "stream",
     "text": [
      "명령 구문이 올바르지 않습니다.\n"
     ]
    }
   ],
   "source": [
    "!type data/vocabulary.txt"
   ]
  },
  {
   "cell_type": "markdown",
   "id": "d58af3b4-8d0f-457e-b440-155fe4fb21b7",
   "metadata": {},
   "source": [
    "##  단어 퀴즈 게임"
   ]
  },
  {
   "cell_type": "code",
   "execution_count": null,
   "id": "9ae75851-dfb7-4fa6-86e9-d5b0ce44d3b8",
   "metadata": {},
   "outputs": [
    {
     "name": "stdin",
     "output_type": "stream",
     "text": [
      "고양이:  cat\n"
     ]
    },
    {
     "name": "stdout",
     "output_type": "stream",
     "text": [
      "맞았습니다!\n",
      "\n"
     ]
    },
    {
     "name": "stdin",
     "output_type": "stream",
     "text": [
      "사과:  banana\n"
     ]
    },
    {
     "name": "stdout",
     "output_type": "stream",
     "text": [
      "아쉽습니다. 정답은 apple입니다.\n",
      "\n"
     ]
    },
    {
     "name": "stdin",
     "output_type": "stream",
     "text": [
      "교회:  church\n"
     ]
    },
    {
     "name": "stdout",
     "output_type": "stream",
     "text": [
      "맞았습니다!\n",
      "\n"
     ]
    },
    {
     "name": "stdin",
     "output_type": "stream",
     "text": [
      "절:  temple\n"
     ]
    },
    {
     "name": "stdout",
     "output_type": "stream",
     "text": [
      "맞았습니다!\n",
      "\n"
     ]
    },
    {
     "name": "stdin",
     "output_type": "stream",
     "text": [
      "지갑:  q\n"
     ]
    },
    {
     "name": "stdout",
     "output_type": "stream",
     "text": [
      "아쉽습니다. 정답은 wallet입니다.\n",
      "\n"
     ]
    }
   ],
   "source": [
    "import random\n",
    "\n",
    "# 사전 만들기\n",
    "vocab = {}\n",
    "with open('data/vocabulary.txt', 'r') as f:\n",
    "    for line in f:\n",
    "        data = line.strip().split(\": \")\n",
    "        english_word, korean_word = data[0], data[1]\n",
    "        vocab[english_word] = korean_word\n",
    "\n",
    "# 영단어 목록 가져오기\n",
    "keys = list(vocab.keys())        \n",
    "\n",
    "# 문제 내기\n",
    "while True:\n",
    "    index = random.randint(0, len(keys) - 1)   # 2\n",
    "    english_word = keys[index]                 # church\n",
    "    korean_word = vocab[english_word]          # 교회\n",
    "        \n",
    "    # 사용자 입력값 : 영단어 받기\n",
    "    guess = input(\"{}: \".format(korean_word)) \n",
    "\n",
    "    # 프로그램 끝내기\n",
    "    if guess == 'q':\n",
    "        break\n",
    "        \n",
    "    # 정답 확인하기\n",
    "    if guess == english_word:\n",
    "        print(\"맞았습니다!\\n\")\n",
    "    else:\n",
    "        print(\"아쉽습니다. 정답은 {}입니다.\\n\".format(english_word))\n",
    "\n",
    "        \n",
    "    "
   ]
  },
  {
   "cell_type": "code",
   "execution_count": null,
   "id": "fe6ea12e-a560-4410-81b0-da3f4fac293a",
   "metadata": {},
   "outputs": [],
   "source": []
  }
 ],
 "metadata": {
  "kernelspec": {
   "display_name": "Python 3 (ipykernel)",
   "language": "python",
   "name": "python3"
  },
  "language_info": {
   "codemirror_mode": {
    "name": "ipython",
    "version": 3
   },
   "file_extension": ".py",
   "mimetype": "text/x-python",
   "name": "python",
   "nbconvert_exporter": "python",
   "pygments_lexer": "ipython3",
   "version": "3.12.4"
  }
 },
 "nbformat": 4,
 "nbformat_minor": 5
}
