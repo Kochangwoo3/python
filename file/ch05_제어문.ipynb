{
 "cells": [
  {
   "cell_type": "markdown",
   "id": "04d0a405-e071-4d3c-ad30-d87dcfbdb98e",
   "metadata": {},
   "source": [
    "# 제어문\n",
    "- 조건에 따라 코드의 특정부분만 수행하거나 반복하는 구문"
   ]
  },
  {
   "cell_type": "code",
   "execution_count": 2,
   "id": "b55bc430-7d95-4f80-bca5-0c4448cd07bd",
   "metadata": {},
   "outputs": [
    {
     "name": "stdout",
     "output_type": "stream",
     "text": [
      "택시를 타고 간다\n"
     ]
    }
   ],
   "source": [
    "money = True\n",
    "if money:\n",
    "    print(\"택시를 타고 간다\")"
   ]
  },
  {
   "cell_type": "code",
   "execution_count": 3,
   "id": "79eac760-0e24-44b0-8a0b-35740802735f",
   "metadata": {},
   "outputs": [
    {
     "name": "stdout",
     "output_type": "stream",
     "text": [
      "걸어간다\n"
     ]
    }
   ],
   "source": [
    "money = False\n",
    "if money:\n",
    "    print(\"택시를 타고 간다\")\n",
    "else:\n",
    "    print(\"걸어간다\")\n",
    "    "
   ]
  },
  {
   "cell_type": "markdown",
   "id": "d3eba42b-2c04-42ab-ad8f-37e1a58cf0bf",
   "metadata": {},
   "source": [
    "## 비교연산자 : <, >, ==, !=, >=, <="
   ]
  },
  {
   "cell_type": "code",
   "execution_count": 5,
   "id": "46337ff6-509a-4642-afb0-a4580a9aa0ee",
   "metadata": {},
   "outputs": [
    {
     "name": "stdout",
     "output_type": "stream",
     "text": [
      "걸어가라\n"
     ]
    }
   ],
   "source": [
    "money = 2000\n",
    "if money >= 4000:\n",
    "    print(\"택시를 타고 가라\")\n",
    "else:\n",
    "    print(\"걸어가라\")"
   ]
  },
  {
   "cell_type": "markdown",
   "id": "c91774af-b356-483b-bf56-647b57e5858e",
   "metadata": {},
   "source": [
    "## 논리연산자: \n",
    "- or: 둘중 하나만 참이어도 참\n",
    "- and: 모두 참이어야 참\n",
    "- not x: x가 거짓이면 참"
   ]
  },
  {
   "cell_type": "code",
   "execution_count": 7,
   "id": "23e305ff-1ea3-416c-a95b-361405f840d6",
   "metadata": {},
   "outputs": [
    {
     "name": "stdout",
     "output_type": "stream",
     "text": [
      "택시를 타고 가라\n"
     ]
    }
   ],
   "source": [
    "money = 2000\n",
    "card = True\n",
    "if money >= 4000 or card:\n",
    "    print('택시를 타고 가라')\n",
    "else:\n",
    "    print('걸어가라')"
   ]
  },
  {
   "cell_type": "markdown",
   "id": "e695a711-e864-4246-ad8d-784e99db183b",
   "metadata": {},
   "source": [
    "## in연산자 : x in 리스트[], 튜플(), 문자열 /  x not in 리스트"
   ]
  },
  {
   "cell_type": "code",
   "execution_count": 9,
   "id": "2e7b6d71-16b7-41e4-943e-d8656a1253f7",
   "metadata": {},
   "outputs": [
    {
     "data": {
      "text/plain": [
       "True"
      ]
     },
     "execution_count": 9,
     "metadata": {},
     "output_type": "execute_result"
    }
   ],
   "source": [
    "1 in [1, 2, 3]"
   ]
  },
  {
   "cell_type": "markdown",
   "id": "8851014e-1759-4f5d-96ee-b03fcd256ada",
   "metadata": {},
   "source": [
    "## 다양한 조건을 판단하는 elif"
   ]
  },
  {
   "cell_type": "code",
   "execution_count": 11,
   "id": "7b752e20-e77e-49ca-969c-a31221ae59f2",
   "metadata": {},
   "outputs": [
    {
     "name": "stdout",
     "output_type": "stream",
     "text": [
      "택시를 타고 가라 -  중첩 if\n"
     ]
    }
   ],
   "source": [
    "pocket = ['paper', 'cellphone']\n",
    "card = True\n",
    "\n",
    "if 'money' in pocket:\n",
    "    print('택시를 타고 가라')\n",
    "else:\n",
    "    if card:\n",
    "        print(\"택시를 타고 가라 -  중첩 if\")\n",
    "    else:\n",
    "        print(\"걸어가라\")"
   ]
  },
  {
   "cell_type": "code",
   "execution_count": 12,
   "id": "8957bacf-0fca-4c85-ac90-c51e62544577",
   "metadata": {},
   "outputs": [
    {
     "name": "stdout",
     "output_type": "stream",
     "text": [
      "택시를 타고 가라 -  중첩 if\n"
     ]
    }
   ],
   "source": [
    "if 'money' in pocket:\n",
    "    print('택시를 타고 가라')\n",
    "elif card:  # 다양한 조건을 판단할때 elif\n",
    "    print(\"택시를 타고 가라 -  중첩 if\")\n",
    "else:\n",
    "    print(\"걸어가라\")"
   ]
  },
  {
   "cell_type": "code",
   "execution_count": 13,
   "id": "3339bf2c-18c6-43b5-b1b4-f88ebc972fe2",
   "metadata": {},
   "outputs": [
    {
     "name": "stdout",
     "output_type": "stream",
     "text": [
      "success\n"
     ]
    }
   ],
   "source": [
    "score = 70\n",
    "if 60 <= score <= 100:    # 파이썬에서는 범위식 가능\n",
    "    message = \"success\"\n",
    "else:\n",
    "    message = \"fail\"\n",
    "print(message)"
   ]
  },
  {
   "cell_type": "code",
   "execution_count": 14,
   "id": "65aef5b7-0b28-4500-8c7c-a30bc5575e9a",
   "metadata": {},
   "outputs": [
    {
     "name": "stdout",
     "output_type": "stream",
     "text": [
      "success\n"
     ]
    }
   ],
   "source": [
    "# 조건부 표현식\n",
    "msg =   \"success\"  if score >= 60 else \"failure\"\n",
    "print(msg)"
   ]
  },
  {
   "cell_type": "markdown",
   "id": "bb703027-63bb-4df3-b6de-0d2ee51dd897",
   "metadata": {},
   "source": [
    "# while문"
   ]
  },
  {
   "cell_type": "code",
   "execution_count": 16,
   "id": "19e8b8a9-f22b-4c94-9fbe-d4d4a0b750a4",
   "metadata": {},
   "outputs": [
    {
     "name": "stdout",
     "output_type": "stream",
     "text": [
      "나무를 1번 찍었습니다.\n",
      "나무를 2번 찍었습니다.\n",
      "나무를 3번 찍었습니다.\n",
      "나무를 4번 찍었습니다.\n",
      "나무를 5번 찍었습니다.\n",
      "나무를 6번 찍었습니다.\n",
      "나무를 7번 찍었습니다.\n",
      "나무를 8번 찍었습니다.\n",
      "나무를 9번 찍었습니다.\n",
      "나무를 10번 찍었습니다.\n",
      "나무 넘어갑니다.\n"
     ]
    }
   ],
   "source": [
    "# 열번 찍어 안 넘어가는 나무 없다 속담 구현\n",
    "treeHit = 0\n",
    "while treeHit < 10:\n",
    "    treeHit = treeHit + 1\n",
    "    print(\"나무를 %d번 찍었습니다.\" % treeHit)\n",
    "    if treeHit == 10:\n",
    "        print(\"나무 넘어갑니다.\")"
   ]
  },
  {
   "cell_type": "code",
   "execution_count": 17,
   "id": "33edce76-b852-4ea5-9abd-1750904e9cb3",
   "metadata": {},
   "outputs": [
    {
     "name": "stdout",
     "output_type": "stream",
     "text": [
      "\n",
      "    1. Add\n",
      "    2. Del\n",
      "    3. List\n",
      "    4. Quit\n",
      "\n",
      "    Enter number : \n",
      "\n"
     ]
    },
    {
     "name": "stdin",
     "output_type": "stream",
     "text": [
      " 4\n"
     ]
    }
   ],
   "source": [
    "prompt = \"\"\"\n",
    "    1. Add\n",
    "    2. Del\n",
    "    3. List\n",
    "    4. Quit\n",
    "\n",
    "    Enter number : \n",
    "\"\"\"\n",
    "number = 0\n",
    "while number != 4:\n",
    "    print(prompt)\n",
    "    number = int(input())\n",
    "    "
   ]
  },
  {
   "cell_type": "code",
   "execution_count": 18,
   "id": "e389084f-f8ea-45bc-9d47-c160a61d1088",
   "metadata": {},
   "outputs": [
    {
     "name": "stdout",
     "output_type": "stream",
     "text": [
      "안녕\n",
      "니하오\n",
      "곤니찌와\n",
      "올라\n",
      "싸와디캅\n",
      "헬로\n",
      "봉주르\n"
     ]
    }
   ],
   "source": [
    "# 문제 각국의인사말을 while문을 이용하여 출력하세요\n",
    "greetings = [\"안녕\", \"니하오\", \"곤니찌와\", \"올라\", \"싸와디캅\", \"헬로\", \"봉주르\"]\n",
    "\n",
    "# 여기에 코드를 작성하세요    \n",
    "#  print(len(greetings));\n",
    "\n",
    "i = 0                         # 초기식\n",
    "while i < len(greetings):     # 조건식\n",
    "    print(greetings[i])\n",
    "    i += 1                    # 증감식\n"
   ]
  },
  {
   "cell_type": "markdown",
   "id": "737d57b4-b2a9-400e-b5ad-5513eb3e2a50",
   "metadata": {},
   "source": [
    "# for 반복문"
   ]
  },
  {
   "cell_type": "code",
   "execution_count": 33,
   "id": "6643cc8f-0556-4f34-b861-e27997f97b2f",
   "metadata": {},
   "outputs": [
    {
     "name": "stdout",
     "output_type": "stream",
     "text": [
      "one\n",
      "two\n",
      "three\n"
     ]
    }
   ],
   "source": [
    "test_list = ['one', 'two', 'three']\n",
    "for i in test_list:\n",
    "    print(i)"
   ]
  },
  {
   "cell_type": "code",
   "execution_count": 35,
   "id": "1203b285-9230-4434-960f-1b7f7f4fc2f3",
   "metadata": {},
   "outputs": [
    {
     "name": "stdout",
     "output_type": "stream",
     "text": [
      "3\n",
      "7\n",
      "11\n"
     ]
    }
   ],
   "source": [
    "a = [ (1, 2), (3, 4), (5, 6) ]\n",
    "for (first, last) in a:\n",
    "    print(first + last)"
   ]
  },
  {
   "cell_type": "markdown",
   "id": "6273b81e-6732-4c17-81aa-979317ae8558",
   "metadata": {},
   "source": [
    "# for문의 응용 "
   ]
  },
  {
   "cell_type": "code",
   "execution_count": 38,
   "id": "9308b26f-a3a7-4f17-b143-76f61e2bbbc6",
   "metadata": {},
   "outputs": [
    {
     "name": "stdout",
     "output_type": "stream",
     "text": [
      "1번 학생은 합격입니다.\n",
      "2번 학생은 불합격입니다.\n",
      "3번 학생은 합격입니다.\n",
      "4번 학생은 불합격입니다.\n",
      "5번 학생은 합격입니다.\n"
     ]
    }
   ],
   "source": [
    "marks = [90, 25, 67, 45, 80]  # 학생 점수 리스트\n",
    "num = 0              # 초기식  학생번호\n",
    "for mark in marks:   # 조건식 , 증감식\n",
    "    num = num + 1\n",
    "    if mark >= 60:\n",
    "        print(\"%d번 학생은 합격입니다.\" % num)\n",
    "    else:\n",
    "        print(\"%d번 학생은 불합격입니다.\" % num)\n",
    "    "
   ]
  },
  {
   "cell_type": "code",
   "execution_count": 40,
   "id": "31de3c14-94cd-46c9-afe5-9c54341eb38c",
   "metadata": {},
   "outputs": [
    {
     "name": "stdout",
     "output_type": "stream",
     "text": [
      "1번 학생은 합격입니다.\n",
      "3번 학생은 합격입니다.\n",
      "5번 학생은 합격입니다.\n"
     ]
    }
   ],
   "source": [
    "marks = [90, 25, 67, 45, 80]  # 학생 점수 리스트\n",
    "num = 0              # 초기식  학생번호\n",
    "for mark in marks:   # 조건식 , 증감식\n",
    "    num = num + 1\n",
    "    if mark < 60:\n",
    "        continue\n",
    "    print(\"%d번 학생은 합격입니다.\" % num)\n",
    "\n",
    "    "
   ]
  },
  {
   "cell_type": "markdown",
   "id": "e891adf6-d2c3-45d0-96fb-910dff634c6b",
   "metadata": {},
   "source": [
    "# 중요: for문과 자주 사용하는 range 함수"
   ]
  },
  {
   "cell_type": "code",
   "execution_count": 43,
   "id": "56ee0307-3d7a-47c3-8d33-03eaee4e83ea",
   "metadata": {},
   "outputs": [
    {
     "data": {
      "text/plain": [
       "range(0, 10)"
      ]
     },
     "execution_count": 43,
     "metadata": {},
     "output_type": "execute_result"
    }
   ],
   "source": [
    "a = range(10)\n",
    "a"
   ]
  },
  {
   "cell_type": "code",
   "execution_count": 45,
   "id": "fb921668-7471-4edf-a155-44aaf2108cc6",
   "metadata": {},
   "outputs": [
    {
     "name": "stdout",
     "output_type": "stream",
     "text": [
      "55\n"
     ]
    }
   ],
   "source": [
    "sum = 0\n",
    "for i in range(1, 11):\n",
    "    sum = sum + i\n",
    "print(sum)    "
   ]
  },
  {
   "cell_type": "code",
   "execution_count": 47,
   "id": "ef972069-2f1b-4ce1-a6ad-1dd12e2e9492",
   "metadata": {},
   "outputs": [
    {
     "name": "stdout",
     "output_type": "stream",
     "text": [
      "2 4 6 8 10 12 14 16 18 \n",
      "3 6 9 12 15 18 21 24 27 \n",
      "4 8 12 16 20 24 28 32 36 \n",
      "5 10 15 20 25 30 35 40 45 \n",
      "6 12 18 24 30 36 42 48 54 \n",
      "7 14 21 28 35 42 49 56 63 \n",
      "8 16 24 32 40 48 56 64 72 \n",
      "9 18 27 36 45 54 63 72 81 \n"
     ]
    }
   ],
   "source": [
    "for i in range(2, 10):\n",
    "    for j in range(1, 10):\n",
    "        print(i * j, end=\" \")\n",
    "    print('')"
   ]
  },
  {
   "cell_type": "code",
   "execution_count": 49,
   "id": "3e558c4c-4dbf-444e-8f14-3f9745bbe12d",
   "metadata": {},
   "outputs": [
    {
     "name": "stdout",
     "output_type": "stream",
     "text": [
      "[3, 6, 9, 12]\n"
     ]
    }
   ],
   "source": [
    "a = [1, 2, 3, 4]\n",
    "result = []\n",
    "for num in a:\n",
    "    result.append(num * 3)\n",
    "print(result)    "
   ]
  },
  {
   "cell_type": "code",
   "execution_count": 51,
   "id": "51b909b4-97ff-474a-92bd-6412c2b46ab9",
   "metadata": {},
   "outputs": [
    {
     "name": "stdout",
     "output_type": "stream",
     "text": [
      "[3, 6, 9, 12]\n"
     ]
    }
   ],
   "source": [
    "# 리스트 컴프리헨션\n",
    "a = [1, 2, 3, 4]\n",
    "num_list = [ num*3 for num in a ]\n",
    "print(num_list)"
   ]
  },
  {
   "cell_type": "code",
   "execution_count": 53,
   "id": "f05211be-4ccc-4dce-b3f3-88c704dea462",
   "metadata": {},
   "outputs": [
    {
     "name": "stdout",
     "output_type": "stream",
     "text": [
      "[6, 12]\n"
     ]
    }
   ],
   "source": [
    "# 리스트 컴프리헨션  조건식 : 짝수에만 3을 곱해서 리스트 작성\n",
    "a = [1, 2, 3, 4]\n",
    "num_list = [ num*3 for num in a  if num % 2 == 0]\n",
    "print(num_list)"
   ]
  },
  {
   "cell_type": "code",
   "execution_count": 55,
   "id": "9865e835-9b1f-49ee-9394-56d51596a331",
   "metadata": {},
   "outputs": [
    {
     "name": "stdout",
     "output_type": "stream",
     "text": [
      "0\n",
      "3\n",
      "6\n",
      "9\n"
     ]
    }
   ],
   "source": [
    "for a in range(0, 10, 3):    # range 함수에서 세번째 매개변수는 증가치\n",
    "    print(a)\n",
    "    "
   ]
  },
  {
   "cell_type": "code",
   "execution_count": 61,
   "id": "8564fb70-e0ae-48d4-ae81-e99e5d03782d",
   "metadata": {},
   "outputs": [
    {
     "name": "stdout",
     "output_type": "stream",
     "text": [
      "[0, 1, 2, 3, 4, 5, 6, 7, 8, 9]\n",
      "[0, 1, 2, 3, 4, 5, 6, 7, 8, 9]\n",
      "[0, 1, 2, 3, 4, 5, 6, 7, 8, 9]\n"
     ]
    }
   ],
   "source": [
    "# range 0 ~ 9 까지 의 리스트 생성하는 range\n",
    "print(list(range(0, 10, 1)))\n",
    "print(list(range(0, 10)))\n",
    "print(list(range(10)))\n"
   ]
  },
  {
   "cell_type": "code",
   "execution_count": 63,
   "id": "ec2bea42-c358-49d9-bada-4343c8aee2d2",
   "metadata": {},
   "outputs": [
    {
     "name": "stdout",
     "output_type": "stream",
     "text": [
      "James : 95\n",
      "Robert : 96\n",
      "Lisa : 97\n",
      "Mary : 94\n"
     ]
    }
   ],
   "source": [
    "names = ['James', 'Robert', 'Lisa', 'Mary']\n",
    "scores = [95, 96, 97, 94]\n",
    "for k in range(len(names)):   #  range(4) ->  [0, 1, 2, 3]\n",
    "    print(names[k], ':', scores[k])\n"
   ]
  },
  {
   "cell_type": "code",
   "execution_count": 65,
   "id": "9c05e7b1-d620-4c15-b051-5760b0102de0",
   "metadata": {},
   "outputs": [
    {
     "name": "stdout",
     "output_type": "stream",
     "text": [
      "James 95\n",
      "Robert 96\n",
      "Lisa 97\n",
      "Mary 94\n"
     ]
    }
   ],
   "source": [
    "# zip\n",
    "for name, score in zip(names, scores):\n",
    "    print(name, score)"
   ]
  },
  {
   "cell_type": "code",
   "execution_count": null,
   "id": "c4844a77-51fb-4c8b-85ca-0d259a9e0856",
   "metadata": {},
   "outputs": [],
   "source": []
  }
 ],
 "metadata": {
  "kernelspec": {
   "display_name": "Python 3 (ipykernel)",
   "language": "python",
   "name": "python3"
  },
  "language_info": {
   "codemirror_mode": {
    "name": "ipython",
    "version": 3
   },
   "file_extension": ".py",
   "mimetype": "text/x-python",
   "name": "python",
   "nbconvert_exporter": "python",
   "pygments_lexer": "ipython3",
   "version": "3.12.4"
  }
 },
 "nbformat": 4,
 "nbformat_minor": 5
}
