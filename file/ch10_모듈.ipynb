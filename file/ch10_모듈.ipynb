{
 "cells": [
  {
   "cell_type": "code",
   "execution_count": null,
   "id": "91730b79-3202-4f2d-8ff5-4136b9c5186e",
   "metadata": {},
   "outputs": [],
   "source": [
    "%%writefile D:/dev/myPyCode/my_first_module.py\n",
    "def my_function():\n",
    "    print(\"This is my first module.\")"
   ]
  },
  {
   "cell_type": "code",
   "execution_count": 15,
   "id": "bc5fef9b-d149-4d75-a1e2-940357430422",
   "metadata": {},
   "outputs": [
    {
     "name": "stdout",
     "output_type": "stream",
     "text": [
      "def my_function():\n",
      "    print(\"This is my first module.\")\n"
     ]
    }
   ],
   "source": [
    "!type D:\\\\dev\\\\myPyCode\\\\my_first_module.py"
   ]
  },
  {
   "cell_type": "markdown",
   "id": "83433ca3-c982-4867-b548-774ad729f3d6",
   "metadata": {},
   "source": [
    "## 모듈 불러오기\n",
    "- import 모듈명"
   ]
  },
  {
   "cell_type": "code",
   "execution_count": 21,
   "id": "1af831bd-7fa8-4244-9fd6-91622a7a126c",
   "metadata": {},
   "outputs": [
    {
     "name": "stdout",
     "output_type": "stream",
     "text": [
      "D:\\DEV\\myPyCode\\file\n"
     ]
    }
   ],
   "source": [
    "cd d:\\dev\\myPyCode\\file"
   ]
  },
  {
   "cell_type": "code",
   "execution_count": 23,
   "id": "f8ad8f57-193d-4464-b742-ae02980e287f",
   "metadata": {},
   "outputs": [
    {
     "name": "stdout",
     "output_type": "stream",
     "text": [
      "d:\\dev\\myPyCode\n"
     ]
    }
   ],
   "source": [
    "cd d:\\dev\\myPyCode"
   ]
  },
  {
   "cell_type": "code",
   "execution_count": 25,
   "id": "ad035070-3093-4ae5-bc05-44fae958405d",
   "metadata": {},
   "outputs": [],
   "source": [
    "import my_first_module"
   ]
  },
  {
   "cell_type": "code",
   "execution_count": 27,
   "id": "0ebc4cf5-2c28-4055-8b5c-5b4f2f92502a",
   "metadata": {},
   "outputs": [
    {
     "name": "stdout",
     "output_type": "stream",
     "text": [
      "This is my first module.\n"
     ]
    }
   ],
   "source": [
    "my_first_module.my_function()"
   ]
  },
  {
   "cell_type": "code",
   "execution_count": 29,
   "id": "60611599-13bf-418e-9127-f9291edb15d9",
   "metadata": {},
   "outputs": [
    {
     "ename": "NameError",
     "evalue": "name 'sys' is not defined",
     "output_type": "error",
     "traceback": [
      "\u001b[1;31m---------------------------------------------------------------------------\u001b[0m",
      "\u001b[1;31mNameError\u001b[0m                                 Traceback (most recent call last)",
      "Cell \u001b[1;32mIn[29], line 1\u001b[0m\n\u001b[1;32m----> 1\u001b[0m sys\u001b[38;5;241m.\u001b[39mpath\n",
      "\u001b[1;31mNameError\u001b[0m: name 'sys' is not defined"
     ]
    }
   ],
   "source": [
    "sys.path"
   ]
  },
  {
   "cell_type": "code",
   "execution_count": 31,
   "id": "6f4729fa-d2ca-402e-980e-a421e6fd5156",
   "metadata": {},
   "outputs": [
    {
     "data": {
      "text/plain": [
       "['D:\\\\DEV\\\\myPyCode\\\\file',\n",
       " 'C:\\\\Users\\\\Kosmo\\\\anaconda3\\\\python312.zip',\n",
       " 'C:\\\\Users\\\\Kosmo\\\\anaconda3\\\\DLLs',\n",
       " 'C:\\\\Users\\\\Kosmo\\\\anaconda3\\\\Lib',\n",
       " 'C:\\\\Users\\\\Kosmo\\\\anaconda3',\n",
       " '',\n",
       " 'C:\\\\Users\\\\Kosmo\\\\anaconda3\\\\Lib\\\\site-packages',\n",
       " 'C:\\\\Users\\\\Kosmo\\\\anaconda3\\\\Lib\\\\site-packages\\\\win32',\n",
       " 'C:\\\\Users\\\\Kosmo\\\\anaconda3\\\\Lib\\\\site-packages\\\\win32\\\\lib',\n",
       " 'C:\\\\Users\\\\Kosmo\\\\anaconda3\\\\Lib\\\\site-packages\\\\Pythonwin']"
      ]
     },
     "execution_count": 31,
     "metadata": {},
     "output_type": "execute_result"
    }
   ],
   "source": [
    "import sys\n",
    "sys.path"
   ]
  },
  {
   "cell_type": "code",
   "execution_count": 33,
   "id": "9147dc03-6765-460e-9224-8dd9d862d61a",
   "metadata": {},
   "outputs": [],
   "source": [
    "sys.path.append('D:/DEV/myPyCode/modules')"
   ]
  },
  {
   "cell_type": "code",
   "execution_count": 35,
   "id": "437e2342-8008-4e17-9e63-c251ff4bc2df",
   "metadata": {},
   "outputs": [
    {
     "data": {
      "text/plain": [
       "['D:\\\\DEV\\\\myPyCode\\\\file',\n",
       " 'C:\\\\Users\\\\Kosmo\\\\anaconda3\\\\python312.zip',\n",
       " 'C:\\\\Users\\\\Kosmo\\\\anaconda3\\\\DLLs',\n",
       " 'C:\\\\Users\\\\Kosmo\\\\anaconda3\\\\Lib',\n",
       " 'C:\\\\Users\\\\Kosmo\\\\anaconda3',\n",
       " '',\n",
       " 'C:\\\\Users\\\\Kosmo\\\\anaconda3\\\\Lib\\\\site-packages',\n",
       " 'C:\\\\Users\\\\Kosmo\\\\anaconda3\\\\Lib\\\\site-packages\\\\win32',\n",
       " 'C:\\\\Users\\\\Kosmo\\\\anaconda3\\\\Lib\\\\site-packages\\\\win32\\\\lib',\n",
       " 'C:\\\\Users\\\\Kosmo\\\\anaconda3\\\\Lib\\\\site-packages\\\\Pythonwin',\n",
       " 'D:/DEV/myPyCode/modules']"
      ]
     },
     "execution_count": 35,
     "metadata": {},
     "output_type": "execute_result"
    }
   ],
   "source": [
    "sys.path"
   ]
  },
  {
   "cell_type": "code",
   "execution_count": 37,
   "id": "53308fde-5ae0-40cf-99e8-edfec6e73df8",
   "metadata": {},
   "outputs": [],
   "source": [
    "sys.path.append('D:\\\\DEV\\\\myPyCode\\\\packages')"
   ]
  },
  {
   "cell_type": "code",
   "execution_count": 39,
   "id": "42cc6436-a1d6-4057-853b-5398942558c2",
   "metadata": {},
   "outputs": [
    {
     "data": {
      "text/plain": [
       "['D:\\\\DEV\\\\myPyCode\\\\file',\n",
       " 'C:\\\\Users\\\\Kosmo\\\\anaconda3\\\\python312.zip',\n",
       " 'C:\\\\Users\\\\Kosmo\\\\anaconda3\\\\DLLs',\n",
       " 'C:\\\\Users\\\\Kosmo\\\\anaconda3\\\\Lib',\n",
       " 'C:\\\\Users\\\\Kosmo\\\\anaconda3',\n",
       " '',\n",
       " 'C:\\\\Users\\\\Kosmo\\\\anaconda3\\\\Lib\\\\site-packages',\n",
       " 'C:\\\\Users\\\\Kosmo\\\\anaconda3\\\\Lib\\\\site-packages\\\\win32',\n",
       " 'C:\\\\Users\\\\Kosmo\\\\anaconda3\\\\Lib\\\\site-packages\\\\win32\\\\lib',\n",
       " 'C:\\\\Users\\\\Kosmo\\\\anaconda3\\\\Lib\\\\site-packages\\\\Pythonwin',\n",
       " 'D:/DEV/myPyCode/modules',\n",
       " 'D:\\\\DEV\\\\myPyCode\\\\packages']"
      ]
     },
     "execution_count": 39,
     "metadata": {},
     "output_type": "execute_result"
    }
   ],
   "source": [
    "sys.path"
   ]
  },
  {
   "cell_type": "code",
   "execution_count": 41,
   "id": "b11ea71b-ad48-4c88-8b04-d141cd7c4976",
   "metadata": {},
   "outputs": [
    {
     "name": "stdout",
     "output_type": "stream",
     "text": [
      "Writing D:/DEV/myPyCode/modules/my_area.py\n"
     ]
    }
   ],
   "source": [
    "%%writefile D:/DEV/myPyCode/modules/my_area.py\n",
    "# File Name : my_area.py\n",
    "PI = 3.14\n",
    "def square_area(a):\n",
    "    return a ** 2  # 정사각형 넓이 반환\n",
    "\n",
    "def circle_area(r):\n",
    "    return  PI * r ** 2"
   ]
  },
  {
   "cell_type": "code",
   "execution_count": 43,
   "id": "95a04eb8-2fd9-49e4-83d3-ebaee33c7cdb",
   "metadata": {},
   "outputs": [
    {
     "name": "stdout",
     "output_type": "stream",
     "text": [
      "pi =  3.14\n"
     ]
    }
   ],
   "source": [
    "import my_area\n",
    "print('pi = ', my_area.PI) # 모듈명.변수"
   ]
  },
  {
   "cell_type": "code",
   "execution_count": 45,
   "id": "463080ea-f6a3-41a3-b01c-459514116c09",
   "metadata": {},
   "outputs": [
    {
     "name": "stdout",
     "output_type": "stream",
     "text": [
      "square_area =  25\n"
     ]
    }
   ],
   "source": [
    "print('square_area =', my_area.square_area(5))  # 모듈의 함수 이용"
   ]
  },
  {
   "cell_type": "code",
   "execution_count": 49,
   "id": "f262f5db-e591-4067-87b9-b2db8a1c881e",
   "metadata": {},
   "outputs": [
    {
     "name": "stdout",
     "output_type": "stream",
     "text": [
      "circle_area = 12.56\n"
     ]
    }
   ],
   "source": [
    "print('circle_area =', my_area.circle_area(2))  # 모듈명.함수명"
   ]
  },
  {
   "cell_type": "code",
   "execution_count": 51,
   "id": "90b2eaf7-9751-4f28-b519-12f32e77821d",
   "metadata": {},
   "outputs": [
    {
     "data": {
      "text/plain": [
       "['PI',\n",
       " '__builtins__',\n",
       " '__cached__',\n",
       " '__doc__',\n",
       " '__file__',\n",
       " '__loader__',\n",
       " '__name__',\n",
       " '__package__',\n",
       " '__spec__',\n",
       " 'circle_area',\n",
       " 'square_area']"
      ]
     },
     "execution_count": 51,
     "metadata": {},
     "output_type": "execute_result"
    }
   ],
   "source": [
    "dir(my_area)"
   ]
  },
  {
   "cell_type": "markdown",
   "id": "0f75c38f-a920-4984-a566-19bc45e26cf7",
   "metadata": {},
   "source": [
    "## 모듈을 불러오는 다른 형식\n",
    "- from 모듈명 import 변수명     ->  리액트: import  { 함수명 } from 모듈명\n",
    "- from 모듈명 import 함수명\n",
    "- from 모듈명 import 클래스명"
   ]
  },
  {
   "cell_type": "code",
   "execution_count": 54,
   "id": "4bd9d96c-d8ff-4d65-8669-dfe7c99bbdb6",
   "metadata": {},
   "outputs": [
    {
     "name": "stdout",
     "output_type": "stream",
     "text": [
      "3.14\n"
     ]
    }
   ],
   "source": [
    "from my_area import PI  #바로 사용하기\n",
    "print(PI)"
   ]
  },
  {
   "cell_type": "code",
   "execution_count": 56,
   "id": "c2621511-1e83-4ff8-b712-f0d5db59ca68",
   "metadata": {},
   "outputs": [],
   "source": [
    "from my_area import square_area, circle_area"
   ]
  },
  {
   "cell_type": "code",
   "execution_count": 58,
   "id": "3f3132d8-6717-45e6-aa8a-3885552e393c",
   "metadata": {},
   "outputs": [
    {
     "name": "stdout",
     "output_type": "stream",
     "text": [
      "25\n",
      "12.56\n"
     ]
    }
   ],
   "source": [
    "print(square_area(5))\n",
    "print(circle_area(2))"
   ]
  },
  {
   "cell_type": "code",
   "execution_count": 60,
   "id": "0ce09d99-774a-4c4c-9109-039fdc9b2b00",
   "metadata": {},
   "outputs": [
    {
     "name": "stdout",
     "output_type": "stream",
     "text": [
      "3.14\n"
     ]
    }
   ],
   "source": [
    "import my_area as area\n",
    "print(area.PI)"
   ]
  },
  {
   "cell_type": "code",
   "execution_count": 62,
   "id": "5f7496bf-aac7-43f7-9495-40a391572720",
   "metadata": {},
   "outputs": [],
   "source": [
    "import numpy as np\n",
    "import pandas as pd"
   ]
  },
  {
   "cell_type": "code",
   "execution_count": 72,
   "id": "c8d56ca5-7691-4804-a776-9af77704f6a3",
   "metadata": {},
   "outputs": [],
   "source": [
    "from my_area import square_area as square  # 변수명, 함수명, 클래스명 as 별명\n",
    "from my_area import circle_area as circle"
   ]
  },
  {
   "cell_type": "code",
   "execution_count": 68,
   "id": "1ae25f60-0c9f-48a0-9af7-a5e17a21ce25",
   "metadata": {},
   "outputs": [
    {
     "name": "stdout",
     "output_type": "stream",
     "text": [
      "25\n"
     ]
    }
   ],
   "source": [
    "print(square(5))"
   ]
  },
  {
   "cell_type": "code",
   "execution_count": 74,
   "id": "a836c771-3e8e-4c37-ada0-a636437e838c",
   "metadata": {},
   "outputs": [
    {
     "name": "stdout",
     "output_type": "stream",
     "text": [
      "12.56\n"
     ]
    }
   ],
   "source": [
    "print(circle(2))"
   ]
  },
  {
   "cell_type": "code",
   "execution_count": 76,
   "id": "d18b4c83-4a52-4833-8799-a2637b71c980",
   "metadata": {},
   "outputs": [
    {
     "name": "stdout",
     "output_type": "stream",
     "text": [
      "Writing D:/dev/myPyCode/modules/my_module_test1.py\n"
     ]
    }
   ],
   "source": [
    "%%writefile D:/dev/myPyCode/modules/my_module_test1.py\n",
    "\n",
    "def func(a):\n",
    "    print(\"입력 숫자:\", a)\n",
    "\n",
    "func(3)"
   ]
  },
  {
   "cell_type": "code",
   "execution_count": 78,
   "id": "48d2651f-ee39-4f02-b8bf-d92bf4067f4a",
   "metadata": {},
   "outputs": [
    {
     "name": "stdout",
     "output_type": "stream",
     "text": [
      "입력 숫자: 3\n"
     ]
    }
   ],
   "source": [
    "%run  D:\\\\dev\\\\myPyCode\\\\modules\\\\my_module_test1.py"
   ]
  },
  {
   "cell_type": "code",
   "execution_count": 80,
   "id": "a4242eeb-d0c3-4766-8ddf-09deb37b60c5",
   "metadata": {},
   "outputs": [
    {
     "name": "stdout",
     "output_type": "stream",
     "text": [
      "입력 숫자: 3\n"
     ]
    }
   ],
   "source": [
    "import my_module_test1"
   ]
  },
  {
   "cell_type": "markdown",
   "id": "c03c60e9-ead6-4e06-9444-fcf432300d19",
   "metadata": {},
   "source": [
    "#### 모듈을 직접 수행하는 경우와 임포트 해서 사용하는 경우를 구분하는 방법"
   ]
  },
  {
   "cell_type": "code",
   "execution_count": 84,
   "id": "f367bc1d-53e0-430f-b1d5-28351da08553",
   "metadata": {},
   "outputs": [
    {
     "name": "stdout",
     "output_type": "stream",
     "text": [
      "Writing D:/dev/myPyCode/modules/my_module_test2.py\n"
     ]
    }
   ],
   "source": [
    "%%writefile D:/dev/myPyCode/modules/my_module_test2.py\n",
    "\n",
    "def func(a):\n",
    "    print(\"입력 숫자:\", a)\n",
    "\n",
    "if __name__ == \"__main__\":\n",
    "    print(\"모듈을 직접 실행\")\n",
    "    func(3)\n",
    "    func(4)"
   ]
  },
  {
   "cell_type": "code",
   "execution_count": 86,
   "id": "f95b25eb-9b62-4fad-aae7-a557b2b37e2c",
   "metadata": {},
   "outputs": [
    {
     "name": "stdout",
     "output_type": "stream",
     "text": [
      "모듈을 직접 실행\n",
      "입력 숫자: 3\n",
      "입력 숫자: 4\n"
     ]
    }
   ],
   "source": [
    "%run D:\\dev\\myPyCode\\modules\\my_module_test2.py"
   ]
  },
  {
   "cell_type": "code",
   "execution_count": 88,
   "id": "105904f9-7b7f-487d-a587-b21de6b0b269",
   "metadata": {},
   "outputs": [],
   "source": [
    "import my_module_test2"
   ]
  },
  {
   "cell_type": "code",
   "execution_count": 90,
   "id": "912eea65-28c9-49ec-ab37-49a3aaefe554",
   "metadata": {},
   "outputs": [
    {
     "name": "stdout",
     "output_type": "stream",
     "text": [
      "Writing D:/dev/myPyCode/modules/my_module_test3.py\n"
     ]
    }
   ],
   "source": [
    "%%writefile D:/dev/myPyCode/modules/my_module_test3.py\n",
    "\n",
    "def func(a):\n",
    "    print(\"입력 숫자:\", a)\n",
    "\n",
    "if __name__ == \"__main__\":\n",
    "    print(\"모듈을 직접 실행\")\n",
    "    func(3)\n",
    "    func(4)\n",
    "else:\n",
    "    print(\"모듈을 임포트해서 실행\")"
   ]
  },
  {
   "cell_type": "code",
   "execution_count": 92,
   "id": "031d262f-a52f-4788-9d7f-4cc8aeafc32f",
   "metadata": {},
   "outputs": [
    {
     "name": "stdout",
     "output_type": "stream",
     "text": [
      "모듈을 직접 실행\n",
      "입력 숫자: 3\n",
      "입력 숫자: 4\n"
     ]
    }
   ],
   "source": [
    "%run D:\\dev\\myPyCode\\modules\\my_module_test3.py"
   ]
  },
  {
   "cell_type": "code",
   "execution_count": 94,
   "id": "51a94927-b726-45aa-98f3-7650ecd575d7",
   "metadata": {},
   "outputs": [
    {
     "name": "stdout",
     "output_type": "stream",
     "text": [
      "모듈을 임포트해서 실행\n"
     ]
    }
   ],
   "source": [
    "import my_module_test3"
   ]
  },
  {
   "cell_type": "markdown",
   "id": "38c0462c-eb99-4024-bbb5-2af4b7dc356d",
   "metadata": {},
   "source": [
    "# 내장 모듈"
   ]
  },
  {
   "cell_type": "code",
   "execution_count": 97,
   "id": "00a2d838-1fca-4119-8ec7-6e8fe2be3f7d",
   "metadata": {},
   "outputs": [
    {
     "data": {
      "text/plain": [
       "0.32854532713805884"
      ]
     },
     "execution_count": 97,
     "metadata": {},
     "output_type": "execute_result"
    }
   ],
   "source": [
    "# random 내장 모듈\n",
    "import random as rd\n",
    "rd.random()"
   ]
  },
  {
   "cell_type": "code",
   "execution_count": 109,
   "id": "c0a4bbef-fe62-451e-9b05-4a93acd856e7",
   "metadata": {},
   "outputs": [
    {
     "name": "stdout",
     "output_type": "stream",
     "text": [
      "주사위 두 개의 숫자: 3, 1\n"
     ]
    }
   ],
   "source": [
    "dice1 = rd.randint(1, 6)\n",
    "dice2 = rd.randint(1, 6)\n",
    "print('주사위 두 개의 숫자: {0}, {1}'.format(dice1, dice2))"
   ]
  },
  {
   "cell_type": "code",
   "execution_count": 117,
   "id": "a8a20e0e-cc8b-49c9-9118-00e037bea270",
   "metadata": {},
   "outputs": [
    {
     "data": {
      "text/plain": [
       "6"
      ]
     },
     "execution_count": 117,
     "metadata": {},
     "output_type": "execute_result"
    }
   ],
   "source": [
    "# 0부터 10까지 임의의 짝수를 발생시킬때\n",
    "rd.randrange(0, 11, 2)"
   ]
  },
  {
   "cell_type": "code",
   "execution_count": 125,
   "id": "ecdc2ab8-5766-4978-b6c9-c2f927586366",
   "metadata": {},
   "outputs": [
    {
     "data": {
      "text/plain": [
       "'된장찌게'"
      ]
     },
     "execution_count": 125,
     "metadata": {},
     "output_type": "execute_result"
    }
   ],
   "source": [
    "menu = ['비빔밥', '된장찌게', '볶음밥', '불고기덮밥', '스파게티', '햄버거']\n",
    "rd.choice(menu)   "
   ]
  },
  {
   "cell_type": "code",
   "execution_count": 129,
   "id": "72c52923-0b85-4f27-ab5d-d9771d823621",
   "metadata": {},
   "outputs": [
    {
     "data": {
      "text/plain": [
       "['햄버거', '된장찌게']"
      ]
     },
     "execution_count": 129,
     "metadata": {},
     "output_type": "execute_result"
    }
   ],
   "source": [
    "# 리스트에서 지정한 개수 만큼 중복없이 임의 인자를 반환\n",
    "rd.sample(['비빔밥', '된장찌게', '볶음밥', '불고기덮밥', '스파게티', '햄버거'], 2)"
   ]
  },
  {
   "cell_type": "markdown",
   "id": "f17a7f05-8d2b-46af-9a7e-5e8148e1f43a",
   "metadata": {},
   "source": [
    "## datetime 내장모듈"
   ]
  },
  {
   "cell_type": "code",
   "execution_count": 132,
   "id": "af5ae86c-7d51-4c5d-8b22-585f5d8c7a48",
   "metadata": {},
   "outputs": [
    {
     "name": "stdout",
     "output_type": "stream",
     "text": [
      "2019-03-01\n"
     ]
    }
   ],
   "source": [
    "import datetime\n",
    "\n",
    "set_day = datetime.date(2019, 3, 1)\n",
    "print(set_day)"
   ]
  },
  {
   "cell_type": "code",
   "execution_count": 134,
   "id": "3230ceb4-60f3-4b7e-9fa7-43f0c08b0319",
   "metadata": {},
   "outputs": [
    {
     "name": "stdout",
     "output_type": "stream",
     "text": [
      "2019/3/1\n"
     ]
    }
   ],
   "source": [
    "print('{0}/{1}/{2}'.format(set_day.year, set_day.month, set_day.day)) "
   ]
  },
  {
   "cell_type": "code",
   "execution_count": 138,
   "id": "1120499e-b074-4cf3-b820-89aa063a2126",
   "metadata": {},
   "outputs": [
    {
     "name": "stdout",
     "output_type": "stream",
     "text": [
      "126 days, 0:00:00\n"
     ]
    }
   ],
   "source": [
    "day1 = datetime.date(2024, 4, 25)\n",
    "day2 = datetime.date(2024, 8, 29)\n",
    "diff_day = day2 - day1\n",
    "print(diff_day)"
   ]
  },
  {
   "cell_type": "code",
   "execution_count": 140,
   "id": "cf8a708d-cb04-45d4-852d-91a1376f7189",
   "metadata": {},
   "outputs": [
    {
     "data": {
      "text/plain": [
       "datetime.date"
      ]
     },
     "execution_count": 140,
     "metadata": {},
     "output_type": "execute_result"
    }
   ],
   "source": [
    "type(day1)"
   ]
  },
  {
   "cell_type": "code",
   "execution_count": 142,
   "id": "ee0ff5ca-3c71-4b5d-af6e-34ff1d16c37b",
   "metadata": {},
   "outputs": [
    {
     "data": {
      "text/plain": [
       "datetime.timedelta"
      ]
     },
     "execution_count": 142,
     "metadata": {},
     "output_type": "execute_result"
    }
   ],
   "source": [
    "type(diff_day)"
   ]
  },
  {
   "cell_type": "code",
   "execution_count": 144,
   "id": "cc7a5e4f-7a6b-451f-a2ff-7203bedb3a1b",
   "metadata": {},
   "outputs": [
    {
     "name": "stdout",
     "output_type": "stream",
     "text": [
      " ** 지정된 두 날짜의 차이는 126일 입니다. **\n"
     ]
    }
   ],
   "source": [
    "print(\" ** 지정된 두 날짜의 차이는 {}일 입니다. **\".format(diff_day.days))"
   ]
  },
  {
   "cell_type": "code",
   "execution_count": 146,
   "id": "50f3665e-e275-4a30-baf8-0f02ed9f2433",
   "metadata": {},
   "outputs": [
    {
     "name": "stdout",
     "output_type": "stream",
     "text": [
      "2024-08-29\n"
     ]
    }
   ],
   "source": [
    "print(datetime.date.today())"
   ]
  },
  {
   "cell_type": "code",
   "execution_count": 148,
   "id": "8934b72e-d2a6-4745-b242-910011177f7b",
   "metadata": {},
   "outputs": [
    {
     "name": "stdout",
     "output_type": "stream",
     "text": [
      "13:06:45\n"
     ]
    }
   ],
   "source": [
    "set_time = datetime.time(13, 6, 45)\n",
    "print(set_time)"
   ]
  },
  {
   "cell_type": "code",
   "execution_count": 150,
   "id": "898bb05f-de5e-416f-93af-257c092317c4",
   "metadata": {},
   "outputs": [
    {
     "name": "stdout",
     "output_type": "stream",
     "text": [
      "2024-08-29 13:07:27.105077\n"
     ]
    }
   ],
   "source": [
    "now = datetime.datetime.now()\n",
    "print(now)"
   ]
  },
  {
   "cell_type": "code",
   "execution_count": 152,
   "id": "bfb8eee8-62ac-4e55-b6a3-f5a7abdecb15",
   "metadata": {},
   "outputs": [
    {
     "name": "stdout",
     "output_type": "stream",
     "text": [
      "Date & Time : 2024-08-29, 13:07:27\n"
     ]
    }
   ],
   "source": [
    "print(\"Date & Time : {:%Y-%m-%d, %H:%M:%S}\".format(now))"
   ]
  },
  {
   "cell_type": "code",
   "execution_count": 156,
   "id": "8146868b-bf58-4d18-bcd6-4bd775bb50b8",
   "metadata": {},
   "outputs": [
    {
     "name": "stdout",
     "output_type": "stream",
     "text": [
      "Date : 2024/08/29\n",
      "Time : 13-07-27\n"
     ]
    }
   ],
   "source": [
    "print(\"Date : {:%Y/%m/%d}\".format(now))\n",
    "print(\"Time : {:%H-%M-%S}\".format(now))"
   ]
  },
  {
   "cell_type": "markdown",
   "id": "6511f958-8d6e-4930-b79f-76cd05bec0fc",
   "metadata": {},
   "source": [
    "## calendar 내장모듈"
   ]
  },
  {
   "cell_type": "code",
   "execution_count": 159,
   "id": "5185f10d-2d5b-485c-8706-eefc7bc1d8b7",
   "metadata": {},
   "outputs": [
    {
     "name": "stdout",
     "output_type": "stream",
     "text": [
      "                                  2024\n",
      "\n",
      "      January                   February                   March\n",
      "Mo Tu We Th Fr Sa Su      Mo Tu We Th Fr Sa Su      Mo Tu We Th Fr Sa Su\n",
      " 1  2  3  4  5  6  7                1  2  3  4                   1  2  3\n",
      " 8  9 10 11 12 13 14       5  6  7  8  9 10 11       4  5  6  7  8  9 10\n",
      "15 16 17 18 19 20 21      12 13 14 15 16 17 18      11 12 13 14 15 16 17\n",
      "22 23 24 25 26 27 28      19 20 21 22 23 24 25      18 19 20 21 22 23 24\n",
      "29 30 31                  26 27 28 29               25 26 27 28 29 30 31\n",
      "\n",
      "       April                      May                       June\n",
      "Mo Tu We Th Fr Sa Su      Mo Tu We Th Fr Sa Su      Mo Tu We Th Fr Sa Su\n",
      " 1  2  3  4  5  6  7             1  2  3  4  5                      1  2\n",
      " 8  9 10 11 12 13 14       6  7  8  9 10 11 12       3  4  5  6  7  8  9\n",
      "15 16 17 18 19 20 21      13 14 15 16 17 18 19      10 11 12 13 14 15 16\n",
      "22 23 24 25 26 27 28      20 21 22 23 24 25 26      17 18 19 20 21 22 23\n",
      "29 30                     27 28 29 30 31            24 25 26 27 28 29 30\n",
      "\n",
      "        July                     August                  September\n",
      "Mo Tu We Th Fr Sa Su      Mo Tu We Th Fr Sa Su      Mo Tu We Th Fr Sa Su\n",
      " 1  2  3  4  5  6  7                1  2  3  4                         1\n",
      " 8  9 10 11 12 13 14       5  6  7  8  9 10 11       2  3  4  5  6  7  8\n",
      "15 16 17 18 19 20 21      12 13 14 15 16 17 18       9 10 11 12 13 14 15\n",
      "22 23 24 25 26 27 28      19 20 21 22 23 24 25      16 17 18 19 20 21 22\n",
      "29 30 31                  26 27 28 29 30 31         23 24 25 26 27 28 29\n",
      "                                                    30\n",
      "\n",
      "      October                   November                  December\n",
      "Mo Tu We Th Fr Sa Su      Mo Tu We Th Fr Sa Su      Mo Tu We Th Fr Sa Su\n",
      "    1  2  3  4  5  6                   1  2  3                         1\n",
      " 7  8  9 10 11 12 13       4  5  6  7  8  9 10       2  3  4  5  6  7  8\n",
      "14 15 16 17 18 19 20      11 12 13 14 15 16 17       9 10 11 12 13 14 15\n",
      "21 22 23 24 25 26 27      18 19 20 21 22 23 24      16 17 18 19 20 21 22\n",
      "28 29 30 31               25 26 27 28 29 30         23 24 25 26 27 28 29\n",
      "                                                    30 31\n",
      "\n"
     ]
    }
   ],
   "source": [
    "import calendar\n",
    "print(calendar.calendar(2024))\n"
   ]
  },
  {
   "cell_type": "code",
   "execution_count": 161,
   "id": "3ba29533-2712-4333-9ebb-d1e0c5f70b33",
   "metadata": {},
   "outputs": [
    {
     "name": "stdout",
     "output_type": "stream",
     "text": [
      "0\n"
     ]
    }
   ],
   "source": [
    "print(calendar.MONDAY)"
   ]
  },
  {
   "cell_type": "code",
   "execution_count": 163,
   "id": "e4688d54-73eb-46a0-b361-0125cb5522a8",
   "metadata": {},
   "outputs": [
    {
     "name": "stdout",
     "output_type": "stream",
     "text": [
      "                                               2024\n",
      "\n",
      "      January                   February                   March                     April\n",
      "Mo Tu We Th Fr Sa Su      Mo Tu We Th Fr Sa Su      Mo Tu We Th Fr Sa Su      Mo Tu We Th Fr Sa Su\n",
      " 1  2  3  4  5  6  7                1  2  3  4                   1  2  3       1  2  3  4  5  6  7\n",
      " 8  9 10 11 12 13 14       5  6  7  8  9 10 11       4  5  6  7  8  9 10       8  9 10 11 12 13 14\n",
      "15 16 17 18 19 20 21      12 13 14 15 16 17 18      11 12 13 14 15 16 17      15 16 17 18 19 20 21\n",
      "22 23 24 25 26 27 28      19 20 21 22 23 24 25      18 19 20 21 22 23 24      22 23 24 25 26 27 28\n",
      "29 30 31                  26 27 28 29               25 26 27 28 29 30 31      29 30\n",
      "\n",
      "        May                       June                      July                     August\n",
      "Mo Tu We Th Fr Sa Su      Mo Tu We Th Fr Sa Su      Mo Tu We Th Fr Sa Su      Mo Tu We Th Fr Sa Su\n",
      "       1  2  3  4  5                      1  2       1  2  3  4  5  6  7                1  2  3  4\n",
      " 6  7  8  9 10 11 12       3  4  5  6  7  8  9       8  9 10 11 12 13 14       5  6  7  8  9 10 11\n",
      "13 14 15 16 17 18 19      10 11 12 13 14 15 16      15 16 17 18 19 20 21      12 13 14 15 16 17 18\n",
      "20 21 22 23 24 25 26      17 18 19 20 21 22 23      22 23 24 25 26 27 28      19 20 21 22 23 24 25\n",
      "27 28 29 30 31            24 25 26 27 28 29 30      29 30 31                  26 27 28 29 30 31\n",
      "\n",
      "     September                  October                   November                  December\n",
      "Mo Tu We Th Fr Sa Su      Mo Tu We Th Fr Sa Su      Mo Tu We Th Fr Sa Su      Mo Tu We Th Fr Sa Su\n",
      "                   1          1  2  3  4  5  6                   1  2  3                         1\n",
      " 2  3  4  5  6  7  8       7  8  9 10 11 12 13       4  5  6  7  8  9 10       2  3  4  5  6  7  8\n",
      " 9 10 11 12 13 14 15      14 15 16 17 18 19 20      11 12 13 14 15 16 17       9 10 11 12 13 14 15\n",
      "16 17 18 19 20 21 22      21 22 23 24 25 26 27      18 19 20 21 22 23 24      16 17 18 19 20 21 22\n",
      "23 24 25 26 27 28 29      28 29 30 31               25 26 27 28 29 30         23 24 25 26 27 28 29\n",
      "30                                                                            30 31\n",
      "\n"
     ]
    }
   ],
   "source": [
    "print(calendar.calendar(2024, m=4))"
   ]
  },
  {
   "cell_type": "code",
   "execution_count": 165,
   "id": "90021609-09ad-4466-855c-d9418041682f",
   "metadata": {},
   "outputs": [
    {
     "name": "stdout",
     "output_type": "stream",
     "text": [
      "   February 2024\n",
      "Mo Tu We Th Fr Sa Su\n",
      "          1  2  3  4\n",
      " 5  6  7  8  9 10 11\n",
      "12 13 14 15 16 17 18\n",
      "19 20 21 22 23 24 25\n",
      "26 27 28 29\n",
      "\n"
     ]
    }
   ],
   "source": [
    "print(calendar.month(2024, 2))"
   ]
  },
  {
   "cell_type": "code",
   "execution_count": 167,
   "id": "d22cafce-d5d3-49a4-a4ab-413a9282cf99",
   "metadata": {},
   "outputs": [
    {
     "name": "stdout",
     "output_type": "stream",
     "text": [
      "True\n"
     ]
    }
   ],
   "source": [
    "# 지정연도가 윤년인지를 판단해 윤년이면 True, False\n",
    "print(calendar.isleap(2024))"
   ]
  },
  {
   "cell_type": "code",
   "execution_count": 169,
   "id": "cd08b36a-8a71-4684-8936-fe47ca3b69c3",
   "metadata": {},
   "outputs": [
    {
     "name": "stdout",
     "output_type": "stream",
     "text": [
      "False\n"
     ]
    }
   ],
   "source": [
    "print(calendar.isleap(2025))"
   ]
  },
  {
   "cell_type": "markdown",
   "id": "b04491e9-87d4-4f39-9814-7df98dca41b5",
   "metadata": {},
   "source": [
    "# 05 패키지\n",
    "- 모듈: 코드가 저장된 파일\n",
    "- 패키지 : 여러 모듈을 체계적으로 모아서 꾸러미 로 관리하는것\n",
    "- 파이썬 3.3 버전 이전에는 '__init__.py' 특별한 파일이 있습니다\n",
    "- __init__.py 패키지를 초기화하는 코드를 넣을 수도 있고 빈 파일일 수 도 있습니다\n",
    "- 하위 호환성을 고려하여 __init__.py 파일을 포함하는 것이 좋습니다. "
   ]
  },
  {
   "cell_type": "code",
   "execution_count": 172,
   "id": "de5df52b-ec10-4a62-9afc-bbb558a15d71",
   "metadata": {},
   "outputs": [
    {
     "data": {
      "text/plain": [
       "['D:\\\\DEV\\\\myPyCode\\\\file',\n",
       " 'C:\\\\Users\\\\Kosmo\\\\anaconda3\\\\python312.zip',\n",
       " 'C:\\\\Users\\\\Kosmo\\\\anaconda3\\\\DLLs',\n",
       " 'C:\\\\Users\\\\Kosmo\\\\anaconda3\\\\Lib',\n",
       " 'C:\\\\Users\\\\Kosmo\\\\anaconda3',\n",
       " '',\n",
       " 'C:\\\\Users\\\\Kosmo\\\\anaconda3\\\\Lib\\\\site-packages',\n",
       " 'C:\\\\Users\\\\Kosmo\\\\anaconda3\\\\Lib\\\\site-packages\\\\win32',\n",
       " 'C:\\\\Users\\\\Kosmo\\\\anaconda3\\\\Lib\\\\site-packages\\\\win32\\\\lib',\n",
       " 'C:\\\\Users\\\\Kosmo\\\\anaconda3\\\\Lib\\\\site-packages\\\\Pythonwin',\n",
       " 'D:/DEV/myPyCode/modules',\n",
       " 'D:\\\\DEV\\\\myPyCode\\\\packages']"
      ]
     },
     "execution_count": 172,
     "metadata": {},
     "output_type": "execute_result"
    }
   ],
   "source": [
    "sys.path"
   ]
  },
  {
   "cell_type": "code",
   "execution_count": 174,
   "id": "5544df20-6c18-486e-8410-0df840f461bf",
   "metadata": {},
   "outputs": [],
   "source": [
    "mkdir D:\\\\DEV\\\\myPyCode\\\\packages\\\\image"
   ]
  },
  {
   "cell_type": "code",
   "execution_count": 176,
   "id": "48c314ea-ae51-43ae-9370-e205beffd506",
   "metadata": {},
   "outputs": [],
   "source": [
    "mkdir D:\\\\DEV\\\\myPyCode\\\\packages\\\\image\\\\io_file"
   ]
  },
  {
   "cell_type": "code",
   "execution_count": 180,
   "id": "a6b29704-3c7a-4b35-96b5-1225acac07a2",
   "metadata": {},
   "outputs": [
    {
     "name": "stdout",
     "output_type": "stream",
     "text": [
      "Writing D:\\DEV\\myPyCode\\packages\\image\\__init__.py\n"
     ]
    }
   ],
   "source": [
    "%%writefile D:\\DEV\\myPyCode\\packages\\image\\__init__.py\n",
    "# File name: __init__.py"
   ]
  },
  {
   "cell_type": "code",
   "execution_count": 182,
   "id": "75f8c65b-bf37-485f-b594-eff78d33a9fb",
   "metadata": {},
   "outputs": [
    {
     "name": "stdout",
     "output_type": "stream",
     "text": [
      "Writing D:\\\\DEV\\\\myPyCode\\\\packages\\\\image\\\\io_file\\\\__init__.py\n"
     ]
    }
   ],
   "source": [
    "%%writefile D:\\\\DEV\\\\myPyCode\\\\packages\\\\image\\\\io_file\\\\__init__.py\n",
    "# File name: __init__.py"
   ]
  },
  {
   "cell_type": "code",
   "execution_count": 184,
   "id": "4657da62-2695-4ce8-8b00-9a940eedcc9b",
   "metadata": {},
   "outputs": [
    {
     "name": "stdout",
     "output_type": "stream",
     "text": [
      "Writing D:\\\\DEV\\\\myPyCode\\\\packages\\\\image\\\\io_file\\\\imgread.py\n"
     ]
    }
   ],
   "source": [
    "%%writefile D:\\\\DEV\\\\myPyCode\\\\packages\\\\image\\\\io_file\\\\imgread.py\n",
    "# File name: imgread.py\n",
    "\n",
    "def pngread():\n",
    "    print(\"pngread in imgread module\")\n",
    "\n",
    "def jpgread():\n",
    "    print(\"jpgread in imgread module\")"
   ]
  },
  {
   "cell_type": "code",
   "execution_count": 186,
   "id": "768b8e8a-3c7d-46a5-adb9-a258b603baa9",
   "metadata": {},
   "outputs": [
    {
     "name": "stdout",
     "output_type": "stream",
     "text": [
      "폴더 PATH의 목록입니다.\n",
      "볼륨 일련 번호가 00000045 DA56:F957입니다.\n",
      "D:\\DEV\\MYPYCODE\\PACKAGES\n",
      "└─image\n",
      "    │  __init__.py\n",
      "    │  \n",
      "    └─io_file\n",
      "            imgread.py\n",
      "            __init__.py\n",
      "            \n"
     ]
    }
   ],
   "source": [
    "!tree /F D:\\dev\\myPyCode\\packages"
   ]
  },
  {
   "cell_type": "code",
   "execution_count": 188,
   "id": "7b839ed5-7874-4f47-a9a2-9fa39ea6a131",
   "metadata": {},
   "outputs": [
    {
     "name": "stdout",
     "output_type": "stream",
     "text": [
      "pngread in imgread module\n"
     ]
    }
   ],
   "source": [
    "import image.io_file.imgread  # 모듈 임포트\n",
    "image.io_file.imgread.pngread()"
   ]
  },
  {
   "cell_type": "code",
   "execution_count": 190,
   "id": "24dde936-6d16-4b50-911f-a515376c815b",
   "metadata": {},
   "outputs": [
    {
     "name": "stdout",
     "output_type": "stream",
     "text": [
      "pngread in imgread module\n"
     ]
    }
   ],
   "source": [
    "from image.io_file import imgread\n",
    "imgread.pngread()"
   ]
  },
  {
   "cell_type": "code",
   "execution_count": 192,
   "id": "fa5f9e62-c20c-4d0d-add7-c0589eb849d8",
   "metadata": {},
   "outputs": [
    {
     "name": "stdout",
     "output_type": "stream",
     "text": [
      "jpgread in imgread module\n"
     ]
    }
   ],
   "source": [
    "imgread.jpgread()"
   ]
  },
  {
   "cell_type": "code",
   "execution_count": 194,
   "id": "f901ffd1-3f05-4ca6-9f83-97618ac04f3a",
   "metadata": {},
   "outputs": [
    {
     "name": "stdout",
     "output_type": "stream",
     "text": [
      "pngread in imgread module\n"
     ]
    }
   ],
   "source": [
    "from image.io_file.imgread import pngread, jpgread\n",
    "pngread()"
   ]
  },
  {
   "cell_type": "code",
   "execution_count": 196,
   "id": "f4f3a09a-57c0-4907-8fbf-3844cc335785",
   "metadata": {},
   "outputs": [
    {
     "name": "stdout",
     "output_type": "stream",
     "text": [
      "jpgread in imgread module\n"
     ]
    }
   ],
   "source": [
    "from image.io_file.imgread import *\n",
    "jpgread()"
   ]
  },
  {
   "cell_type": "code",
   "execution_count": 200,
   "id": "dab44fcf-031e-4659-9ba1-cab2bc727f9d",
   "metadata": {},
   "outputs": [
    {
     "name": "stdout",
     "output_type": "stream",
     "text": [
      "pngread in imgread module\n"
     ]
    }
   ],
   "source": [
    "from image.io_file.imgread import pngread as pread\n",
    "pread()"
   ]
  },
  {
   "cell_type": "code",
   "execution_count": null,
   "id": "26f75d78-a61f-4a5d-ae70-4f1f8f167aed",
   "metadata": {},
   "outputs": [],
   "source": []
  }
 ],
 "metadata": {
  "kernelspec": {
   "display_name": "Python 3 (ipykernel)",
   "language": "python",
   "name": "python3"
  },
  "language_info": {
   "codemirror_mode": {
    "name": "ipython",
    "version": 3
   },
   "file_extension": ".py",
   "mimetype": "text/x-python",
   "name": "python",
   "nbconvert_exporter": "python",
   "pygments_lexer": "ipython3",
   "version": "3.12.4"
  }
 },
 "nbformat": 4,
 "nbformat_minor": 5
}
