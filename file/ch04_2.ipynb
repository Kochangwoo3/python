{
 "cells": [
  {
   "cell_type": "markdown",
   "id": "6e7b5f2d-9c93-45ff-901d-a27a7845043a",
   "metadata": {},
   "source": [
    "# 튜플 자료형\n",
    "- 요소값 변경 불가능\n",
    "- 값 다음 에 쉼표 작성\n",
    "- 기호  괄호 (괄호 생략 가능)"
   ]
  },
  {
   "cell_type": "code",
   "execution_count": 40,
   "id": "d5b399a9-3691-4603-9c7c-4ff6bc99731d",
   "metadata": {},
   "outputs": [
    {
     "name": "stdout",
     "output_type": "stream",
     "text": [
      "1\n"
     ]
    }
   ],
   "source": [
    "t1 = (1, 2, 'a', 'b', ('c', 'd'))\n",
    "print(t1[0])\n",
    "# t1[0] = 7 # 튜플 요소값 변경 불가능"
   ]
  },
  {
   "cell_type": "code",
   "execution_count": 27,
   "id": "39aebf7c-754a-49af-920e-4f3605cd5ff5",
   "metadata": {},
   "outputs": [
    {
     "data": {
      "text/plain": [
       "(1,)"
      ]
     },
     "execution_count": 27,
     "metadata": {},
     "output_type": "execute_result"
    }
   ],
   "source": [
    "t1[:2:2]   # 슬라시싱  문법 중요   시작: 종료: 스텝"
   ]
  },
  {
   "cell_type": "code",
   "execution_count": 17,
   "id": "9db8fccb-8c10-42be-a58b-5e840b5623b7",
   "metadata": {},
   "outputs": [
    {
     "data": {
      "text/plain": [
       "('c', 'd')"
      ]
     },
     "execution_count": 17,
     "metadata": {},
     "output_type": "execute_result"
    }
   ],
   "source": [
    "t1[4]"
   ]
  },
  {
   "cell_type": "code",
   "execution_count": 19,
   "id": "1d519f4c-87d3-4d22-a2ca-c15251da4087",
   "metadata": {},
   "outputs": [
    {
     "data": {
      "text/plain": [
       "tuple"
      ]
     },
     "execution_count": 19,
     "metadata": {},
     "output_type": "execute_result"
    }
   ],
   "source": [
    "type(t1[4])"
   ]
  },
  {
   "cell_type": "code",
   "execution_count": 21,
   "id": "8eeeb2db-c45d-4867-8db8-e4a6a364d88f",
   "metadata": {},
   "outputs": [
    {
     "data": {
      "text/plain": [
       "1"
      ]
     },
     "execution_count": 21,
     "metadata": {},
     "output_type": "execute_result"
    }
   ],
   "source": [
    "t1.index(2)"
   ]
  },
  {
   "cell_type": "code",
   "execution_count": 29,
   "id": "c0edc198-8d15-45ab-95da-f95a470c6cf6",
   "metadata": {},
   "outputs": [
    {
     "data": {
      "text/plain": [
       "(1, 2, 'a', 'b', 3, 4)"
      ]
     },
     "execution_count": 29,
     "metadata": {},
     "output_type": "execute_result"
    }
   ],
   "source": [
    "# 리스트 나 튜플에서 '+' 는 추가 하는 append ,와 같다.\n",
    "t1 = (1, 2, 'a', 'b')\n",
    "t2 = (3, 4)\n",
    "t3 = t1 + t2\n",
    "t3"
   ]
  },
  {
   "cell_type": "code",
   "execution_count": 31,
   "id": "0bc92563-1b5e-4b47-9a3c-5365efe827b3",
   "metadata": {},
   "outputs": [
    {
     "data": {
      "text/plain": [
       "(3, 4, 3, 4, 3, 4)"
      ]
     },
     "execution_count": 31,
     "metadata": {},
     "output_type": "execute_result"
    }
   ],
   "source": [
    "t4 = t2 * 3\n",
    "t4"
   ]
  },
  {
   "cell_type": "code",
   "execution_count": 33,
   "id": "a64af4eb-1223-4f53-a168-55f4424d66b4",
   "metadata": {},
   "outputs": [
    {
     "data": {
      "text/plain": [
       "6"
      ]
     },
     "execution_count": 33,
     "metadata": {},
     "output_type": "execute_result"
    }
   ],
   "source": [
    "len(t4)"
   ]
  },
  {
   "cell_type": "markdown",
   "id": "0c8627e2-d79a-4a92-b693-9937427a95bc",
   "metadata": {},
   "source": [
    "# 딕셔너리 자료형\n",
    "- Key 와 Value 의 쌍 으로 되어있고 기호는 { Key : Value }\n",
    "- Key 가 같은 자료형 아니어도 가능"
   ]
  },
  {
   "cell_type": "code",
   "execution_count": 36,
   "id": "366f5f44-da24-4f23-87be-93373572e2ea",
   "metadata": {},
   "outputs": [
    {
     "data": {
      "text/plain": [
       "{1: 'a', 2: 'b', 'name': 'pey', 3: [1, 2, 3]}"
      ]
     },
     "execution_count": 36,
     "metadata": {},
     "output_type": "execute_result"
    }
   ],
   "source": [
    "a = {1: 'a', 2: 'b', 'name': 'pey', 3: [1, 2, 3] }\n",
    "a"
   ]
  },
  {
   "cell_type": "code",
   "execution_count": 42,
   "id": "f73881e3-6b27-46a6-80df-c025cd5cd5e1",
   "metadata": {},
   "outputs": [
    {
     "data": {
      "text/plain": [
       "10"
      ]
     },
     "execution_count": 42,
     "metadata": {},
     "output_type": "execute_result"
    }
   ],
   "source": [
    "# Key를 사용해 Value얻기\n",
    "grade = {'pey' : 10, 'julliet': 99 }\n",
    "grade['pey']"
   ]
  },
  {
   "cell_type": "code",
   "execution_count": 46,
   "id": "f3aa7e10-666b-494a-903e-357f4208d4a8",
   "metadata": {},
   "outputs": [
    {
     "data": {
      "text/plain": [
       "'b'"
      ]
     },
     "execution_count": 46,
     "metadata": {},
     "output_type": "execute_result"
    }
   ],
   "source": [
    "a[2]"
   ]
  },
  {
   "cell_type": "code",
   "execution_count": 48,
   "id": "dfb8f829-ef17-434e-bb1f-a4c450dfe8ae",
   "metadata": {},
   "outputs": [
    {
     "data": {
      "text/plain": [
       "{1: 'd'}"
      ]
     },
     "execution_count": 48,
     "metadata": {},
     "output_type": "execute_result"
    }
   ],
   "source": [
    "# 딕셔너리 만들 때 주의할 사항\n",
    "# 동일한 Key가 중복으로 존재 할 수 없음\n",
    "a = {1: 'a', 1: 'd'}\n",
    "a"
   ]
  },
  {
   "cell_type": "code",
   "execution_count": 50,
   "id": "2f7fe55f-ce38-4fc2-b3c2-5a0aadbceb87",
   "metadata": {},
   "outputs": [
    {
     "ename": "TypeError",
     "evalue": "unhashable type: 'list'",
     "output_type": "error",
     "traceback": [
      "\u001b[1;31m---------------------------------------------------------------------------\u001b[0m",
      "\u001b[1;31mTypeError\u001b[0m                                 Traceback (most recent call last)",
      "Cell \u001b[1;32mIn[50], line 1\u001b[0m\n\u001b[1;32m----> 1\u001b[0m a \u001b[38;5;241m=\u001b[39m {[\u001b[38;5;241m1\u001b[39m, \u001b[38;5;241m2\u001b[39m] : \u001b[38;5;124m'\u001b[39m\u001b[38;5;124mhi\u001b[39m\u001b[38;5;124m'\u001b[39m}\n",
      "\u001b[1;31mTypeError\u001b[0m: unhashable type: 'list'"
     ]
    }
   ],
   "source": [
    "a = {[1, 2] : 'hi'}"
   ]
  },
  {
   "cell_type": "code",
   "execution_count": 52,
   "id": "9481832c-fa6c-4267-8f47-52199032f5dc",
   "metadata": {},
   "outputs": [
    {
     "data": {
      "text/plain": [
       "{(1, 2): 'hi'}"
      ]
     },
     "execution_count": 52,
     "metadata": {},
     "output_type": "execute_result"
    }
   ],
   "source": [
    "a = { (1, 2) : 'hi' }\n",
    "a"
   ]
  },
  {
   "cell_type": "code",
   "execution_count": 60,
   "id": "7726e611-de7f-47af-baa9-3c6bc8df93ce",
   "metadata": {},
   "outputs": [
    {
     "data": {
      "text/plain": [
       "dict_keys(['name', 'phone', 'birth'])"
      ]
     },
     "execution_count": 60,
     "metadata": {},
     "output_type": "execute_result"
    }
   ],
   "source": [
    "# 중요: key 리스트 만들기\n",
    "a = {'name': 'pey', 'phone': '010-9999-1234',  'birth': '0826'}\n",
    "a.keys()   # dict_keys  객체 리턴\n"
   ]
  },
  {
   "cell_type": "code",
   "execution_count": 66,
   "id": "493ba44d-80db-46bb-a834-bf6cf1d22a7d",
   "metadata": {},
   "outputs": [
    {
     "data": {
      "text/plain": [
       "'pey'"
      ]
     },
     "execution_count": 66,
     "metadata": {},
     "output_type": "execute_result"
    }
   ],
   "source": [
    "a['name']"
   ]
  },
  {
   "cell_type": "code",
   "execution_count": 62,
   "id": "c78b518d-78f0-4a30-9339-097396734f3d",
   "metadata": {},
   "outputs": [
    {
     "name": "stdout",
     "output_type": "stream",
     "text": [
      "name\n",
      "phone\n",
      "birth\n"
     ]
    }
   ],
   "source": [
    "for k in a.keys():\n",
    "    print(k)\n",
    "    "
   ]
  },
  {
   "cell_type": "code",
   "execution_count": 64,
   "id": "ffc9ddce-63f4-4530-83d0-cee812a9497b",
   "metadata": {},
   "outputs": [
    {
     "data": {
      "text/plain": [
       "['name', 'phone', 'birth']"
      ]
     },
     "execution_count": 64,
     "metadata": {},
     "output_type": "execute_result"
    }
   ],
   "source": [
    "list(a.keys())"
   ]
  },
  {
   "cell_type": "code",
   "execution_count": 68,
   "id": "bb2b9e69-9f2f-4d92-90d7-4114d7fdce41",
   "metadata": {},
   "outputs": [
    {
     "data": {
      "text/plain": [
       "dict_values(['pey', '010-9999-1234', '0826'])"
      ]
     },
     "execution_count": 68,
     "metadata": {},
     "output_type": "execute_result"
    }
   ],
   "source": [
    "a.values()  # dict_values 객체 리턴"
   ]
  },
  {
   "cell_type": "code",
   "execution_count": 70,
   "id": "aca75fdb-c176-4f38-b27e-a9384edad3c8",
   "metadata": {},
   "outputs": [
    {
     "data": {
      "text/plain": [
       "dict_items([('name', 'pey'), ('phone', '010-9999-1234'), ('birth', '0826')])"
      ]
     },
     "execution_count": 70,
     "metadata": {},
     "output_type": "execute_result"
    }
   ],
   "source": [
    "a.items()  # dict_items 객체 리턴"
   ]
  },
  {
   "cell_type": "code",
   "execution_count": 72,
   "id": "d264b841-629d-48a4-a2b2-a20c7065c279",
   "metadata": {},
   "outputs": [
    {
     "data": {
      "text/plain": [
       "{'name': 'pey', 'phone': '010-9999-1234', 'birth': '0826'}"
      ]
     },
     "execution_count": 72,
     "metadata": {},
     "output_type": "execute_result"
    }
   ],
   "source": [
    "a"
   ]
  },
  {
   "cell_type": "code",
   "execution_count": 78,
   "id": "d5c30fb3-3b7d-461c-bfe2-b266546cf79e",
   "metadata": {},
   "outputs": [
    {
     "data": {
      "text/plain": [
       "False"
      ]
     },
     "execution_count": 78,
     "metadata": {},
     "output_type": "execute_result"
    }
   ],
   "source": [
    "# 중요 : 해당 Key값이 딕셔너리 안에 있는지 여부  -  in\n",
    "'email' in a"
   ]
  },
  {
   "cell_type": "code",
   "execution_count": 80,
   "id": "ee325ed8-ce3b-4df4-96f5-951f0e0aa50a",
   "metadata": {},
   "outputs": [
    {
     "data": {
      "text/plain": [
       "'pey'"
      ]
     },
     "execution_count": 80,
     "metadata": {},
     "output_type": "execute_result"
    }
   ],
   "source": [
    "a.get('name')"
   ]
  },
  {
   "cell_type": "code",
   "execution_count": 84,
   "id": "7c0eb7db-1ae1-47d4-8aa8-d447a60951e2",
   "metadata": {},
   "outputs": [
    {
     "ename": "KeyError",
     "evalue": "'nokey'",
     "output_type": "error",
     "traceback": [
      "\u001b[1;31m---------------------------------------------------------------------------\u001b[0m",
      "\u001b[1;31mKeyError\u001b[0m                                  Traceback (most recent call last)",
      "Cell \u001b[1;32mIn[84], line 1\u001b[0m\n\u001b[1;32m----> 1\u001b[0m a[\u001b[38;5;124m'\u001b[39m\u001b[38;5;124mnokey\u001b[39m\u001b[38;5;124m'\u001b[39m]\n",
      "\u001b[1;31mKeyError\u001b[0m: 'nokey'"
     ]
    }
   ],
   "source": [
    "a['nokey']"
   ]
  },
  {
   "cell_type": "code",
   "execution_count": 86,
   "id": "4484c2c8-852a-4828-aa38-327bd3b8ae06",
   "metadata": {},
   "outputs": [
    {
     "data": {
      "text/plain": [
       "'foo'"
      ]
     },
     "execution_count": 86,
     "metadata": {},
     "output_type": "execute_result"
    }
   ],
   "source": [
    "a.get('nokey', 'foo')  # get 함수는 키값이 없을때 기본값 지정가능"
   ]
  },
  {
   "cell_type": "code",
   "execution_count": 90,
   "id": "d4f07e55-730e-491d-aa2f-bf8d6199469e",
   "metadata": {},
   "outputs": [
    {
     "data": {
      "text/plain": [
       "str"
      ]
     },
     "execution_count": 90,
     "metadata": {},
     "output_type": "execute_result"
    }
   ],
   "source": [
    "type('nokey')"
   ]
  },
  {
   "cell_type": "code",
   "execution_count": 92,
   "id": "bc41a77f-8301-473b-8f81-cee9abd891f3",
   "metadata": {},
   "outputs": [
    {
     "name": "stdout",
     "output_type": "stream",
     "text": [
      "{'name': 'pey', 'phone': '010-9999-1234', 'birth': '0826'}\n"
     ]
    }
   ],
   "source": [
    "print(a)"
   ]
  },
  {
   "cell_type": "code",
   "execution_count": 96,
   "id": "86c6f859-1f21-4b68-b7d3-75e0d81e958a",
   "metadata": {},
   "outputs": [
    {
     "data": {
      "text/plain": [
       "{'name': 'pey', 'phone': '010-9999-1234', 'birth': '0826', 101: '사과', 102: '배'}"
      ]
     },
     "execution_count": 96,
     "metadata": {},
     "output_type": "execute_result"
    }
   ],
   "source": [
    "b = {101: '사과', 102: '배'}\n",
    "a.update(b)\n",
    "a"
   ]
  },
  {
   "cell_type": "code",
   "execution_count": 102,
   "id": "3bf1b470-3fb0-42f9-b8b0-b8305e304afd",
   "metadata": {},
   "outputs": [
    {
     "name": "stdout",
     "output_type": "stream",
     "text": [
      "{'sanitizer': '살균제', 'ambition': '야망', 'conscience': '양심', 'civilization': '문명'}\n",
      "{'sanitizer': '살균제', 'ambition': '야망', 'conscience': '양심', 'civilization': '문명', 'privilege': '특권', 'principle': '원칙'}\n"
     ]
    }
   ],
   "source": [
    "# 딕셔너리 이용한 사전 문제\n",
    "# 1. 단어장 만들기\n",
    "vocab = {\n",
    "    # 여기에 코드를 작성하세요\n",
    "    'sanitizer': '살균제', \n",
    "    'ambition': '야망', \n",
    "    'conscience': '양심', \n",
    "    'civilization': '문명'\n",
    "}    \n",
    "print(vocab)\n",
    "\n",
    "# 2. 새로운 단어들 추가\n",
    "# 여기에 코드를 작성하세요\n",
    "vocab['privilege']  = '특권'\n",
    "vocab['principle']  = '원칙'\n",
    "print(vocab)"
   ]
  },
  {
   "cell_type": "markdown",
   "id": "d67309d7-f538-4f14-af0d-a0d2d9ad045a",
   "metadata": {},
   "source": [
    "##  문자열, 리스트, 딕셔너리 자료형은 데이터 처리를 할때\n",
    "##  특히 많이 사용되므로 반드시 잘 알아야합니다.\n",
    "# 집합 자료형 : set\n",
    "- 중복을 허용하지 않음\n",
    "- 순서가 없음(Unordered): 인덱싱 불가 - 필요하다면  리스트나 튜플로 형변환 후 사용"
   ]
  },
  {
   "cell_type": "code",
   "execution_count": 106,
   "id": "2132aa18-cd43-481a-879f-5c3143acdc24",
   "metadata": {},
   "outputs": [
    {
     "data": {
      "text/plain": [
       "{1, 2, 3, 4}"
      ]
     },
     "execution_count": 106,
     "metadata": {},
     "output_type": "execute_result"
    }
   ],
   "source": [
    "s1 = set([1, 2, 3])\n",
    "# 추가\n",
    "s1.add(4)\n",
    "s1"
   ]
  },
  {
   "cell_type": "code",
   "execution_count": 108,
   "id": "6c47638b-a55d-4086-89c1-30f75dbb0277",
   "metadata": {},
   "outputs": [
    {
     "data": {
      "text/plain": [
       "{1, 2, 3, 4, 5, 6}"
      ]
     },
     "execution_count": 108,
     "metadata": {},
     "output_type": "execute_result"
    }
   ],
   "source": [
    "s1.update([4, 5, 6])\n",
    "s1"
   ]
  },
  {
   "cell_type": "code",
   "execution_count": 110,
   "id": "9940c6bc-3d88-41c2-9cf4-fc2cd5f130be",
   "metadata": {},
   "outputs": [
    {
     "data": {
      "text/plain": [
       "{1, 3, 4, 5, 6}"
      ]
     },
     "execution_count": 110,
     "metadata": {},
     "output_type": "execute_result"
    }
   ],
   "source": [
    "s1.remove(2)\n",
    "s1"
   ]
  },
  {
   "cell_type": "code",
   "execution_count": 112,
   "id": "cc0ea131-8d68-4cae-8d8d-64e462407f33",
   "metadata": {},
   "outputs": [],
   "source": [
    "s1 = set([1,2,3,4,5,6])\n",
    "s2 = {4,5,6,7,8,9}"
   ]
  },
  {
   "cell_type": "code",
   "execution_count": 122,
   "id": "a58dadf2-08ae-4faf-bb99-4530bb62ac15",
   "metadata": {},
   "outputs": [
    {
     "data": {
      "text/plain": [
       "{1, 2, 3}"
      ]
     },
     "execution_count": 122,
     "metadata": {},
     "output_type": "execute_result"
    }
   ],
   "source": [
    "# 교집합 &, 합집합 |, 차집합 - \n",
    "s1 - s2"
   ]
  },
  {
   "cell_type": "code",
   "execution_count": 124,
   "id": "3a581333-e643-4839-9ae4-4c6c5085981c",
   "metadata": {},
   "outputs": [
    {
     "data": {
      "text/plain": [
       "{1, 2, 3}"
      ]
     },
     "execution_count": 124,
     "metadata": {},
     "output_type": "execute_result"
    }
   ],
   "source": [
    "# 교집합 : intersection, 합집합: union , 차집합: difference\n",
    "s1.difference(s2)"
   ]
  },
  {
   "cell_type": "code",
   "execution_count": 126,
   "id": "02320c49-8107-4b93-9640-764559e8e49c",
   "metadata": {},
   "outputs": [
    {
     "data": {
      "text/plain": [
       "'python'"
      ]
     },
     "execution_count": 126,
     "metadata": {},
     "output_type": "execute_result"
    }
   ],
   "source": [
    "# 튜플 변수\n",
    "a, b = ('python', 'java')\n",
    "a"
   ]
  },
  {
   "cell_type": "code",
   "execution_count": 128,
   "id": "44f3d961-501d-4865-a796-278692f5d892",
   "metadata": {},
   "outputs": [
    {
     "data": {
      "text/plain": [
       "'notebook'"
      ]
     },
     "execution_count": 128,
     "metadata": {},
     "output_type": "execute_result"
    }
   ],
   "source": [
    "(a, b) = 'jupyter', 'notebook'  # 튜플 괄호 생략 가능\n",
    "b"
   ]
  },
  {
   "cell_type": "code",
   "execution_count": 130,
   "id": "5d98a044-fc80-43cd-8372-408137a9a37d",
   "metadata": {},
   "outputs": [
    {
     "data": {
      "text/plain": [
       "'python'"
      ]
     },
     "execution_count": 130,
     "metadata": {},
     "output_type": "execute_result"
    }
   ],
   "source": [
    "[a, b] = ['python', 'life']\n",
    "a"
   ]
  },
  {
   "cell_type": "code",
   "execution_count": 132,
   "id": "13995f03-c610-4631-88ed-015bae1ae073",
   "metadata": {},
   "outputs": [
    {
     "data": {
      "text/plain": [
       "'life'"
      ]
     },
     "execution_count": 132,
     "metadata": {},
     "output_type": "execute_result"
    }
   ],
   "source": [
    "b"
   ]
  },
  {
   "cell_type": "code",
   "execution_count": 134,
   "id": "a27f4ceb-4d67-42b4-8a29-cf1450c7e0f3",
   "metadata": {},
   "outputs": [
    {
     "data": {
      "text/plain": [
       "0"
      ]
     },
     "execution_count": 134,
     "metadata": {},
     "output_type": "execute_result"
    }
   ],
   "source": [
    "a = b = 0  # 여러개 변수에 같은 값 한줄로 대입가능\n",
    "b"
   ]
  },
  {
   "cell_type": "code",
   "execution_count": 136,
   "id": "5c464416-02e1-43f8-805a-0a75cb68e253",
   "metadata": {},
   "outputs": [
    {
     "data": {
      "text/plain": [
       "0"
      ]
     },
     "execution_count": 136,
     "metadata": {},
     "output_type": "execute_result"
    }
   ],
   "source": [
    "a"
   ]
  },
  {
   "cell_type": "code",
   "execution_count": 138,
   "id": "92f83420-bf66-42cd-8e0d-94f25ce43a98",
   "metadata": {},
   "outputs": [
    {
     "data": {
      "text/plain": [
       "3"
      ]
     },
     "execution_count": 138,
     "metadata": {},
     "output_type": "execute_result"
    }
   ],
   "source": [
    "a = 3\n",
    "b = 5\n",
    "\n",
    "a, b = b, a   # 한줄로 값을 바꿀수 있음\n",
    "b"
   ]
  },
  {
   "cell_type": "code",
   "execution_count": 140,
   "id": "2f187bde-9d60-49cc-a109-1bcd675b3efb",
   "metadata": {},
   "outputs": [
    {
     "data": {
      "text/plain": [
       "5"
      ]
     },
     "execution_count": 140,
     "metadata": {},
     "output_type": "execute_result"
    }
   ],
   "source": [
    "a"
   ]
  },
  {
   "cell_type": "code",
   "execution_count": null,
   "id": "6fb74a13-1efa-469e-b9a8-b0cefb1ca6ec",
   "metadata": {},
   "outputs": [],
   "source": []
  }
 ],
 "metadata": {
  "kernelspec": {
   "display_name": "Python 3 (ipykernel)",
   "language": "python",
   "name": "python3"
  },
  "language_info": {
   "codemirror_mode": {
    "name": "ipython",
    "version": 3
   },
   "file_extension": ".py",
   "mimetype": "text/x-python",
   "name": "python",
   "nbconvert_exporter": "python",
   "pygments_lexer": "ipython3",
   "version": "3.12.4"
  }
 },
 "nbformat": 4,
 "nbformat_minor": 5
}
